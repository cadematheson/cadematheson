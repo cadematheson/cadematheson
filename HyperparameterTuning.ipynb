{
  "cells": [
    {
      "cell_type": "markdown",
      "id": "3bbc8b4e-ba35-41f2-a813-5610b078bbb8",
      "metadata": {
        "id": "3bbc8b4e-ba35-41f2-a813-5610b078bbb8"
      },
      "source": [
        "# Homework 2: Model Tuning"
      ]
    },
    {
      "cell_type": "markdown",
      "id": "9d34fa4a-8a02-44f7-b2ca-4601ced77d2b",
      "metadata": {
        "id": "9d34fa4a-8a02-44f7-b2ca-4601ced77d2b"
      },
      "source": [
        "A recently released dataset explored 21B friendships on Facebook to identify characteristics associated with social and economic mobility. A strong indicator for this was the *economic connectedness* of an individual, the percentage of high income connections they had.\n",
        "\n",
        "In this dataset, we have average economic connectedness at the county level as well as a large number of characteristics about the county. We want to construct a model to effectively predict the economic connectedness (`ec_county`) given the other characteristics. An effective model here would begin to show us other important factors in social mobility.\n",
        "\n",
        "Construct a model (including tuning) and interpret your results.\n",
        "\n",
        "Dataset used:\n",
        "\n",
        "`county_level_ec_neighborhood.csv`"
      ]
    },
    {
      "cell_type": "code",
      "execution_count": null,
      "id": "44bfbe9e-38b0-4d8c-9cef-b09cd963c0e1",
      "metadata": {
        "id": "44bfbe9e-38b0-4d8c-9cef-b09cd963c0e1"
      },
      "outputs": [],
      "source": [
        "import pandas as pd\n",
        "import numpy as np\n",
        "import keras \n",
        "from keras import layers"
      ]
    },
    {
      "cell_type": "code",
      "source": [
        "soc = pd.read_csv(\"county_level_ec_neighborhood.csv\")"
      ],
      "metadata": {
        "id": "L6r4neu_7P9-"
      },
      "id": "L6r4neu_7P9-",
      "execution_count": null,
      "outputs": []
    },
    {
      "cell_type": "code",
      "source": [
        "soc.dropna(inplace=True)"
      ],
      "metadata": {
        "id": "HSgk1Fjm7Xuk"
      },
      "id": "HSgk1Fjm7Xuk",
      "execution_count": null,
      "outputs": []
    },
    {
      "cell_type": "code",
      "source": [
        "soc.shape"
      ],
      "metadata": {
        "id": "IE49QmmN7Y7F",
        "colab": {
          "base_uri": "https://localhost:8080/"
        },
        "outputId": "e9e94d3d-576a-467b-9c48-5206cee34c95"
      },
      "id": "IE49QmmN7Y7F",
      "execution_count": null,
      "outputs": [
        {
          "output_type": "execute_result",
          "data": {
            "text/plain": [
              "(2090, 34)"
            ]
          },
          "metadata": {},
          "execution_count": 6
        }
      ]
    },
    {
      "cell_type": "code",
      "source": [
        "soc['ec_county']"
      ],
      "metadata": {
        "id": "LQwZwr3G7wOg",
        "colab": {
          "base_uri": "https://localhost:8080/"
        },
        "outputId": "e2cf0880-3b6d-4551-87d5-6d261ffc5ff5"
      },
      "id": "LQwZwr3G7wOg",
      "execution_count": null,
      "outputs": [
        {
          "output_type": "execute_result",
          "data": {
            "text/plain": [
              "0       0.72077\n",
              "1       0.74313\n",
              "2       0.41366\n",
              "3       0.63152\n",
              "4       0.72562\n",
              "         ...   \n",
              "2796    0.83568\n",
              "2798    0.89207\n",
              "2802    0.73936\n",
              "2805    0.79977\n",
              "2807    0.83430\n",
              "Name: ec_county, Length: 2090, dtype: float64"
            ]
          },
          "metadata": {},
          "execution_count": 7
        }
      ]
    },
    {
      "cell_type": "code",
      "source": [
        "X = soc.drop(['county_x', 'county_name','ec_county'], axis = 1)\n",
        "\n",
        "y = soc[['ec_county']]"
      ],
      "metadata": {
        "id": "XMYipy338HB4"
      },
      "id": "XMYipy338HB4",
      "execution_count": null,
      "outputs": []
    },
    {
      "cell_type": "code",
      "source": [
        "X.shape"
      ],
      "metadata": {
        "id": "ncX4QNPh-GXg",
        "colab": {
          "base_uri": "https://localhost:8080/"
        },
        "outputId": "96a6581a-3695-4b1d-a844-d13b10b9cb8b"
      },
      "id": "ncX4QNPh-GXg",
      "execution_count": null,
      "outputs": [
        {
          "output_type": "execute_result",
          "data": {
            "text/plain": [
              "(2090, 31)"
            ]
          },
          "metadata": {},
          "execution_count": 9
        }
      ]
    },
    {
      "cell_type": "code",
      "source": [
        "from sklearn.ensemble import RandomForestRegressor"
      ],
      "metadata": {
        "id": "ybNuTHrU7pyL"
      },
      "id": "ybNuTHrU7pyL",
      "execution_count": null,
      "outputs": []
    },
    {
      "cell_type": "code",
      "source": [
        "from sklearn.model_selection import train_test_split\n",
        "X_train, X_test, y_train, y_test = train_test_split(X, y, test_size=0.15, random_state=24)"
      ],
      "metadata": {
        "id": "obohYVqx76qH"
      },
      "id": "obohYVqx76qH",
      "execution_count": null,
      "outputs": []
    },
    {
      "cell_type": "code",
      "source": [
        "X_train, X_val, y_train, y_val = train_test_split(X, y, test_size=0.15, random_state=24)"
      ],
      "metadata": {
        "id": "z6-ilQTI2Qgz"
      },
      "id": "z6-ilQTI2Qgz",
      "execution_count": null,
      "outputs": []
    },
    {
      "cell_type": "code",
      "source": [
        "clf = RandomForestRegressor(oob_score = True).fit(X_train, y_train)"
      ],
      "metadata": {
        "id": "xxWWrlZA8plD",
        "colab": {
          "base_uri": "https://localhost:8080/"
        },
        "outputId": "dba9b8dd-32c7-4661-9955-c731f33b2ef2"
      },
      "id": "xxWWrlZA8plD",
      "execution_count": null,
      "outputs": [
        {
          "output_type": "stream",
          "name": "stderr",
          "text": [
            "<ipython-input-13-8657cab46371>:1: DataConversionWarning: A column-vector y was passed when a 1d array was expected. Please change the shape of y to (n_samples,), for example using ravel().\n",
            "  clf = RandomForestRegressor(oob_score = True).fit(X_train, y_train)\n"
          ]
        }
      ]
    },
    {
      "cell_type": "code",
      "source": [
        "clf.oob_score_"
      ],
      "metadata": {
        "id": "OGXnunk69C8s",
        "colab": {
          "base_uri": "https://localhost:8080/"
        },
        "outputId": "30951bde-1896-401c-fc8d-9807dc70c35d"
      },
      "id": "OGXnunk69C8s",
      "execution_count": null,
      "outputs": [
        {
          "output_type": "execute_result",
          "data": {
            "text/plain": [
              "0.8057067092986272"
            ]
          },
          "metadata": {},
          "execution_count": 14
        }
      ]
    },
    {
      "cell_type": "code",
      "source": [
        "import matplotlib.pyplot as plt\n",
        "%matplotlib inline\n",
        "\n",
        "plt.scatter(clf.predict(X_test), y_test)"
      ],
      "metadata": {
        "id": "9pcexN2D-W8y",
        "colab": {
          "base_uri": "https://localhost:8080/",
          "height": 282
        },
        "outputId": "74155bc2-89e2-4d20-fc34-dc5b3afb506a"
      },
      "id": "9pcexN2D-W8y",
      "execution_count": null,
      "outputs": [
        {
          "output_type": "execute_result",
          "data": {
            "text/plain": [
              "<matplotlib.collections.PathCollection at 0x7f149b44d1f0>"
            ]
          },
          "metadata": {},
          "execution_count": 15
        },
        {
          "output_type": "display_data",
          "data": {
            "text/plain": [
              "<Figure size 432x288 with 1 Axes>"
            ],
            "image/png": "[encoded data removed]"
          },
          "metadata": {
            "needs_background": "light"
          }
        }
      ]
    },
    {
      "cell_type": "code",
      "source": [
        "import numpy as np\n",
        "X_train = np.array(X_train)\n",
        "X_train"
      ],
      "metadata": {
        "id": "fV3I7jaN-SCU",
        "colab": {
          "base_uri": "https://localhost:8080/"
        },
        "outputId": "38d1d383-39ba-440d-a61e-24d54245052a"
      },
      "id": "fV3I7jaN-SCU",
      "execution_count": null,
      "outputs": [
        {
          "output_type": "execute_result",
          "data": {
            "text/plain": [
              "array([[7.9150219e+04, 2.1731945e+01, 3.1230697e-01, ..., 8.3696826e+02,\n",
              "        1.3480644e-02, 5.2859790e+02],\n",
              "       [9.7676859e+04, 2.6219418e+01, 3.9626497e-01, ..., 8.2594257e+02,\n",
              "        2.7757755e-02, 6.0410925e+02],\n",
              "       [6.2728117e+04, 2.3784027e+01, 1.5488046e-01, ..., 3.6770225e+00,\n",
              "        8.9014760e-03, 1.9689051e+00],\n",
              "       ...,\n",
              "       [9.5677375e+04, 3.4891159e+01, 1.9047344e-01, ..., 3.7100491e+02,\n",
              "        1.9884517e-02, 2.9397504e+02],\n",
              "       [9.3622109e+04, 2.9099094e+01, 3.0513936e-01, ..., 1.2738395e+03,\n",
              "        4.5897460e-03, 6.8834375e+02],\n",
              "       [6.5680813e+04, 2.3720495e+01, 1.5630737e-01, ..., 2.2377888e+02,\n",
              "        1.5193356e-02, 1.3801863e+02]])"
            ]
          },
          "metadata": {},
          "execution_count": 16
        }
      ]
    },
    {
      "cell_type": "code",
      "source": [
        "y_train = np.array(y_train)\n",
        "X_test = np.array(X_test)\n",
        "y_test = np.array(y_test)"
      ],
      "metadata": {
        "id": "tEzb3Lir-arM"
      },
      "id": "tEzb3Lir-arM",
      "execution_count": null,
      "outputs": []
    },
    {
      "cell_type": "code",
      "source": [
        "from keras.models import Sequential\n",
        "from keras.layers import Dense\n",
        "from keras.optimizers import SGD, Adam"
      ],
      "metadata": {
        "id": "QnbdnZeezfvQ"
      },
      "id": "QnbdnZeezfvQ",
      "execution_count": null,
      "outputs": []
    },
    {
      "cell_type": "code",
      "source": [
        "from keras.optimizers.optimizer_v2.optimizer_v2 import learning_rate_schedule\n",
        "nodes_list = [32,64,128]\n",
        "batch_sizes = [20,100,500]\n",
        "lrs = [.01,.001,.0001]\n",
        "dropouts = [.1,.2,.4]\n",
        "activations = ['sigmoid','relu']\n",
        "\n",
        "for dropout in dropouts:\n",
        "  for batch_size in batch_sizes:\n",
        "    for lr in lrs:\n",
        "      for nodes in nodes_list:\n",
        "        for activation in activations:\n",
        "          model = Sequential()\n",
        "          model.add(Dense(nodes, activation=activation, input_shape=(X_train.shape[1],)))\n",
        "          model.add(Dense(nodes, activation=activation))\n",
        "          model.add(Dense(1, activation='linear'))\n",
        "\n",
        "          # Compile the model\n",
        "          model.compile(loss='mse',\n",
        "                        optimizer=keras.optimizers.Adam(lr=lr),\n",
        "                        metrics=['mse'])\n",
        "\n",
        "          # Train the model\n",
        "          history = model.fit(X_train, y_train,\n",
        "                              batch_size=batch_size,\n",
        "                              epochs=10,\n",
        "                              verbose=1,\n",
        "                              validation_data=(X_test, y_test))\n",
        "          test_loss, test_acc = model.evaluate(x_val, y_test, verbose=0)\n",
        "\n",
        "          print(\"dropout:\", dropout, \"batch_size:\", batch_size, \"lr:\", lr, \"nodes:\", nodes, \"activation:\", activation, )\n"
      ],
      "metadata": {
        "id": "pL7fJwZS-rkL",
        "colab": {
          "base_uri": "https://localhost:8080/",
          "height": 617
        },
        "outputId": "c3fcf01f-9362-4cff-95a3-d1b6d8093e0d"
      },
      "id": "pL7fJwZS-rkL",
      "execution_count": null,
      "outputs": [
        {
          "output_type": "stream",
          "name": "stderr",
          "text": [
            "/usr/local/lib/python3.8/dist-packages/keras/optimizers/optimizer_v2/adam.py:110: UserWarning: The `lr` argument is deprecated, use `learning_rate` instead.\n",
            "  super(Adam, self).__init__(name, **kwargs)\n"
          ]
        },
        {
          "output_type": "stream",
          "name": "stdout",
          "text": [
            "Epoch 1/10\n",
            "89/89 [==============================] - 1s 5ms/step - loss: 0.0400 - mse: 0.0400 - val_loss: 0.0217 - val_mse: 0.0217\n",
            "Epoch 2/10\n",
            "89/89 [==============================] - 0s 3ms/step - loss: 0.0318 - mse: 0.0318 - val_loss: 0.0293 - val_mse: 0.0293\n",
            "Epoch 3/10\n",
            "89/89 [==============================] - 0s 2ms/step - loss: 0.0352 - mse: 0.0352 - val_loss: 0.0306 - val_mse: 0.0306\n",
            "Epoch 4/10\n",
            "89/89 [==============================] - 0s 3ms/step - loss: 0.0360 - mse: 0.0360 - val_loss: 0.0301 - val_mse: 0.0301\n",
            "Epoch 5/10\n",
            "89/89 [==============================] - 0s 3ms/step - loss: 0.0328 - mse: 0.0328 - val_loss: 0.0293 - val_mse: 0.0293\n",
            "Epoch 6/10\n",
            "89/89 [==============================] - 0s 3ms/step - loss: 0.0318 - mse: 0.0318 - val_loss: 0.0418 - val_mse: 0.0418\n",
            "Epoch 7/10\n",
            "89/89 [==============================] - 0s 3ms/step - loss: 0.0313 - mse: 0.0313 - val_loss: 0.0289 - val_mse: 0.0289\n",
            "Epoch 8/10\n",
            "89/89 [==============================] - 0s 2ms/step - loss: 0.0312 - mse: 0.0312 - val_loss: 0.0295 - val_mse: 0.0295\n",
            "Epoch 9/10\n",
            "89/89 [==============================] - 0s 3ms/step - loss: 0.0313 - mse: 0.0313 - val_loss: 0.0308 - val_mse: 0.0308\n",
            "Epoch 10/10\n",
            "89/89 [==============================] - 0s 3ms/step - loss: 0.0315 - mse: 0.0315 - val_loss: 0.0284 - val_mse: 0.0284\n"
          ]
        },
        {
          "output_type": "error",
          "ename": "NameError",
          "evalue": "ignored",
          "traceback": [
            "\u001b[0;31m---------------------------------------------------------------------------\u001b[0m",
            "\u001b[0;31mNameError\u001b[0m                                 Traceback (most recent call last)",
            "\u001b[0;32m<ipython-input-19-e2222fe540f9>\u001b[0m in \u001b[0;36m<module>\u001b[0;34m\u001b[0m\n\u001b[1;32m     27\u001b[0m                               \u001b[0mverbose\u001b[0m\u001b[0;34m=\u001b[0m\u001b[0;36m1\u001b[0m\u001b[0;34m,\u001b[0m\u001b[0;34m\u001b[0m\u001b[0;34m\u001b[0m\u001b[0m\n\u001b[1;32m     28\u001b[0m                               validation_data=(X_test, y_test))\n\u001b[0;32m---> 29\u001b[0;31m           \u001b[0mtest_loss\u001b[0m\u001b[0;34m,\u001b[0m \u001b[0mtest_acc\u001b[0m \u001b[0;34m=\u001b[0m \u001b[0mmodel\u001b[0m\u001b[0;34m.\u001b[0m\u001b[0mevaluate\u001b[0m\u001b[0;34m(\u001b[0m\u001b[0mx_val\u001b[0m\u001b[0;34m,\u001b[0m \u001b[0my_test\u001b[0m\u001b[0;34m,\u001b[0m \u001b[0mverbose\u001b[0m\u001b[0;34m=\u001b[0m\u001b[0;36m0\u001b[0m\u001b[0;34m)\u001b[0m\u001b[0;34m\u001b[0m\u001b[0;34m\u001b[0m\u001b[0m\n\u001b[0m\u001b[1;32m     30\u001b[0m \u001b[0;34m\u001b[0m\u001b[0m\n\u001b[1;32m     31\u001b[0m           \u001b[0mprint\u001b[0m\u001b[0;34m(\u001b[0m\u001b[0;34m\"dropout:\"\u001b[0m\u001b[0;34m,\u001b[0m \u001b[0mdropout\u001b[0m\u001b[0;34m,\u001b[0m \u001b[0;34m\"batch_size:\"\u001b[0m\u001b[0;34m,\u001b[0m \u001b[0mbatch_size\u001b[0m\u001b[0;34m,\u001b[0m \u001b[0;34m\"lr:\"\u001b[0m\u001b[0;34m,\u001b[0m \u001b[0mlr\u001b[0m\u001b[0;34m,\u001b[0m \u001b[0;34m\"nodes:\"\u001b[0m\u001b[0;34m,\u001b[0m \u001b[0mnodes\u001b[0m\u001b[0;34m,\u001b[0m \u001b[0;34m\"activation:\"\u001b[0m\u001b[0;34m,\u001b[0m \u001b[0mactivation\u001b[0m\u001b[0;34m,\u001b[0m \u001b[0;34m)\u001b[0m\u001b[0;34m\u001b[0m\u001b[0;34m\u001b[0m\u001b[0m\n",
            "\u001b[0;31mNameError\u001b[0m: name 'x_val' is not defined"
          ]
        }
      ]
    }
  ],
  "metadata": {
    "kernelspec": {
      "display_name": "Python 3 (ipykernel)",
      "language": "python",
      "name": "python3"
    },
    "language_info": {
      "codemirror_mode": {
        "name": "ipython",
        "version": 3
      },
      "file_extension": ".py",
      "mimetype": "text/x-python",
      "name": "python",
      "nbconvert_exporter": "python",
      "pygments_lexer": "ipython3",
      "version": "3.8.8"
    },
    "colab": {
      "provenance": []
    },
    "accelerator": "TPU",
    "gpuClass": "standard"
  },
  "nbformat": 4,
  "nbformat_minor": 5
}