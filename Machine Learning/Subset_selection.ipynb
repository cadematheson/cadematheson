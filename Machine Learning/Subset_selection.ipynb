{
 "cells": [
  {
   "cell_type": "markdown",
   "id": "882d368f-6805-459b-90a0-e09e6a02db7e",
   "metadata": {},
   "source": [
    "# Homework #4: Subset Selection and Shrinkage Methods"
   ]
  },
  {
   "cell_type": "markdown",
   "id": "a82c2516",
   "metadata": {},
   "source": [
    "## Background\n",
    "\n",
    "In car sales, one of the most critical metrics is the number of days a vehicle spends on the lot. Some estimates suggest that every day a vehicle spends on the lot will cost the dealership ~$10/day in depreciation and maintenance. Multiply that by the hundreds (or thousands) of vehicles a dealership may hold in inventory and this quickly becomes one of the largest costs. A dataset provided by DriveTime, contains vehicle information as well as the number of days it spent on the lot, our task is to find any relationships that may explain the increase or decrease in days to sell.\n",
    "\n",
    "### Relevant Datasets\n",
    "\n",
    "`drive_time_sedans.csv`\n",
    "\n",
    "Source: https://github.com/Fumanguyen/drivetime-sedans-used-vehicle-market/blob/master/drive_time_sedans.csv"
   ]
  },
  {
   "cell_type": "markdown",
   "id": "e17191a8-41de-41b4-ba98-6a4650f4d44a",
   "metadata": {},
   "source": [
    "## Task 1: Import the dataset and convert the categorical variables to dummy variables.\n",
    "\n",
    "**Important Note**: The tasks below can be very computationally intensive. If you don't want to wait a long time for things to run or you don't feel your computer is powerful to complete these tasks in a reasonable time, I suggest dropping the `make.model`, `state`, and/or `makex` variables. Your grade will not be based on the inclusion or exclusion of any variables, I'm more interested in the methods but if you have the resources and are curious to explore more, feel free to use all variables."
   ]
  },
  {
   "cell_type": "code",
   "execution_count": 36,
   "id": "0b14d960-5baa-44b2-b05e-4629b913074f",
   "metadata": {},
   "outputs": [],
   "source": [
    "import pandas as pd\n",
    "import matplotlib.pyplot as plt\n",
    "%matplotlib inline\n",
    "import statsmodels.api as sm\n",
    "import statsmodels.formula.api as smf\n",
    "import seaborn as sns\n",
    "import numpy as np\n",
    "import time\n",
    "import itertools\n",
    "from scipy.special import binom\n",
    "\n",
    "from sklearn.preprocessing import scale\n",
    "from sklearn.preprocessing import scale \n",
    "from sklearn import model_selection\n",
    "from sklearn.linear_model import LinearRegression, Ridge, RidgeCV, Lasso, LassoCV, ElasticNet\n",
    "from sklearn.metrics import mean_squared_error\n",
    "plt.style.use('seaborn-white')"
   ]
  },
  {
   "cell_type": "code",
   "execution_count": 2,
   "id": "f4c9e880",
   "metadata": {},
   "outputs": [
    {
     "data": {
      "text/html": [
       "<div>\n",
       "<style scoped>\n",
       "    .dataframe tbody tr th:only-of-type {\n",
       "        vertical-align: middle;\n",
       "    }\n",
       "\n",
       "    .dataframe tbody tr th {\n",
       "        vertical-align: top;\n",
       "    }\n",
       "\n",
       "    .dataframe thead th {\n",
       "        text-align: right;\n",
       "    }\n",
       "</style>\n",
       "<table border=\"1\" class=\"dataframe\">\n",
       "  <thead>\n",
       "    <tr style=\"text-align: right;\">\n",
       "      <th></th>\n",
       "      <th>data.set</th>\n",
       "      <th>total.cost</th>\n",
       "      <th>lot.sale.days</th>\n",
       "      <th>overage</th>\n",
       "      <th>mileage</th>\n",
       "      <th>vehicle.type</th>\n",
       "      <th>domestic.import</th>\n",
       "      <th>vehicle.age</th>\n",
       "      <th>vehicle.age.group</th>\n",
       "      <th>color.set</th>\n",
       "      <th>makex</th>\n",
       "      <th>state</th>\n",
       "      <th>make.model</th>\n",
       "    </tr>\n",
       "  </thead>\n",
       "  <tbody>\n",
       "    <tr>\n",
       "      <th>0</th>\n",
       "      <td>TRAIN</td>\n",
       "      <td>4037</td>\n",
       "      <td>135</td>\n",
       "      <td>YES</td>\n",
       "      <td>67341</td>\n",
       "      <td>FAMILY.LARGE</td>\n",
       "      <td>Domestic</td>\n",
       "      <td>8</td>\n",
       "      <td>SEVEN+</td>\n",
       "      <td>SILVER</td>\n",
       "      <td>BUICK</td>\n",
       "      <td>CA</td>\n",
       "      <td>BUICK.CENTURY</td>\n",
       "    </tr>\n",
       "    <tr>\n",
       "      <th>1</th>\n",
       "      <td>TRAIN</td>\n",
       "      <td>4662</td>\n",
       "      <td>18</td>\n",
       "      <td>NO</td>\n",
       "      <td>69384</td>\n",
       "      <td>FAMILY.SMALL</td>\n",
       "      <td>Import</td>\n",
       "      <td>4</td>\n",
       "      <td>FOUR</td>\n",
       "      <td>SILVER</td>\n",
       "      <td>MAZDA</td>\n",
       "      <td>TX</td>\n",
       "      <td>MAZDA.PROTEGE</td>\n",
       "    </tr>\n",
       "    <tr>\n",
       "      <th>2</th>\n",
       "      <td>TRAIN</td>\n",
       "      <td>4459</td>\n",
       "      <td>65</td>\n",
       "      <td>NO</td>\n",
       "      <td>58239</td>\n",
       "      <td>ECONOMY</td>\n",
       "      <td>Import</td>\n",
       "      <td>4</td>\n",
       "      <td>FOUR</td>\n",
       "      <td>RED</td>\n",
       "      <td>GEO</td>\n",
       "      <td>FL</td>\n",
       "      <td>GEO.METRO</td>\n",
       "    </tr>\n",
       "    <tr>\n",
       "      <th>3</th>\n",
       "      <td>TRAIN</td>\n",
       "      <td>4279</td>\n",
       "      <td>1</td>\n",
       "      <td>NO</td>\n",
       "      <td>58999</td>\n",
       "      <td>ECONOMY</td>\n",
       "      <td>Import</td>\n",
       "      <td>3</td>\n",
       "      <td>ONE-THREE</td>\n",
       "      <td>RED</td>\n",
       "      <td>KIA</td>\n",
       "      <td>TX</td>\n",
       "      <td>KIA.SEPHIA</td>\n",
       "    </tr>\n",
       "    <tr>\n",
       "      <th>4</th>\n",
       "      <td>TRAIN</td>\n",
       "      <td>4472</td>\n",
       "      <td>37</td>\n",
       "      <td>NO</td>\n",
       "      <td>47234</td>\n",
       "      <td>FAMILY.MEDIUM</td>\n",
       "      <td>Domestic</td>\n",
       "      <td>6</td>\n",
       "      <td>SIX</td>\n",
       "      <td>BLUE</td>\n",
       "      <td>MERCURY</td>\n",
       "      <td>NM</td>\n",
       "      <td>MERCURY.MYSTIQUE</td>\n",
       "    </tr>\n",
       "  </tbody>\n",
       "</table>\n",
       "</div>"
      ],
      "text/plain": [
       "  data.set  total.cost  lot.sale.days overage  mileage   vehicle.type  \\\n",
       "0    TRAIN        4037            135     YES    67341   FAMILY.LARGE   \n",
       "1    TRAIN        4662             18      NO    69384   FAMILY.SMALL   \n",
       "2    TRAIN        4459             65      NO    58239        ECONOMY   \n",
       "3    TRAIN        4279              1      NO    58999        ECONOMY   \n",
       "4    TRAIN        4472             37      NO    47234  FAMILY.MEDIUM   \n",
       "\n",
       "  domestic.import  vehicle.age vehicle.age.group color.set    makex state  \\\n",
       "0        Domestic            8            SEVEN+    SILVER    BUICK    CA   \n",
       "1          Import            4              FOUR    SILVER    MAZDA    TX   \n",
       "2          Import            4              FOUR       RED      GEO    FL   \n",
       "3          Import            3         ONE-THREE       RED      KIA    TX   \n",
       "4        Domestic            6               SIX      BLUE  MERCURY    NM   \n",
       "\n",
       "         make.model  \n",
       "0     BUICK.CENTURY  \n",
       "1     MAZDA.PROTEGE  \n",
       "2         GEO.METRO  \n",
       "3        KIA.SEPHIA  \n",
       "4  MERCURY.MYSTIQUE  "
      ]
     },
     "execution_count": 2,
     "metadata": {},
     "output_type": "execute_result"
    }
   ],
   "source": [
    "df = pd.read_csv('drive_time_sedans.csv')\n",
    "df.head()"
   ]
  },
  {
   "cell_type": "code",
   "execution_count": 3,
   "id": "463ae8a5",
   "metadata": {},
   "outputs": [
    {
     "name": "stdout",
     "output_type": "stream",
     "text": [
      "(17506, 13)\n",
      "(17506, 13)\n",
      "(17506, 10)\n"
     ]
    }
   ],
   "source": [
    "print(df.shape)\n",
    "df = df.dropna()\n",
    "print(df.shape)\n",
    "df = df.drop(['make.model','state','makex'], axis=1)\n",
    "print(df.shape)"
   ]
  },
  {
   "cell_type": "markdown",
   "id": "05259308-58a0-49de-8fde-479db3b12d93",
   "metadata": {},
   "source": [
    "## Task 2: This dataset specifies which observations to use as train/test/validate. Split it into three dataframes based on these values.\n",
    "\n",
    "If you've already converted those to dummy variables, you may have to subset slightly different. Search \"*conditional subset pandas dataframe*\" for a starting point or reach out to me (before the soft deadline) for guidance."
   ]
  },
  {
   "cell_type": "code",
   "execution_count": 4,
   "id": "96d3096a-a33c-44ec-93f7-cb6054934cd3",
   "metadata": {},
   "outputs": [
    {
     "name": "stdout",
     "output_type": "stream",
     "text": [
      "  data.set  total.cost  lot.sale.days overage  mileage   vehicle.type  \\\n",
      "0    TRAIN        4037            135     YES    67341   FAMILY.LARGE   \n",
      "1    TRAIN        4662             18      NO    69384   FAMILY.SMALL   \n",
      "2    TRAIN        4459             65      NO    58239        ECONOMY   \n",
      "3    TRAIN        4279              1      NO    58999        ECONOMY   \n",
      "4    TRAIN        4472             37      NO    47234  FAMILY.MEDIUM   \n",
      "\n",
      "  domestic.import  vehicle.age vehicle.age.group color.set  \n",
      "0        Domestic            8            SEVEN+    SILVER  \n",
      "1          Import            4              FOUR    SILVER  \n",
      "2          Import            4              FOUR       RED  \n",
      "3          Import            3         ONE-THREE       RED  \n",
      "4        Domestic            6               SIX      BLUE  \n",
      "     data.set  total.cost  lot.sale.days overage  mileage   vehicle.type  \\\n",
      "8753     TEST        4995             13      NO    54837        ECONOMY   \n",
      "8754     TEST        5595             24      NO    79505   FAMILY.LARGE   \n",
      "8755     TEST        4663             78      NO   103951  FAMILY.MEDIUM   \n",
      "8756     TEST        5304             48      NO    64407   FAMILY.LARGE   \n",
      "8757     TEST        3938              4      NO    88379   FAMILY.SMALL   \n",
      "\n",
      "     domestic.import  vehicle.age vehicle.age.group color.set  \n",
      "8753        Domestic            3         ONE-THREE    PURPLE  \n",
      "8754        Domestic            7            SEVEN+     GREEN  \n",
      "8755        Domestic            6               SIX      BLUE  \n",
      "8756        Domestic            8            SEVEN+     WHITE  \n",
      "8757          Import            5              FIVE      GOLD  \n",
      "       data.set  total.cost  lot.sale.days overage  mileage   vehicle.type  \\\n",
      "13129  VALIDATE        4944             30      NO    79188  FAMILY.MEDIUM   \n",
      "13130  VALIDATE        5541             19      NO    72594   FAMILY.LARGE   \n",
      "13131  VALIDATE        4870             39      NO    82492  FAMILY.MEDIUM   \n",
      "13132  VALIDATE        5397             30      NO    71153  FAMILY.MEDIUM   \n",
      "13133  VALIDATE        4983             23      NO    93462   FAMILY.LARGE   \n",
      "\n",
      "      domestic.import  vehicle.age vehicle.age.group color.set  \n",
      "13129        Domestic            5              FIVE      GOLD  \n",
      "13130        Domestic            7            SEVEN+      BLUE  \n",
      "13131          Import            6               SIX     GREEN  \n",
      "13132        Domestic            5              FIVE    SILVER  \n",
      "13133        Domestic            6               SIX       RED  \n"
     ]
    }
   ],
   "source": [
    "train = df[df['data.set'].isin(['TRAIN'])]\n",
    "test = df[df['data.set'].isin(['TEST'])]\n",
    "val = df[df['data.set'].isin(['VALIDATE'])]\n",
    "print(train.head())\n",
    "print(test.head())\n",
    "print(val.head())"
   ]
  },
  {
   "cell_type": "code",
   "execution_count": 5,
   "id": "5a651431",
   "metadata": {},
   "outputs": [],
   "source": [
    "# I got get dummies after splitting the dataset to make things more simple\n",
    "Xtrain = train[['total.cost', 'overage', 'mileage',\n",
    "       'vehicle.type', 'domestic.import', 'vehicle.age', 'vehicle.age.group',\n",
    "       'color.set']]\n",
    "Xtrain = pd.get_dummies(data=Xtrain, drop_first=True)\n",
    "ytrain = train[['lot.sale.days']]"
   ]
  },
  {
   "cell_type": "code",
   "execution_count": 6,
   "id": "9fa365c9",
   "metadata": {},
   "outputs": [],
   "source": [
    "val = val.drop(['data.set'], axis=1)\n",
    "test = test.drop(['data.set'], axis=1)\n",
    "val = pd.get_dummies(data=val, drop_first=True)\n",
    "test = pd.get_dummies(data=test, drop_first=True)\n",
    "yval = val['lot.sale.days']\n",
    "yval = (yval-yval.mean())/yval.std()\n",
    "ytest = test['lot.sale.days']\n",
    "ytest = (ytest-ytest.mean())/ytest.std()\n",
    "val = val.drop(['lot.sale.days'], axis=1)\n",
    "test = test.drop(['lot.sale.days'], axis=1)\n",
    "val = (val-val.mean())/val.std()\n",
    "test = (test-test.mean())/test.std()"
   ]
  },
  {
   "cell_type": "markdown",
   "id": "5b9c3ad5-2fa5-446f-8e49-47fb01989b11",
   "metadata": {},
   "source": [
    "## Task 3: Normalize `total.cost`, `mileage`, and `vehicle.age`"
   ]
  },
  {
   "cell_type": "code",
   "execution_count": 7,
   "id": "811306b8-5f5e-4b26-9213-96fb0ad6912f",
   "metadata": {},
   "outputs": [
    {
     "data": {
      "text/html": [
       "<div>\n",
       "<style scoped>\n",
       "    .dataframe tbody tr th:only-of-type {\n",
       "        vertical-align: middle;\n",
       "    }\n",
       "\n",
       "    .dataframe tbody tr th {\n",
       "        vertical-align: top;\n",
       "    }\n",
       "\n",
       "    .dataframe thead th {\n",
       "        text-align: right;\n",
       "    }\n",
       "</style>\n",
       "<table border=\"1\" class=\"dataframe\">\n",
       "  <thead>\n",
       "    <tr style=\"text-align: right;\">\n",
       "      <th></th>\n",
       "      <th>total.cost</th>\n",
       "      <th>mileage</th>\n",
       "      <th>vehicle.age</th>\n",
       "      <th>overage_YES</th>\n",
       "      <th>vehicle.type_FAMILY.LARGE</th>\n",
       "      <th>vehicle.type_FAMILY.MEDIUM</th>\n",
       "      <th>vehicle.type_FAMILY.SMALL</th>\n",
       "      <th>vehicle.type_LUXURY</th>\n",
       "      <th>domestic.import_Import</th>\n",
       "      <th>vehicle.age.group_FOUR</th>\n",
       "      <th>vehicle.age.group_ONE-THREE</th>\n",
       "      <th>vehicle.age.group_SEVEN+</th>\n",
       "      <th>vehicle.age.group_SIX</th>\n",
       "      <th>color.set_BLUE</th>\n",
       "      <th>color.set_GOLD</th>\n",
       "      <th>color.set_GREEN</th>\n",
       "      <th>color.set_PURPLE</th>\n",
       "      <th>color.set_RED</th>\n",
       "      <th>color.set_SILVER</th>\n",
       "      <th>color.set_WHITE</th>\n",
       "    </tr>\n",
       "  </thead>\n",
       "  <tbody>\n",
       "    <tr>\n",
       "      <th>0</th>\n",
       "      <td>-0.909347</td>\n",
       "      <td>-0.564498</td>\n",
       "      <td>1.452244</td>\n",
       "      <td>1</td>\n",
       "      <td>1</td>\n",
       "      <td>0</td>\n",
       "      <td>0</td>\n",
       "      <td>0</td>\n",
       "      <td>0</td>\n",
       "      <td>0</td>\n",
       "      <td>0</td>\n",
       "      <td>1</td>\n",
       "      <td>0</td>\n",
       "      <td>0</td>\n",
       "      <td>0</td>\n",
       "      <td>0</td>\n",
       "      <td>0</td>\n",
       "      <td>0</td>\n",
       "      <td>1</td>\n",
       "      <td>0</td>\n",
       "    </tr>\n",
       "    <tr>\n",
       "      <th>1</th>\n",
       "      <td>-0.240259</td>\n",
       "      <td>-0.444185</td>\n",
       "      <td>-0.825291</td>\n",
       "      <td>0</td>\n",
       "      <td>0</td>\n",
       "      <td>0</td>\n",
       "      <td>1</td>\n",
       "      <td>0</td>\n",
       "      <td>1</td>\n",
       "      <td>1</td>\n",
       "      <td>0</td>\n",
       "      <td>0</td>\n",
       "      <td>0</td>\n",
       "      <td>0</td>\n",
       "      <td>0</td>\n",
       "      <td>0</td>\n",
       "      <td>0</td>\n",
       "      <td>0</td>\n",
       "      <td>1</td>\n",
       "      <td>0</td>\n",
       "    </tr>\n",
       "    <tr>\n",
       "      <th>2</th>\n",
       "      <td>-0.457579</td>\n",
       "      <td>-1.100520</td>\n",
       "      <td>-0.825291</td>\n",
       "      <td>0</td>\n",
       "      <td>0</td>\n",
       "      <td>0</td>\n",
       "      <td>0</td>\n",
       "      <td>0</td>\n",
       "      <td>1</td>\n",
       "      <td>1</td>\n",
       "      <td>0</td>\n",
       "      <td>0</td>\n",
       "      <td>0</td>\n",
       "      <td>0</td>\n",
       "      <td>0</td>\n",
       "      <td>0</td>\n",
       "      <td>0</td>\n",
       "      <td>1</td>\n",
       "      <td>0</td>\n",
       "      <td>0</td>\n",
       "    </tr>\n",
       "    <tr>\n",
       "      <th>3</th>\n",
       "      <td>-0.650276</td>\n",
       "      <td>-1.055764</td>\n",
       "      <td>-1.394674</td>\n",
       "      <td>0</td>\n",
       "      <td>0</td>\n",
       "      <td>0</td>\n",
       "      <td>0</td>\n",
       "      <td>0</td>\n",
       "      <td>1</td>\n",
       "      <td>0</td>\n",
       "      <td>1</td>\n",
       "      <td>0</td>\n",
       "      <td>0</td>\n",
       "      <td>0</td>\n",
       "      <td>0</td>\n",
       "      <td>0</td>\n",
       "      <td>0</td>\n",
       "      <td>1</td>\n",
       "      <td>0</td>\n",
       "      <td>0</td>\n",
       "    </tr>\n",
       "    <tr>\n",
       "      <th>4</th>\n",
       "      <td>-0.443662</td>\n",
       "      <td>-1.748611</td>\n",
       "      <td>0.313476</td>\n",
       "      <td>0</td>\n",
       "      <td>0</td>\n",
       "      <td>1</td>\n",
       "      <td>0</td>\n",
       "      <td>0</td>\n",
       "      <td>0</td>\n",
       "      <td>0</td>\n",
       "      <td>0</td>\n",
       "      <td>0</td>\n",
       "      <td>1</td>\n",
       "      <td>1</td>\n",
       "      <td>0</td>\n",
       "      <td>0</td>\n",
       "      <td>0</td>\n",
       "      <td>0</td>\n",
       "      <td>0</td>\n",
       "      <td>0</td>\n",
       "    </tr>\n",
       "  </tbody>\n",
       "</table>\n",
       "</div>"
      ],
      "text/plain": [
       "   total.cost   mileage  vehicle.age  overage_YES  vehicle.type_FAMILY.LARGE  \\\n",
       "0   -0.909347 -0.564498     1.452244            1                          1   \n",
       "1   -0.240259 -0.444185    -0.825291            0                          0   \n",
       "2   -0.457579 -1.100520    -0.825291            0                          0   \n",
       "3   -0.650276 -1.055764    -1.394674            0                          0   \n",
       "4   -0.443662 -1.748611     0.313476            0                          0   \n",
       "\n",
       "   vehicle.type_FAMILY.MEDIUM  vehicle.type_FAMILY.SMALL  vehicle.type_LUXURY  \\\n",
       "0                           0                          0                    0   \n",
       "1                           0                          1                    0   \n",
       "2                           0                          0                    0   \n",
       "3                           0                          0                    0   \n",
       "4                           1                          0                    0   \n",
       "\n",
       "   domestic.import_Import  vehicle.age.group_FOUR  \\\n",
       "0                       0                       0   \n",
       "1                       1                       1   \n",
       "2                       1                       1   \n",
       "3                       1                       0   \n",
       "4                       0                       0   \n",
       "\n",
       "   vehicle.age.group_ONE-THREE  vehicle.age.group_SEVEN+  \\\n",
       "0                            0                         1   \n",
       "1                            0                         0   \n",
       "2                            0                         0   \n",
       "3                            1                         0   \n",
       "4                            0                         0   \n",
       "\n",
       "   vehicle.age.group_SIX  color.set_BLUE  color.set_GOLD  color.set_GREEN  \\\n",
       "0                      0               0               0                0   \n",
       "1                      0               0               0                0   \n",
       "2                      0               0               0                0   \n",
       "3                      0               0               0                0   \n",
       "4                      1               1               0                0   \n",
       "\n",
       "   color.set_PURPLE  color.set_RED  color.set_SILVER  color.set_WHITE  \n",
       "0                 0              0                 1                0  \n",
       "1                 0              0                 1                0  \n",
       "2                 0              1                 0                0  \n",
       "3                 0              1                 0                0  \n",
       "4                 0              0                 0                0  "
      ]
     },
     "execution_count": 7,
     "metadata": {},
     "output_type": "execute_result"
    }
   ],
   "source": [
    "Xtrain['total.cost'] = (Xtrain['total.cost']-Xtrain['total.cost'].mean())/Xtrain['total.cost'].std()\n",
    "Xtrain['mileage'] = (Xtrain['mileage']-Xtrain['mileage'].mean())/Xtrain['mileage'].std()\n",
    "Xtrain['vehicle.age'] = (Xtrain['vehicle.age']-Xtrain['vehicle.age'].mean())/Xtrain['vehicle.age'].std()\n",
    "ytrain = (ytrain-ytrain.mean())/ytrain.std()\n",
    "Xtrain.head()"
   ]
  },
  {
   "cell_type": "markdown",
   "id": "d8c075e4-279f-430e-bc04-ba33db886c77",
   "metadata": {},
   "source": [
    "## Task 4: Use the code from the applied lecture to perform forward stepwise selection, with the single validation set from before (as opposed to cross-validation). Return not only the AIC, BIC, and Adjusted $R^2$, as was shown in the lecture, but also the MSE on the validation set. "
   ]
  },
  {
   "cell_type": "code",
   "execution_count": 8,
   "id": "251044fc",
   "metadata": {},
   "outputs": [],
   "source": [
    "def processSubset(X, y, predictor_variables, response_variable):\n",
    "    # Fit model on feature_set and calculate RSS\n",
    "    \n",
    "    model = sm.OLS(y,X[list(predictor_variables)])\n",
    "    regr = model.fit()\n",
    "    RSS = ((regr.predict(X[list(predictor_variables)]) - y[response_variable]) ** 2).sum()\n",
    "    return {\"model\":regr, \"RSS\":RSS}"
   ]
  },
  {
   "cell_type": "code",
   "execution_count": 9,
   "id": "544ff121-3f41-4f8b-b58a-5ac6db9ad5ae",
   "metadata": {},
   "outputs": [],
   "source": [
    "def forward(X, y, predictors, response_variable):\n",
    "    \n",
    "    # Pull out predictors we still need to process\n",
    "    remaining_predictors = [p for p in X.columns if p not in predictors]\n",
    "    \n",
    "    t0 = time.time()\n",
    "    \n",
    "    results = []\n",
    "    \n",
    "    for p in remaining_predictors:\n",
    "        results.append(processSubset(X, y, predictors + [p], response_variable))\n",
    "    \n",
    "    # Wrap everything up in a nice dataframe\n",
    "    models = pd.DataFrame(results)\n",
    "    \n",
    "    # Choose the model with the lowest RSS\n",
    "    best_model = models.loc[models['RSS'].argmin()]\n",
    "    \n",
    "    t1 = time.time()\n",
    "    print(\"Processed \", models.shape[0], \"models on\", len(predictors)+1, \"predictors in\", (t1-t0), \"seconds.\")\n",
    "    \n",
    "    # Return the best model, along with some other useful information about the model\n",
    "    return best_model"
   ]
  },
  {
   "cell_type": "code",
   "execution_count": 10,
   "id": "132f76f9",
   "metadata": {},
   "outputs": [
    {
     "name": "stdout",
     "output_type": "stream",
     "text": [
      "Processed  20 models on 1 predictors in 0.09639358520507812 seconds.\n",
      "Processed  19 models on 2 predictors in 0.08278656005859375 seconds.\n",
      "Processed  18 models on 3 predictors in 0.08917522430419922 seconds.\n",
      "Processed  17 models on 4 predictors in 0.07437968254089355 seconds.\n",
      "Processed  16 models on 5 predictors in 0.0755012035369873 seconds.\n",
      "Processed  15 models on 6 predictors in 0.08625578880310059 seconds.\n",
      "Processed  14 models on 7 predictors in 0.10454797744750977 seconds.\n",
      "Processed  13 models on 8 predictors in 0.09935283660888672 seconds.\n",
      "Processed  12 models on 9 predictors in 0.10711526870727539 seconds.\n",
      "Processed  11 models on 10 predictors in 0.07374334335327148 seconds.\n",
      "Processed  10 models on 11 predictors in 0.07167387008666992 seconds.\n",
      "Processed  9 models on 12 predictors in 0.07914590835571289 seconds.\n",
      "Processed  8 models on 13 predictors in 0.06764793395996094 seconds.\n",
      "Processed  7 models on 14 predictors in 0.08430957794189453 seconds.\n",
      "Processed  6 models on 15 predictors in 0.0838775634765625 seconds.\n",
      "Processed  5 models on 16 predictors in 0.0641939640045166 seconds.\n",
      "Processed  4 models on 17 predictors in 0.053900957107543945 seconds.\n",
      "Processed  3 models on 18 predictors in 0.04773879051208496 seconds.\n",
      "Processed  2 models on 19 predictors in 0.03146815299987793 seconds.\n",
      "Processed  1 models on 20 predictors in 0.014137506484985352 seconds.\n",
      "Total elapsed time: 1.6734049320220947 seconds.\n"
     ]
    }
   ],
   "source": [
    "models_fwd = pd.DataFrame(columns=[\"RSS\", \"model\", \"AIC\", \"BIC\", \"AdjR2\"])\n",
    "\n",
    "t0 = time.time()\n",
    "predictors = []\n",
    "\n",
    "for i in range(1,len(Xtrain.columns)+1):    \n",
    "    models_fwd.loc[i] = forward(Xtrain, ytrain, predictors, 'lot.sale.days')\n",
    "    predictors = models_fwd.loc[i][\"model\"].model.exog_names\n",
    "    models_fwd.loc[i, 'AIC'] = models_fwd.loc[i, 'model'].aic\n",
    "    models_fwd.loc[i, 'BIC'] = models_fwd.loc[i, 'model'].bic\n",
    "    models_fwd.loc[i, 'AdjR2'] = models_fwd.loc[i, 'model'].rsquared_adj\n",
    "    \n",
    "\n",
    "t1 = time.time()\n",
    "print(\"Total elapsed time:\", (t1-t0), \"seconds.\")"
   ]
  },
  {
   "cell_type": "code",
   "execution_count": 11,
   "id": "39c04ec5",
   "metadata": {},
   "outputs": [
    {
     "data": {
      "text/html": [
       "<div>\n",
       "<style scoped>\n",
       "    .dataframe tbody tr th:only-of-type {\n",
       "        vertical-align: middle;\n",
       "    }\n",
       "\n",
       "    .dataframe tbody tr th {\n",
       "        vertical-align: top;\n",
       "    }\n",
       "\n",
       "    .dataframe thead th {\n",
       "        text-align: right;\n",
       "    }\n",
       "</style>\n",
       "<table border=\"1\" class=\"dataframe\">\n",
       "  <thead>\n",
       "    <tr style=\"text-align: right;\">\n",
       "      <th></th>\n",
       "      <th>RSS</th>\n",
       "      <th>model</th>\n",
       "      <th>AIC</th>\n",
       "      <th>BIC</th>\n",
       "      <th>AdjR2</th>\n",
       "    </tr>\n",
       "  </thead>\n",
       "  <tbody>\n",
       "    <tr>\n",
       "      <th>1</th>\n",
       "      <td>3774.447466</td>\n",
       "      <td>&lt;statsmodels.regression.linear_model.Regressio...</td>\n",
       "      <td>17479.417717</td>\n",
       "      <td>17486.494869</td>\n",
       "      <td>0.568684</td>\n",
       "    </tr>\n",
       "    <tr>\n",
       "      <th>2</th>\n",
       "      <td>3376.202681</td>\n",
       "      <td>&lt;statsmodels.regression.linear_model.Regressio...</td>\n",
       "      <td>16505.437257</td>\n",
       "      <td>16519.591561</td>\n",
       "      <td>0.614148</td>\n",
       "    </tr>\n",
       "    <tr>\n",
       "      <th>3</th>\n",
       "      <td>3095.367930</td>\n",
       "      <td>&lt;statsmodels.regression.linear_model.Regressio...</td>\n",
       "      <td>15747.284436</td>\n",
       "      <td>15768.515891</td>\n",
       "      <td>0.646203</td>\n",
       "    </tr>\n",
       "    <tr>\n",
       "      <th>4</th>\n",
       "      <td>2858.017957</td>\n",
       "      <td>&lt;statsmodels.regression.linear_model.Regressio...</td>\n",
       "      <td>15050.983966</td>\n",
       "      <td>15079.292573</td>\n",
       "      <td>0.673295</td>\n",
       "    </tr>\n",
       "    <tr>\n",
       "      <th>5</th>\n",
       "      <td>2751.899319</td>\n",
       "      <td>&lt;statsmodels.regression.linear_model.Regressio...</td>\n",
       "      <td>14721.796461</td>\n",
       "      <td>14757.182220</td>\n",
       "      <td>0.685389</td>\n",
       "    </tr>\n",
       "    <tr>\n",
       "      <th>6</th>\n",
       "      <td>2638.579109</td>\n",
       "      <td>&lt;statsmodels.regression.linear_model.Regressio...</td>\n",
       "      <td>14355.725994</td>\n",
       "      <td>14398.188905</td>\n",
       "      <td>0.698310</td>\n",
       "    </tr>\n",
       "    <tr>\n",
       "      <th>7</th>\n",
       "      <td>2579.403405</td>\n",
       "      <td>&lt;statsmodels.regression.linear_model.Regressio...</td>\n",
       "      <td>14159.186753</td>\n",
       "      <td>14208.726815</td>\n",
       "      <td>0.705043</td>\n",
       "    </tr>\n",
       "    <tr>\n",
       "      <th>8</th>\n",
       "      <td>2488.019834</td>\n",
       "      <td>&lt;statsmodels.regression.linear_model.Regressio...</td>\n",
       "      <td>13845.457403</td>\n",
       "      <td>13902.074617</td>\n",
       "      <td>0.715460</td>\n",
       "    </tr>\n",
       "    <tr>\n",
       "      <th>9</th>\n",
       "      <td>2481.622026</td>\n",
       "      <td>&lt;statsmodels.regression.linear_model.Regressio...</td>\n",
       "      <td>13824.920551</td>\n",
       "      <td>13888.614917</td>\n",
       "      <td>0.716159</td>\n",
       "    </tr>\n",
       "    <tr>\n",
       "      <th>10</th>\n",
       "      <td>2472.565694</td>\n",
       "      <td>&lt;statsmodels.regression.linear_model.Regressio...</td>\n",
       "      <td>13794.919275</td>\n",
       "      <td>13865.690793</td>\n",
       "      <td>0.717163</td>\n",
       "    </tr>\n",
       "    <tr>\n",
       "      <th>11</th>\n",
       "      <td>2468.734903</td>\n",
       "      <td>&lt;statsmodels.regression.linear_model.Regressio...</td>\n",
       "      <td>13783.347577</td>\n",
       "      <td>13861.196246</td>\n",
       "      <td>0.717568</td>\n",
       "    </tr>\n",
       "    <tr>\n",
       "      <th>12</th>\n",
       "      <td>2464.627986</td>\n",
       "      <td>&lt;statsmodels.regression.linear_model.Regressio...</td>\n",
       "      <td>13770.774211</td>\n",
       "      <td>13855.700032</td>\n",
       "      <td>0.718006</td>\n",
       "    </tr>\n",
       "    <tr>\n",
       "      <th>13</th>\n",
       "      <td>2460.986422</td>\n",
       "      <td>&lt;statsmodels.regression.linear_model.Regressio...</td>\n",
       "      <td>13759.831818</td>\n",
       "      <td>13851.834791</td>\n",
       "      <td>0.718390</td>\n",
       "    </tr>\n",
       "    <tr>\n",
       "      <th>14</th>\n",
       "      <td>2457.753619</td>\n",
       "      <td>&lt;statsmodels.regression.linear_model.Regressio...</td>\n",
       "      <td>13750.326139</td>\n",
       "      <td>13849.406264</td>\n",
       "      <td>0.718728</td>\n",
       "    </tr>\n",
       "    <tr>\n",
       "      <th>15</th>\n",
       "      <td>2455.183181</td>\n",
       "      <td>&lt;statsmodels.regression.linear_model.Regressio...</td>\n",
       "      <td>13743.167033</td>\n",
       "      <td>13849.324310</td>\n",
       "      <td>0.718990</td>\n",
       "    </tr>\n",
       "    <tr>\n",
       "      <th>16</th>\n",
       "      <td>2450.874855</td>\n",
       "      <td>&lt;statsmodels.regression.linear_model.Regressio...</td>\n",
       "      <td>13729.793882</td>\n",
       "      <td>13843.028310</td>\n",
       "      <td>0.719451</td>\n",
       "    </tr>\n",
       "    <tr>\n",
       "      <th>17</th>\n",
       "      <td>2446.557882</td>\n",
       "      <td>&lt;statsmodels.regression.linear_model.Regressio...</td>\n",
       "      <td>13716.362747</td>\n",
       "      <td>13836.674328</td>\n",
       "      <td>0.719913</td>\n",
       "    </tr>\n",
       "    <tr>\n",
       "      <th>18</th>\n",
       "      <td>2446.452422</td>\n",
       "      <td>&lt;statsmodels.regression.linear_model.Regressio...</td>\n",
       "      <td>13717.985437</td>\n",
       "      <td>13845.374169</td>\n",
       "      <td>0.719893</td>\n",
       "    </tr>\n",
       "    <tr>\n",
       "      <th>19</th>\n",
       "      <td>2446.373674</td>\n",
       "      <td>&lt;statsmodels.regression.linear_model.Regressio...</td>\n",
       "      <td>13719.703686</td>\n",
       "      <td>13854.169570</td>\n",
       "      <td>0.719870</td>\n",
       "    </tr>\n",
       "    <tr>\n",
       "      <th>20</th>\n",
       "      <td>2446.372945</td>\n",
       "      <td>&lt;statsmodels.regression.linear_model.Regressio...</td>\n",
       "      <td>13721.701079</td>\n",
       "      <td>13863.244114</td>\n",
       "      <td>0.719838</td>\n",
       "    </tr>\n",
       "  </tbody>\n",
       "</table>\n",
       "</div>"
      ],
      "text/plain": [
       "            RSS                                              model  \\\n",
       "1   3774.447466  <statsmodels.regression.linear_model.Regressio...   \n",
       "2   3376.202681  <statsmodels.regression.linear_model.Regressio...   \n",
       "3   3095.367930  <statsmodels.regression.linear_model.Regressio...   \n",
       "4   2858.017957  <statsmodels.regression.linear_model.Regressio...   \n",
       "5   2751.899319  <statsmodels.regression.linear_model.Regressio...   \n",
       "6   2638.579109  <statsmodels.regression.linear_model.Regressio...   \n",
       "7   2579.403405  <statsmodels.regression.linear_model.Regressio...   \n",
       "8   2488.019834  <statsmodels.regression.linear_model.Regressio...   \n",
       "9   2481.622026  <statsmodels.regression.linear_model.Regressio...   \n",
       "10  2472.565694  <statsmodels.regression.linear_model.Regressio...   \n",
       "11  2468.734903  <statsmodels.regression.linear_model.Regressio...   \n",
       "12  2464.627986  <statsmodels.regression.linear_model.Regressio...   \n",
       "13  2460.986422  <statsmodels.regression.linear_model.Regressio...   \n",
       "14  2457.753619  <statsmodels.regression.linear_model.Regressio...   \n",
       "15  2455.183181  <statsmodels.regression.linear_model.Regressio...   \n",
       "16  2450.874855  <statsmodels.regression.linear_model.Regressio...   \n",
       "17  2446.557882  <statsmodels.regression.linear_model.Regressio...   \n",
       "18  2446.452422  <statsmodels.regression.linear_model.Regressio...   \n",
       "19  2446.373674  <statsmodels.regression.linear_model.Regressio...   \n",
       "20  2446.372945  <statsmodels.regression.linear_model.Regressio...   \n",
       "\n",
       "             AIC           BIC     AdjR2  \n",
       "1   17479.417717  17486.494869  0.568684  \n",
       "2   16505.437257  16519.591561  0.614148  \n",
       "3   15747.284436  15768.515891  0.646203  \n",
       "4   15050.983966  15079.292573  0.673295  \n",
       "5   14721.796461  14757.182220  0.685389  \n",
       "6   14355.725994  14398.188905  0.698310  \n",
       "7   14159.186753  14208.726815  0.705043  \n",
       "8   13845.457403  13902.074617  0.715460  \n",
       "9   13824.920551  13888.614917  0.716159  \n",
       "10  13794.919275  13865.690793  0.717163  \n",
       "11  13783.347577  13861.196246  0.717568  \n",
       "12  13770.774211  13855.700032  0.718006  \n",
       "13  13759.831818  13851.834791  0.718390  \n",
       "14  13750.326139  13849.406264  0.718728  \n",
       "15  13743.167033  13849.324310  0.718990  \n",
       "16  13729.793882  13843.028310  0.719451  \n",
       "17  13716.362747  13836.674328  0.719913  \n",
       "18  13717.985437  13845.374169  0.719893  \n",
       "19  13719.703686  13854.169570  0.719870  \n",
       "20  13721.701079  13863.244114  0.719838  "
      ]
     },
     "execution_count": 11,
     "metadata": {},
     "output_type": "execute_result"
    }
   ],
   "source": [
    "models_fwd"
   ]
  },
  {
   "cell_type": "code",
   "execution_count": 12,
   "id": "fd5d4a5b",
   "metadata": {},
   "outputs": [
    {
     "name": "stdout",
     "output_type": "stream",
     "text": [
      "17\n"
     ]
    },
    {
     "data": {
      "text/plain": [
       "[<matplotlib.lines.Line2D at 0x26623043f40>]"
      ]
     },
     "execution_count": 12,
     "metadata": {},
     "output_type": "execute_result"
    },
    {
     "data": {
      "image/png": "[encoded data removed]",
      "text/plain": [
       "<Figure size 432x288 with 1 Axes>"
      ]
     },
     "metadata": {
      "needs_background": "light"
     },
     "output_type": "display_data"
    }
   ],
   "source": [
    "print(np.argmin(models_fwd['AIC']) + 1)\n",
    "plt.plot(np.arange(len(models_fwd)) + 1,models_fwd['AIC'])"
   ]
  },
  {
   "cell_type": "code",
   "execution_count": 13,
   "id": "18e17318",
   "metadata": {},
   "outputs": [
    {
     "name": "stdout",
     "output_type": "stream",
     "text": [
      "17\n"
     ]
    },
    {
     "data": {
      "text/plain": [
       "[<matplotlib.lines.Line2D at 0x2662312baf0>]"
      ]
     },
     "execution_count": 13,
     "metadata": {},
     "output_type": "execute_result"
    },
    {
     "data": {
      "image/png": "[encoded data removed]",
      "text/plain": [
       "<Figure size 432x288 with 1 Axes>"
      ]
     },
     "metadata": {
      "needs_background": "light"
     },
     "output_type": "display_data"
    }
   ],
   "source": [
    "print(np.argmin(models_fwd['BIC']) + 1)\n",
    "plt.plot(np.arange(len(models_fwd)) + 1,models_fwd['BIC'])"
   ]
  },
  {
   "cell_type": "code",
   "execution_count": 14,
   "id": "97d3273f",
   "metadata": {},
   "outputs": [
    {
     "name": "stdout",
     "output_type": "stream",
     "text": [
      "17\n"
     ]
    },
    {
     "data": {
      "text/plain": [
       "[<matplotlib.lines.Line2D at 0x26623587280>]"
      ]
     },
     "execution_count": 14,
     "metadata": {},
     "output_type": "execute_result"
    },
    {
     "data": {
      "image/png": "[encoded data removed]",
      "text/plain": [
       "<Figure size 432x288 with 1 Axes>"
      ]
     },
     "metadata": {
      "needs_background": "light"
     },
     "output_type": "display_data"
    }
   ],
   "source": [
    "print(np.argmax(models_fwd['AdjR2'])+ 1)\n",
    "plt.plot(np.arange(len(models_fwd)) + 1,models_fwd['AdjR2'])"
   ]
  },
  {
   "cell_type": "code",
   "execution_count": 22,
   "id": "24cd20a7",
   "metadata": {},
   "outputs": [
    {
     "data": {
      "text/html": [
       "<table class=\"simpletable\">\n",
       "<caption>OLS Regression Results</caption>\n",
       "<tr>\n",
       "  <th>Dep. Variable:</th>      <td>lot.sale.days</td>  <th>  R-squared (uncentered):</th>      <td>   0.716</td> \n",
       "</tr>\n",
       "<tr>\n",
       "  <th>Model:</th>                   <td>OLS</td>       <th>  Adj. R-squared (uncentered):</th> <td>   0.715</td> \n",
       "</tr>\n",
       "<tr>\n",
       "  <th>Method:</th>             <td>Least Squares</td>  <th>  F-statistic:       </th>          <td>   2752.</td> \n",
       "</tr>\n",
       "<tr>\n",
       "  <th>Date:</th>             <td>Fri, 24 Jun 2022</td> <th>  Prob (F-statistic):</th>           <td>  0.00</td>  \n",
       "</tr>\n",
       "<tr>\n",
       "  <th>Time:</th>                 <td>12:53:16</td>     <th>  Log-Likelihood:    </th>          <td> -6914.7</td> \n",
       "</tr>\n",
       "<tr>\n",
       "  <th>No. Observations:</th>      <td>  8753</td>      <th>  AIC:               </th>          <td>1.385e+04</td>\n",
       "</tr>\n",
       "<tr>\n",
       "  <th>Df Residuals:</th>          <td>  8745</td>      <th>  BIC:               </th>          <td>1.390e+04</td>\n",
       "</tr>\n",
       "<tr>\n",
       "  <th>Df Model:</th>              <td>     8</td>      <th>                     </th>              <td> </td>    \n",
       "</tr>\n",
       "<tr>\n",
       "  <th>Covariance Type:</th>      <td>nonrobust</td>    <th>                     </th>              <td> </td>    \n",
       "</tr>\n",
       "</table>\n",
       "<table class=\"simpletable\">\n",
       "<tr>\n",
       "               <td></td>                 <th>coef</th>     <th>std err</th>      <th>t</th>      <th>P>|t|</th>  <th>[0.025</th>    <th>0.975]</th>  \n",
       "</tr>\n",
       "<tr>\n",
       "  <th>overage_YES</th>                <td>    1.9654</td> <td>    0.014</td> <td>  137.815</td> <td> 0.000</td> <td>    1.937</td> <td>    1.993</td>\n",
       "</tr>\n",
       "<tr>\n",
       "  <th>vehicle.type_FAMILY.MEDIUM</th> <td>   -0.3672</td> <td>    0.010</td> <td>  -37.264</td> <td> 0.000</td> <td>   -0.386</td> <td>   -0.348</td>\n",
       "</tr>\n",
       "<tr>\n",
       "  <th>domestic.import_Import</th>     <td>   -0.0841</td> <td>    0.014</td> <td>   -6.050</td> <td> 0.000</td> <td>   -0.111</td> <td>   -0.057</td>\n",
       "</tr>\n",
       "<tr>\n",
       "  <th>vehicle.type_FAMILY.LARGE</th>  <td>   -0.4623</td> <td>    0.014</td> <td>  -32.038</td> <td> 0.000</td> <td>   -0.491</td> <td>   -0.434</td>\n",
       "</tr>\n",
       "<tr>\n",
       "  <th>vehicle.type_FAMILY.SMALL</th>  <td>   -0.3289</td> <td>    0.016</td> <td>  -20.964</td> <td> 0.000</td> <td>   -0.360</td> <td>   -0.298</td>\n",
       "</tr>\n",
       "<tr>\n",
       "  <th>vehicle.type_LUXURY</th>        <td>   -0.4804</td> <td>    0.019</td> <td>  -25.210</td> <td> 0.000</td> <td>   -0.518</td> <td>   -0.443</td>\n",
       "</tr>\n",
       "<tr>\n",
       "  <th>vehicle.age</th>                <td>    0.1300</td> <td>    0.006</td> <td>   20.140</td> <td> 0.000</td> <td>    0.117</td> <td>    0.143</td>\n",
       "</tr>\n",
       "<tr>\n",
       "  <th>total.cost</th>                 <td>    0.1124</td> <td>    0.006</td> <td>   17.922</td> <td> 0.000</td> <td>    0.100</td> <td>    0.125</td>\n",
       "</tr>\n",
       "</table>\n",
       "<table class=\"simpletable\">\n",
       "<tr>\n",
       "  <th>Omnibus:</th>       <td>2024.326</td> <th>  Durbin-Watson:     </th> <td>   1.968</td>\n",
       "</tr>\n",
       "<tr>\n",
       "  <th>Prob(Omnibus):</th>  <td> 0.000</td>  <th>  Jarque-Bera (JB):  </th> <td>4714.493</td>\n",
       "</tr>\n",
       "<tr>\n",
       "  <th>Skew:</th>           <td> 1.299</td>  <th>  Prob(JB):          </th> <td>    0.00</td>\n",
       "</tr>\n",
       "<tr>\n",
       "  <th>Kurtosis:</th>       <td> 5.486</td>  <th>  Cond. No.          </th> <td>    4.51</td>\n",
       "</tr>\n",
       "</table><br/><br/>Notes:<br/>[1] R² is computed without centering (uncentered) since the model does not contain a constant.<br/>[2] Standard Errors assume that the covariance matrix of the errors is correctly specified."
      ],
      "text/plain": [
       "<class 'statsmodels.iolib.summary.Summary'>\n",
       "\"\"\"\n",
       "                                 OLS Regression Results                                \n",
       "=======================================================================================\n",
       "Dep. Variable:          lot.sale.days   R-squared (uncentered):                   0.716\n",
       "Model:                            OLS   Adj. R-squared (uncentered):              0.715\n",
       "Method:                 Least Squares   F-statistic:                              2752.\n",
       "Date:                Fri, 24 Jun 2022   Prob (F-statistic):                        0.00\n",
       "Time:                        12:53:16   Log-Likelihood:                         -6914.7\n",
       "No. Observations:                8753   AIC:                                  1.385e+04\n",
       "Df Residuals:                    8745   BIC:                                  1.390e+04\n",
       "Df Model:                           8                                                  \n",
       "Covariance Type:            nonrobust                                                  \n",
       "==============================================================================================\n",
       "                                 coef    std err          t      P>|t|      [0.025      0.975]\n",
       "----------------------------------------------------------------------------------------------\n",
       "overage_YES                    1.9654      0.014    137.815      0.000       1.937       1.993\n",
       "vehicle.type_FAMILY.MEDIUM    -0.3672      0.010    -37.264      0.000      -0.386      -0.348\n",
       "domestic.import_Import        -0.0841      0.014     -6.050      0.000      -0.111      -0.057\n",
       "vehicle.type_FAMILY.LARGE     -0.4623      0.014    -32.038      0.000      -0.491      -0.434\n",
       "vehicle.type_FAMILY.SMALL     -0.3289      0.016    -20.964      0.000      -0.360      -0.298\n",
       "vehicle.type_LUXURY           -0.4804      0.019    -25.210      0.000      -0.518      -0.443\n",
       "vehicle.age                    0.1300      0.006     20.140      0.000       0.117       0.143\n",
       "total.cost                     0.1124      0.006     17.922      0.000       0.100       0.125\n",
       "==============================================================================\n",
       "Omnibus:                     2024.326   Durbin-Watson:                   1.968\n",
       "Prob(Omnibus):                  0.000   Jarque-Bera (JB):             4714.493\n",
       "Skew:                           1.299   Prob(JB):                         0.00\n",
       "Kurtosis:                       5.486   Cond. No.                         4.51\n",
       "==============================================================================\n",
       "\n",
       "Notes:\n",
       "[1] R² is computed without centering (uncentered) since the model does not contain a constant.\n",
       "[2] Standard Errors assume that the covariance matrix of the errors is correctly specified.\n",
       "\"\"\""
      ]
     },
     "execution_count": 22,
     "metadata": {},
     "output_type": "execute_result"
    }
   ],
   "source": [
    "models_fwd.loc[8,'model'].summary()"
   ]
  },
  {
   "cell_type": "code",
   "execution_count": 25,
   "id": "75219eca",
   "metadata": {},
   "outputs": [
    {
     "data": {
      "text/plain": [
       "13129   -0.843547\n",
       "13130   -1.101572\n",
       "13131   -0.959015\n",
       "13132   -0.789062\n",
       "13133   -1.243490\n",
       "           ...   \n",
       "17501   -0.412787\n",
       "17502   -0.153711\n",
       "17503   -0.629596\n",
       "17504   -0.058958\n",
       "17505   -0.980671\n",
       "Length: 4377, dtype: float64"
      ]
     },
     "execution_count": 25,
     "metadata": {},
     "output_type": "execute_result"
    }
   ],
   "source": [
    "val = val[['overage_YES','vehicle.type_FAMILY.MEDIUM','domestic.import_Import','vehicle.type_FAMILY.LARGE','vehicle.type_FAMILY.SMALL','vehicle.type_LUXURY','vehicle.age','total.cost']]\n",
    "\n",
    "preds = models_fwd.loc[8,'model'].predict(val)\n",
    "preds"
   ]
  },
  {
   "cell_type": "code",
   "execution_count": 34,
   "id": "3ea3a107",
   "metadata": {},
   "outputs": [
    {
     "data": {
      "text/plain": [
       "1.7988251839789002"
      ]
     },
     "execution_count": 34,
     "metadata": {},
     "output_type": "execute_result"
    }
   ],
   "source": [
    "mse = np.mean(np.square(np.subtract(yval, preds)))\n",
    "mse"
   ]
  },
  {
   "cell_type": "markdown",
   "id": "6a3873f2-b33e-4ad7-8939-d87b8b0c1193",
   "metadata": {},
   "source": [
    "## Task 5: Using the code from the shrinkage methods lecture, find the optimal $\\alpha$ and $\\lambda$ for an Elastic Net regression using Cross-Validation.\n",
    "\n",
    "Note: Remember that $\\lambda$ is the argument `alpha` in scikit-learn and $\\alpha$ is the `l1_ratio` argument. Sorry that nobody can settle on terminology."
   ]
  },
  {
   "cell_type": "code",
   "execution_count": 38,
   "id": "91a8a1bf-3ca0-46ca-ba56-ee970f21feb4",
   "metadata": {},
   "outputs": [
    {
     "data": {
      "image/png": "[encoded data removed]",
      "text/plain": [
       "<Figure size 432x288 with 1 Axes>"
      ]
     },
     "metadata": {},
     "output_type": "display_data"
    }
   ],
   "source": [
    "alphas = 10**np.linspace(1,-2,100)*0.5\n",
    "l1_ratio = 0.5\n",
    "\n",
    "en = ElasticNet(max_iter=10000)\n",
    "coefs = []\n",
    "\n",
    "for a in alphas:\n",
    "    en.set_params(alpha=a, l1_ratio=l1_ratio)\n",
    "    en.fit(scale(val), yval)\n",
    "    coefs.append(en.coef_)\n",
    "\n",
    "ax = plt.gca()\n",
    "ax.plot(alphas, coefs)\n",
    "ax.set_xscale('log')\n",
    "ax.set_xlim(ax.get_xlim()[::-1])  # reverse axis\n",
    "plt.axis('tight')\n",
    "plt.xlabel('alpha')\n",
    "plt.ylabel('weights')\n",
    "plt.title('Elastic Net coefficients as a function of the regularization');"
   ]
  },
  {
   "cell_type": "code",
   "execution_count": 40,
   "id": "3faa624c",
   "metadata": {},
   "outputs": [],
   "source": [
    "from sklearn.preprocessing import StandardScaler\n",
    "\n",
    "scaler = StandardScaler().fit(Xtrain)"
   ]
  },
  {
   "cell_type": "code",
   "execution_count": 53,
   "id": "1e74e0a4",
   "metadata": {},
   "outputs": [],
   "source": [
    "folds = np.random.choice(a = 10, size = Xtrain.shape[0])\n",
    "alphas = np.linspace(0.01,1,10)\n",
    "l1_ratio = np.linspace(0.01,1,10)\n",
    "\n",
    "mse_list = []\n",
    "alpha_list = []\n",
    "l1_list = []\n",
    "for alpha in alphas:\n",
    "    for l1 in l1_ratio:\n",
    "        cv_list = []\n",
    "        for i in range(10):\n",
    "            val_folds_X = Xtrain.iloc[np.where(folds == i)]\n",
    "            train_folds_X = Xtrain.iloc[np.where(folds != i)]\n",
    "\n",
    "            val_folds_y = ytrain.iloc[np.where(folds == i)]\n",
    "            train_folds_y = ytrain.iloc[np.where(folds != i)]\n",
    "\n",
    "            encv = ElasticNet(alpha=alpha, l1_ratio=l1, max_iter=10000)\n",
    "            encv.fit(scaler.transform(train_folds_X), train_folds_y)\n",
    "            pred = encv.predict(scaler.transform(val_folds_X))\n",
    "            cv_list.append(mean_squared_error(val_folds_y, pred))\n",
    "        mse_list.append(np.mean(cv_list))\n",
    "        alpha_list.append(alpha)\n",
    "        l1_list.append(l1)"
   ]
  },
  {
   "cell_type": "code",
   "execution_count": 54,
   "id": "d6700e25",
   "metadata": {},
   "outputs": [
    {
     "data": {
      "text/plain": [
       "<AxesSubplot:xlabel='l1_ratio', ylabel='alpha'>"
      ]
     },
     "execution_count": 54,
     "metadata": {},
     "output_type": "execute_result"
    },
    {
     "data": {
      "image/png": "[encoded data removed]",
      "text/plain": [
       "<Figure size 432x288 with 2 Axes>"
      ]
     },
     "metadata": {},
     "output_type": "display_data"
    }
   ],
   "source": [
    "plotdata = pd.DataFrame({'alpha': alpha_list, 'l1_ratio': l1_list, 'mse': mse_list})\n",
    "plot_data_pivoted = plotdata.pivot(\"alpha\", \"l1_ratio\", \"mse\")\n",
    "sns.heatmap(plot_data_pivoted)"
   ]
  },
  {
   "cell_type": "code",
   "execution_count": 55,
   "id": "8b81640e",
   "metadata": {},
   "outputs": [
    {
     "name": "stdout",
     "output_type": "stream",
     "text": [
      "0.01 0.12\n"
     ]
    }
   ],
   "source": [
    "opt_lambda = alpha_list[np.argmin(mse_list)]\n",
    "opt_l1 = l1_list[np.argmin(mse_list)]\n",
    "print(opt_lambda, opt_l1)"
   ]
  },
  {
   "cell_type": "code",
   "execution_count": 47,
   "id": "6ad4c578",
   "metadata": {},
   "outputs": [
    {
     "data": {
      "text/plain": [
       "1.9040598677203582"
      ]
     },
     "execution_count": 47,
     "metadata": {},
     "output_type": "execute_result"
    }
   ],
   "source": [
    "opt_en = ElasticNet()\n",
    "opt_en.set_params(alpha=opt_lambda, l1_ratio=opt_l1, max_iter=10000)\n",
    "opt_en.fit(scaler.transform(Xtrain), ytrain)\n",
    "mean_squared_error(ytest, opt_en.predict(scaler.transform(test)))"
   ]
  },
  {
   "cell_type": "code",
   "execution_count": 52,
   "id": "ae712443",
   "metadata": {},
   "outputs": [
    {
     "data": {
      "text/plain": [
       "total.cost                     0.086776\n",
       "mileage                       -0.007504\n",
       "vehicle.age                    0.041396\n",
       "overage_YES                    0.805496\n",
       "vehicle.type_FAMILY.LARGE     -0.060736\n",
       "vehicle.type_FAMILY.MEDIUM    -0.047465\n",
       "vehicle.type_FAMILY.SMALL     -0.033954\n",
       "vehicle.type_LUXURY           -0.073022\n",
       "domestic.import_Import        -0.008086\n",
       "vehicle.age.group_FOUR        -0.018124\n",
       "vehicle.age.group_ONE-THREE   -0.022909\n",
       "vehicle.age.group_SEVEN+       0.043479\n",
       "vehicle.age.group_SIX          0.023306\n",
       "color.set_BLUE                 0.030045\n",
       "color.set_GOLD                -0.001521\n",
       "color.set_GREEN                0.006866\n",
       "color.set_PURPLE               0.008121\n",
       "color.set_RED                  0.015911\n",
       "color.set_SILVER               0.003949\n",
       "color.set_WHITE                0.024868\n",
       "dtype: float64"
      ]
     },
     "execution_count": 52,
     "metadata": {},
     "output_type": "execute_result"
    }
   ],
   "source": [
    "df = df[['total.cost', 'overage', 'mileage',\n",
    "       'vehicle.type', 'domestic.import', 'vehicle.age', 'vehicle.age.group',\n",
    "       'color.set']]\n",
    "df = pd.get_dummies(data=df, drop_first=True)\n",
    "pd.Series(opt_en.coef_.flatten(), index=df.columns)"
   ]
  },
  {
   "cell_type": "markdown",
   "id": "d718f831-dde0-4492-b2ad-5ea866a1d90f",
   "metadata": {},
   "source": [
    "## Question: Given all of the results you've found, which model would you choose and why? Hint: There is no right answer but you will need to justify any answer you give."
   ]
  },
  {
   "cell_type": "raw",
   "id": "660c28a4",
   "metadata": {},
   "source": [
    "I would use the lasso. I know that the model concluded essentially the exact opposite, but I do not think it is reasonable for a dealership to consider 8 variables when buying cars to resell. Also, look at most of the variables. They mean essentially nothing to the model when considered independently. Whether it is blue or gold doesn't mean much. Only the overage variable is strong. Cost and vehicle type are the only other variables that might be useful. The lasso can be used to essentially hand select variables like this. For this reason, I would use the lasso to decide what to actually include in the model to make it practically useful."
   ]
  }
 ],
 "metadata": {
  "kernelspec": {
   "display_name": "Python 3",
   "language": "python",
   "name": "python3"
  },
  "language_info": {
   "codemirror_mode": {
    "name": "ipython",
    "version": 3
   },
   "file_extension": ".py",
   "mimetype": "text/x-python",
   "name": "python",
   "nbconvert_exporter": "python",
   "pygments_lexer": "ipython3",
   "version": "3.8.8"
  }
 },
 "nbformat": 4,
 "nbformat_minor": 5
}
