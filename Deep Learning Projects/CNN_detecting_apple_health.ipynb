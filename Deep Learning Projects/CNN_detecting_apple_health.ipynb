{
  "nbformat": 4,
  "nbformat_minor": 0,
  "metadata": {
    "colab": {
      "provenance": []
    },
    "kernelspec": {
      "name": "python3",
      "display_name": "Python 3"
    },
    "language_info": {
      "name": "python"
    },
    "gpuClass": "standard",
    "accelerator": "GPU"
  },
  "cells": [
    {
      "cell_type": "code",
      "source": [
        "from google.colab import drive\n",
        "drive.mount('/content/drive')"
      ],
      "metadata": {
        "colab": {
          "base_uri": "https://localhost:8080/"
        },
        "id": "RPYQg2PLUiAD",
        "outputId": "10f125cf-2a79-4ed6-e898-941e35e3a3c1"
      },
      "execution_count": 1,
      "outputs": [
        {
          "output_type": "stream",
          "name": "stdout",
          "text": [
            "Mounted at /content/drive\n"
          ]
        }
      ]
    },
    {
      "cell_type": "code",
      "execution_count": 2,
      "metadata": {
        "id": "Ah1mMlwO_22J"
      },
      "outputs": [],
      "source": [
        "!unzip -qq /content/drive/MyDrive/Datasets/Apple_health.zip"
      ]
    },
    {
      "cell_type": "code",
      "source": [
        "!rm -rf train\n",
        "!rm -rf test\n",
        "!rm -rf val"
      ],
      "metadata": {
        "id": "rU8P_4vHCOFo"
      },
      "execution_count": 3,
      "outputs": []
    },
    {
      "cell_type": "code",
      "source": [
        "import os, shutil, pathlib\n",
        "import random"
      ],
      "metadata": {
        "id": "a0j0UydlAxVf"
      },
      "execution_count": 4,
      "outputs": []
    },
    {
      "cell_type": "code",
      "source": [
        "os.makedirs('train')\n",
        "os.makedirs('test')\n",
        "os.makedirs('val')\n",
        "os.makedirs('train/Apple___Apple_scab')\n",
        "os.makedirs('train/Apple___Black_rot')\n",
        "os.makedirs('train/Apple___Cedar_apple_rust')\n",
        "os.makedirs('train/Apple___healthy')\n",
        "os.makedirs('test/Apple___Apple_scab')\n",
        "os.makedirs('test/Apple___Black_rot')\n",
        "os.makedirs('test/Apple___Cedar_apple_rust')\n",
        "os.makedirs('test/Apple___healthy')\n",
        "os.makedirs('val/Apple___Apple_scab')\n",
        "os.makedirs('val/Apple___Black_rot')\n",
        "os.makedirs('val/Apple___Cedar_apple_rust')\n",
        "os.makedirs('val/Apple___healthy')"
      ],
      "metadata": {
        "id": "9VC7W6iOOrHP"
      },
      "execution_count": 5,
      "outputs": []
    },
    {
      "cell_type": "code",
      "source": [
        "folder_paths = [\"/content/test\",\"/content/train\",\"/content/val\"]\n",
        "categories = [\"Apple___Apple_scab\",\"Apple___Black_rot\",\"Apple___Cedar_apple_rust\",\"Apple___healthy\"]\n",
        "\n",
        "for folder_path in folder_paths:\n",
        "  for category in categories:\n",
        "    # Get a list of all files in the directory\n",
        "    files = os.listdir(os.path.join(folder_path,category))\n",
        "\n",
        "    # Loop through each file and delete it\n",
        "    for file in files:\n",
        "        file_path = os.path.join(folder_path, category, file)\n",
        "        if os.path.isfile(file_path):\n",
        "            os.remove(file_path)\n"
      ],
      "metadata": {
        "id": "VnWWGQtCG8qC"
      },
      "execution_count": 6,
      "outputs": []
    },
    {
      "cell_type": "code",
      "source": [
        "random.random()"
      ],
      "metadata": {
        "colab": {
          "base_uri": "https://localhost:8080/"
        },
        "id": "_1GBcvkkBQSw",
        "outputId": "5e0e521f-c660-430c-abd8-81ade2bee958"
      },
      "execution_count": 7,
      "outputs": [
        {
          "output_type": "execute_result",
          "data": {
            "text/plain": [
              "0.02034775414146972"
            ]
          },
          "metadata": {},
          "execution_count": 7
        }
      ]
    },
    {
      "cell_type": "code",
      "source": [
        "for dir in ('/content/Apple___Apple_scab', '/content/Apple___Black_rot','/content/Apple___Cedar_apple_rust','/content/Apple___healthy'):\n",
        "  files = os.listdir(dir)\n",
        "  for f in files:\n",
        "    ran_num = random.random()\n",
        "    src = os.path.join(dir, f)\n",
        "    # dst = '/content/train' + dir[8:] + \"/\" + f\n",
        "    if ran_num < 0.7:\n",
        "      dst = '/content/train' + dir[8:] + \"/\" + f\n",
        "      shutil.copyfile(src=src, dst=dst)\n",
        "    elif ran_num >= 0.7 and ran_num < 0.85:\n",
        "      dst = '/content/val' + dir[8:] + \"/\" + f\n",
        "      shutil.copyfile(src=src, dst=dst)\n",
        "    else:\n",
        "      dst = '/content/test' + dir[8:] + \"/\" + f\n",
        "      shutil.copyfile(src=src, dst=dst)"
      ],
      "metadata": {
        "id": "1aN1zqDZjOgN"
      },
      "execution_count": 8,
      "outputs": []
    },
    {
      "cell_type": "code",
      "source": [
        "from tensorflow.keras.utils import image_dataset_from_directory\n",
        "\n",
        "new_base_dir = pathlib.Path(\"/content/\")\n",
        "\n",
        "train_dataset = image_dataset_from_directory(\n",
        "    new_base_dir / \"train\",\n",
        "    image_size=(180, 180),\n",
        "    batch_size=32)\n",
        "val_dataset = image_dataset_from_directory(\n",
        "    new_base_dir / \"val\",\n",
        "    image_size=(180, 180),\n",
        "    batch_size=32)\n",
        "test_dataset = image_dataset_from_directory(\n",
        "    new_base_dir / \"test\",\n",
        "    image_size=(180, 180),\n",
        "    batch_size=32)"
      ],
      "metadata": {
        "colab": {
          "base_uri": "https://localhost:8080/"
        },
        "id": "4IfoVGprAQjK",
        "outputId": "6b2637ff-3b47-42f9-faa7-c4057af6d5d9"
      },
      "execution_count": 9,
      "outputs": [
        {
          "output_type": "stream",
          "name": "stdout",
          "text": [
            "Found 3252 files belonging to 4 classes.\n",
            "Found 691 files belonging to 4 classes.\n",
            "Found 702 files belonging to 4 classes.\n"
          ]
        }
      ]
    },
    {
      "cell_type": "code",
      "source": [
        "for data_batch, labels_batch in train_dataset:\n",
        "    print(\"data batch shape:\", data_batch.shape)\n",
        "    print(\"labels batch shape:\", labels_batch.shape)\n",
        "    break"
      ],
      "metadata": {
        "colab": {
          "base_uri": "https://localhost:8080/"
        },
        "id": "RZNegAiAIwyA",
        "outputId": "de3690b6-5168-439d-b25e-b77f4d755ccc"
      },
      "execution_count": 10,
      "outputs": [
        {
          "output_type": "stream",
          "name": "stdout",
          "text": [
            "data batch shape: (32, 180, 180, 3)\n",
            "labels batch shape: (32,)\n"
          ]
        }
      ]
    },
    {
      "cell_type": "code",
      "source": [
        "labels_batch"
      ],
      "metadata": {
        "colab": {
          "base_uri": "https://localhost:8080/"
        },
        "id": "rJiNM1yEI6pK",
        "outputId": "a20fc064-6003-4ade-f7c5-d384dbb7667a"
      },
      "execution_count": 11,
      "outputs": [
        {
          "output_type": "execute_result",
          "data": {
            "text/plain": [
              "<tf.Tensor: shape=(32,), dtype=int32, numpy=\n",
              "array([3, 0, 3, 1, 3, 2, 2, 2, 3, 3, 0, 3, 2, 1, 3, 0, 2, 0, 1, 2, 3, 1,\n",
              "       0, 3, 0, 3, 1, 2, 2, 3, 3, 3], dtype=int32)>"
            ]
          },
          "metadata": {},
          "execution_count": 11
        }
      ]
    },
    {
      "cell_type": "code",
      "source": [
        "from tensorflow import keras\n",
        "from tensorflow.keras import layers\n",
        "\n",
        "inputs = keras.Input(shape=(180, 180, 3))\n",
        "x = layers.Rescaling(1./255)(inputs)\n",
        "x = layers.Conv2D(filters=32, kernel_size=3, activation=\"relu\")(x)\n",
        "x = layers.MaxPooling2D(pool_size=2)(x)\n",
        "x = layers.Conv2D(filters=64, kernel_size=3, activation=\"relu\")(x)\n",
        "x = layers.MaxPooling2D(pool_size=2)(x)\n",
        "x = layers.Conv2D(filters=128, kernel_size=3, activation=\"relu\")(x)\n",
        "x = layers.MaxPooling2D(pool_size=2)(x)\n",
        "x = layers.Conv2D(filters=256, kernel_size=3, activation=\"relu\")(x)\n",
        "x = layers.MaxPooling2D(pool_size=2)(x)\n",
        "x = layers.Conv2D(filters=256, kernel_size=3, activation=\"relu\")(x)\n",
        "x = layers.Flatten()(x)\n",
        "outputs = layers.Dense(4, activation=\"softmax\")(x)\n",
        "model = keras.Model(inputs=inputs, outputs=outputs)\n",
        "\n",
        "model.summary()"
      ],
      "metadata": {
        "colab": {
          "base_uri": "https://localhost:8080/"
        },
        "id": "g7aaicG4c-7U",
        "outputId": "bd8802be-9f72-4729-8404-e542a37a243b"
      },
      "execution_count": 24,
      "outputs": [
        {
          "output_type": "stream",
          "name": "stdout",
          "text": [
            "Model: \"model_3\"\n",
            "_________________________________________________________________\n",
            " Layer (type)                Output Shape              Param #   \n",
            "=================================================================\n",
            " input_4 (InputLayer)        [(None, 180, 180, 3)]     0         \n",
            "                                                                 \n",
            " rescaling_3 (Rescaling)     (None, 180, 180, 3)       0         \n",
            "                                                                 \n",
            " conv2d_18 (Conv2D)          (None, 178, 178, 32)      896       \n",
            "                                                                 \n",
            " max_pooling2d_15 (MaxPoolin  (None, 89, 89, 32)       0         \n",
            " g2D)                                                            \n",
            "                                                                 \n",
            " conv2d_19 (Conv2D)          (None, 87, 87, 64)        18496     \n",
            "                                                                 \n",
            " max_pooling2d_16 (MaxPoolin  (None, 43, 43, 64)       0         \n",
            " g2D)                                                            \n",
            "                                                                 \n",
            " conv2d_20 (Conv2D)          (None, 41, 41, 128)       73856     \n",
            "                                                                 \n",
            " max_pooling2d_17 (MaxPoolin  (None, 20, 20, 128)      0         \n",
            " g2D)                                                            \n",
            "                                                                 \n",
            " conv2d_21 (Conv2D)          (None, 18, 18, 256)       295168    \n",
            "                                                                 \n",
            " max_pooling2d_18 (MaxPoolin  (None, 9, 9, 256)        0         \n",
            " g2D)                                                            \n",
            "                                                                 \n",
            " conv2d_22 (Conv2D)          (None, 7, 7, 256)         590080    \n",
            "                                                                 \n",
            " flatten_4 (Flatten)         (None, 12544)             0         \n",
            "                                                                 \n",
            " dense_5 (Dense)             (None, 4)                 50180     \n",
            "                                                                 \n",
            "=================================================================\n",
            "Total params: 1,028,676\n",
            "Trainable params: 1,028,676\n",
            "Non-trainable params: 0\n",
            "_________________________________________________________________\n"
          ]
        }
      ]
    },
    {
      "cell_type": "code",
      "source": [
        "model.compile(loss=\"sparse_categorical_crossentropy\",\n",
        "              optimizer=\"adam\",\n",
        "              metrics=[\"accuracy\"])"
      ],
      "metadata": {
        "id": "ls_tEjNJc-03"
      },
      "execution_count": 25,
      "outputs": []
    },
    {
      "cell_type": "code",
      "source": [
        "callbacks = [\n",
        "    keras.callbacks.ModelCheckpoint(\n",
        "        filepath=\"convnet_from_scratch.keras\",\n",
        "        save_best_only=True,\n",
        "        monitor=\"val_loss\")\n",
        "]\n",
        "history = model.fit(\n",
        "    train_dataset,\n",
        "    epochs=30,\n",
        "    validation_data=val_dataset,\n",
        "    callbacks=callbacks)"
      ],
      "metadata": {
        "colab": {
          "base_uri": "https://localhost:8080/"
        },
        "id": "VEk4lZIadyjS",
        "outputId": "29232dca-19cb-4d6f-f746-725a1594cfa6"
      },
      "execution_count": 26,
      "outputs": [
        {
          "output_type": "stream",
          "name": "stdout",
          "text": [
            "Epoch 1/30\n",
            "102/102 [==============================] - 8s 59ms/step - loss: 0.8264 - accuracy: 0.6756 - val_loss: 0.6106 - val_accuracy: 0.7656\n",
            "Epoch 2/30\n",
            "102/102 [==============================] - 5s 46ms/step - loss: 0.5185 - accuracy: 0.8087 - val_loss: 0.4029 - val_accuracy: 0.8567\n",
            "Epoch 3/30\n",
            "102/102 [==============================] - 6s 57ms/step - loss: 0.3332 - accuracy: 0.8795 - val_loss: 0.2353 - val_accuracy: 0.9088\n",
            "Epoch 4/30\n",
            "102/102 [==============================] - 5s 45ms/step - loss: 0.2334 - accuracy: 0.9148 - val_loss: 0.1626 - val_accuracy: 0.9421\n",
            "Epoch 5/30\n",
            "102/102 [==============================] - 6s 57ms/step - loss: 0.2350 - accuracy: 0.9148 - val_loss: 0.1992 - val_accuracy: 0.9291\n",
            "Epoch 6/30\n",
            "102/102 [==============================] - 5s 44ms/step - loss: 0.1720 - accuracy: 0.9354 - val_loss: 0.1706 - val_accuracy: 0.9305\n",
            "Epoch 7/30\n",
            "102/102 [==============================] - 5s 44ms/step - loss: 0.1503 - accuracy: 0.9462 - val_loss: 0.1562 - val_accuracy: 0.9407\n",
            "Epoch 8/30\n",
            "102/102 [==============================] - 6s 61ms/step - loss: 0.0888 - accuracy: 0.9680 - val_loss: 0.1339 - val_accuracy: 0.9493\n",
            "Epoch 9/30\n",
            "102/102 [==============================] - 5s 45ms/step - loss: 0.1169 - accuracy: 0.9585 - val_loss: 0.1113 - val_accuracy: 0.9551\n",
            "Epoch 10/30\n",
            "102/102 [==============================] - 6s 55ms/step - loss: 0.0739 - accuracy: 0.9748 - val_loss: 0.1270 - val_accuracy: 0.9595\n",
            "Epoch 11/30\n",
            "102/102 [==============================] - 5s 45ms/step - loss: 0.1081 - accuracy: 0.9588 - val_loss: 0.0765 - val_accuracy: 0.9653\n",
            "Epoch 12/30\n",
            "102/102 [==============================] - 6s 59ms/step - loss: 0.0410 - accuracy: 0.9883 - val_loss: 0.0860 - val_accuracy: 0.9725\n",
            "Epoch 13/30\n",
            "102/102 [==============================] - 5s 44ms/step - loss: 0.0274 - accuracy: 0.9905 - val_loss: 0.1123 - val_accuracy: 0.9696\n",
            "Epoch 14/30\n",
            "102/102 [==============================] - 5s 44ms/step - loss: 0.0473 - accuracy: 0.9834 - val_loss: 0.0876 - val_accuracy: 0.9711\n",
            "Epoch 15/30\n",
            "102/102 [==============================] - 6s 57ms/step - loss: 0.0794 - accuracy: 0.9699 - val_loss: 0.1217 - val_accuracy: 0.9566\n",
            "Epoch 16/30\n",
            "102/102 [==============================] - 5s 44ms/step - loss: 0.0670 - accuracy: 0.9751 - val_loss: 0.0950 - val_accuracy: 0.9682\n",
            "Epoch 17/30\n",
            "102/102 [==============================] - 6s 58ms/step - loss: 0.0371 - accuracy: 0.9859 - val_loss: 0.0484 - val_accuracy: 0.9855\n",
            "Epoch 18/30\n",
            "102/102 [==============================] - 5s 46ms/step - loss: 0.0511 - accuracy: 0.9825 - val_loss: 0.0458 - val_accuracy: 0.9826\n",
            "Epoch 19/30\n",
            "102/102 [==============================] - 5s 44ms/step - loss: 0.0183 - accuracy: 0.9954 - val_loss: 0.0423 - val_accuracy: 0.9826\n",
            "Epoch 20/30\n",
            "102/102 [==============================] - 6s 61ms/step - loss: 0.0147 - accuracy: 0.9948 - val_loss: 0.0235 - val_accuracy: 0.9913\n",
            "Epoch 21/30\n",
            "102/102 [==============================] - 5s 44ms/step - loss: 0.0102 - accuracy: 0.9966 - val_loss: 0.0553 - val_accuracy: 0.9797\n",
            "Epoch 22/30\n",
            "102/102 [==============================] - 5s 50ms/step - loss: 0.0021 - accuracy: 0.9997 - val_loss: 0.0246 - val_accuracy: 0.9913\n",
            "Epoch 23/30\n",
            "102/102 [==============================] - 6s 51ms/step - loss: 5.1131e-04 - accuracy: 1.0000 - val_loss: 0.0221 - val_accuracy: 0.9928\n",
            "Epoch 24/30\n",
            "102/102 [==============================] - 6s 59ms/step - loss: 2.1186e-04 - accuracy: 1.0000 - val_loss: 0.0202 - val_accuracy: 0.9957\n",
            "Epoch 25/30\n",
            "102/102 [==============================] - 5s 45ms/step - loss: 1.3444e-04 - accuracy: 1.0000 - val_loss: 0.0206 - val_accuracy: 0.9928\n",
            "Epoch 26/30\n",
            "102/102 [==============================] - 6s 61ms/step - loss: 9.7956e-05 - accuracy: 1.0000 - val_loss: 0.0210 - val_accuracy: 0.9942\n",
            "Epoch 27/30\n",
            "102/102 [==============================] - 5s 50ms/step - loss: 8.0841e-05 - accuracy: 1.0000 - val_loss: 0.0214 - val_accuracy: 0.9942\n",
            "Epoch 28/30\n",
            "102/102 [==============================] - 5s 45ms/step - loss: 6.6776e-05 - accuracy: 1.0000 - val_loss: 0.0215 - val_accuracy: 0.9942\n",
            "Epoch 29/30\n",
            "102/102 [==============================] - 5s 43ms/step - loss: 5.7576e-05 - accuracy: 1.0000 - val_loss: 0.0218 - val_accuracy: 0.9942\n",
            "Epoch 30/30\n",
            "102/102 [==============================] - 6s 62ms/step - loss: 4.9128e-05 - accuracy: 1.0000 - val_loss: 0.0220 - val_accuracy: 0.9942\n"
          ]
        }
      ]
    },
    {
      "cell_type": "code",
      "source": [
        "val_loss, val_acc = model.evaluate_generator(val_dataset, steps=len(val_dataset))\n",
        "\n",
        "# Print the validation loss and accuracy\n",
        "print('Validation Loss:', val_loss)\n",
        "print('Validation Accuracy:', val_acc)"
      ],
      "metadata": {
        "colab": {
          "base_uri": "https://localhost:8080/"
        },
        "id": "QwOhZEFaK5sT",
        "outputId": "aa6ab43a-ac8c-4f83-85ae-e79d674878ac"
      },
      "execution_count": 27,
      "outputs": [
        {
          "output_type": "stream",
          "name": "stderr",
          "text": [
            "<ipython-input-27-8da64b7714ee>:1: UserWarning: `Model.evaluate_generator` is deprecated and will be removed in a future version. Please use `Model.evaluate`, which supports generators.\n",
            "  val_loss, val_acc = model.evaluate_generator(val_dataset, steps=len(val_dataset))\n"
          ]
        },
        {
          "output_type": "stream",
          "name": "stdout",
          "text": [
            "Validation Loss: 0.02196647785604\n",
            "Validation Accuracy: 0.9942113161087036\n"
          ]
        }
      ]
    },
    {
      "cell_type": "code",
      "source": [
        "test_loss, test_acc = model.evaluate_generator(test_dataset, steps=len(test_dataset))\n",
        "\n",
        "# Print the validation loss and accuracy\n",
        "print('Test Loss:', test_loss)\n",
        "print('Test Accuracy:', test_acc)"
      ],
      "metadata": {
        "colab": {
          "base_uri": "https://localhost:8080/"
        },
        "id": "6lTETXimQkGS",
        "outputId": "d4cff0fc-5880-4905-8979-1f130a4c05a3"
      },
      "execution_count": 30,
      "outputs": [
        {
          "output_type": "stream",
          "name": "stderr",
          "text": [
            "<ipython-input-30-76bc88c33a26>:1: UserWarning: `Model.evaluate_generator` is deprecated and will be removed in a future version. Please use `Model.evaluate`, which supports generators.\n",
            "  test_loss, test_acc = model.evaluate_generator(test_dataset, steps=len(test_dataset))\n"
          ]
        },
        {
          "output_type": "stream",
          "name": "stdout",
          "text": [
            "Test Loss: 0.06838461756706238\n",
            "Test Accuracy: 0.9886040091514587\n"
          ]
        }
      ]
    }
  ]
}