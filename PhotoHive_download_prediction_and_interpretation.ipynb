{
 "cells": [
  {
   "cell_type": "markdown",
   "id": "ae7f9981-0269-484d-8c6b-185998071fb1",
   "metadata": {},
   "source": [
    "# Final Project: Predicting Photo Downloads"
   ]
  },
  {
   "cell_type": "code",
   "execution_count": 1,
   "id": "4d78a243",
   "metadata": {},
   "outputs": [],
   "source": [
    "from sklearn.ensemble import RandomForestClassifier\n",
    "import pandas as pd\n",
    "import numpy as np\n",
    "from sklearn import model_selection, naive_bayes, svm\n",
    "from sklearn.model_selection import train_test_split, cross_val_score, GridSearchCV\n",
    "from sklearn.svm import SVC\n",
    "import matplotlib.pyplot as plt\n",
    "from sklearn.inspection import permutation_importance\n",
    "from sklearn.datasets import make_blobs, make_circles, make_classification, fetch_olivetti_faces\n",
    "from sklearn.tree import DecisionTreeClassifier, plot_tree\n",
    "from sklearn.metrics import confusion_matrix, accuracy_score, precision_recall_curve, roc_curve, auc\n",
    "from sklearn.linear_model import LogisticRegression\n",
    "from statistics import mode\n",
    "import statsmodels.api as sm\n",
    "\n",
    "%matplotlib inline"
   ]
  },
  {
   "cell_type": "code",
   "execution_count": 2,
   "id": "dae52f76",
   "metadata": {},
   "outputs": [],
   "source": [
    "def forward(X, y, predictors, response_variable):\n",
    "    \n",
    "    # Pull out predictors we still need to process\n",
    "    remaining_predictors = [p for p in X.columns if p not in predictors]\n",
    "    \n",
    "    results = []\n",
    "    \n",
    "    for p in remaining_predictors:\n",
    "        results.append(processSubset(X, y, predictors + [p], response_variable))\n",
    "\n",
    "    # Wrap everything up in a nice dataframe\n",
    "    models = pd.DataFrame(results)\n",
    "    \n",
    "    # Choose the model with the highest acc\n",
    "    best_model = models.loc[models['acc'].argmax()]\n",
    "    acc = models['acc'].max()\n",
    "    print(\"Processed \", models.shape[0], \"models on\", len(predictors)+1, \"predictors\")\n",
    "    \n",
    "    # Return the best model, along with some other useful information about the model\n",
    "    return best_model, acc"
   ]
  },
  {
   "cell_type": "code",
   "execution_count": 3,
   "id": "097f14e3",
   "metadata": {},
   "outputs": [],
   "source": [
    "def processSubset(X, y, predictor_variables, response_variable):\n",
    "    # Fit model on feature_set and calculate accuracy\n",
    "\n",
    "    log_reg = sm.Logit(y,X[list(predictor_variables)]).fit()\n",
    "    preds = log_reg.predict(X_val[predictor_variables])\n",
    "    binary_preds = np.where(preds >= .5, 1, 0)\n",
    "    acc = accuracy_score(y_val, binary_preds)\n",
    "    \n",
    "    return {\"model\":log_reg, \"acc\":acc}"
   ]
  },
  {
   "cell_type": "markdown",
   "id": "a22b31d3",
   "metadata": {},
   "source": [
    "# Data Preprocessing"
   ]
  },
  {
   "cell_type": "code",
   "execution_count": 64,
   "id": "0d1ef724",
   "metadata": {
    "scrolled": false
   },
   "outputs": [
    {
     "data": {
      "text/html": [
       "<div>\n",
       "<style scoped>\n",
       "    .dataframe tbody tr th:only-of-type {\n",
       "        vertical-align: middle;\n",
       "    }\n",
       "\n",
       "    .dataframe tbody tr th {\n",
       "        vertical-align: top;\n",
       "    }\n",
       "\n",
       "    .dataframe thead th {\n",
       "        text-align: right;\n",
       "    }\n",
       "</style>\n",
       "<table border=\"1\" class=\"dataframe\">\n",
       "  <thead>\n",
       "    <tr style=\"text-align: right;\">\n",
       "      <th></th>\n",
       "      <th>PhotoID</th>\n",
       "      <th>PhotographerID</th>\n",
       "      <th>EventID</th>\n",
       "      <th>Latitude</th>\n",
       "      <th>Longitude</th>\n",
       "      <th>Price</th>\n",
       "      <th>ErrorID</th>\n",
       "      <th>Tagged</th>\n",
       "      <th>Riders</th>\n",
       "      <th>Stage</th>\n",
       "      <th>...</th>\n",
       "      <th>Horizontal</th>\n",
       "      <th>Vertical</th>\n",
       "      <th>Gender</th>\n",
       "      <th>BuyRating</th>\n",
       "      <th>Red</th>\n",
       "      <th>Green</th>\n",
       "      <th>Blue</th>\n",
       "      <th>OldName</th>\n",
       "      <th>DateTime</th>\n",
       "      <th>PriceID</th>\n",
       "    </tr>\n",
       "  </thead>\n",
       "  <tbody>\n",
       "    <tr>\n",
       "      <th>0</th>\n",
       "      <td>2</td>\n",
       "      <td>1</td>\n",
       "      <td>1</td>\n",
       "      <td>NaN</td>\n",
       "      <td>NaN</td>\n",
       "      <td>10.0</td>\n",
       "      <td>NaN</td>\n",
       "      <td>1</td>\n",
       "      <td>0.0</td>\n",
       "      <td>e</td>\n",
       "      <td>...</td>\n",
       "      <td>f</td>\n",
       "      <td>m</td>\n",
       "      <td>m</td>\n",
       "      <td>1.0</td>\n",
       "      <td>74.0</td>\n",
       "      <td>63.0</td>\n",
       "      <td>58.0</td>\n",
       "      <td>NaN</td>\n",
       "      <td>NaN</td>\n",
       "      <td>NaN</td>\n",
       "    </tr>\n",
       "    <tr>\n",
       "      <th>1</th>\n",
       "      <td>3</td>\n",
       "      <td>2</td>\n",
       "      <td>2</td>\n",
       "      <td>0.0</td>\n",
       "      <td>0.0</td>\n",
       "      <td>1.0</td>\n",
       "      <td>NaN</td>\n",
       "      <td>1</td>\n",
       "      <td>0.0</td>\n",
       "      <td>e</td>\n",
       "      <td>...</td>\n",
       "      <td>d</td>\n",
       "      <td>m</td>\n",
       "      <td>m</td>\n",
       "      <td>1.0</td>\n",
       "      <td>99.0</td>\n",
       "      <td>93.0</td>\n",
       "      <td>83.0</td>\n",
       "      <td>NaN</td>\n",
       "      <td>NaN</td>\n",
       "      <td>NaN</td>\n",
       "    </tr>\n",
       "    <tr>\n",
       "      <th>2</th>\n",
       "      <td>4</td>\n",
       "      <td>2</td>\n",
       "      <td>2</td>\n",
       "      <td>0.0</td>\n",
       "      <td>0.0</td>\n",
       "      <td>1.0</td>\n",
       "      <td>NaN</td>\n",
       "      <td>1</td>\n",
       "      <td>2.0</td>\n",
       "      <td>e</td>\n",
       "      <td>...</td>\n",
       "      <td>f</td>\n",
       "      <td>m</td>\n",
       "      <td>m</td>\n",
       "      <td>1.0</td>\n",
       "      <td>91.0</td>\n",
       "      <td>86.0</td>\n",
       "      <td>84.0</td>\n",
       "      <td>NaN</td>\n",
       "      <td>NaN</td>\n",
       "      <td>NaN</td>\n",
       "    </tr>\n",
       "    <tr>\n",
       "      <th>3</th>\n",
       "      <td>5</td>\n",
       "      <td>2</td>\n",
       "      <td>2</td>\n",
       "      <td>0.0</td>\n",
       "      <td>0.0</td>\n",
       "      <td>1.0</td>\n",
       "      <td>NaN</td>\n",
       "      <td>1</td>\n",
       "      <td>1.0</td>\n",
       "      <td>d</td>\n",
       "      <td>...</td>\n",
       "      <td>f</td>\n",
       "      <td>m</td>\n",
       "      <td>m</td>\n",
       "      <td>1.0</td>\n",
       "      <td>107.0</td>\n",
       "      <td>104.0</td>\n",
       "      <td>106.0</td>\n",
       "      <td>NaN</td>\n",
       "      <td>NaN</td>\n",
       "      <td>NaN</td>\n",
       "    </tr>\n",
       "    <tr>\n",
       "      <th>4</th>\n",
       "      <td>6</td>\n",
       "      <td>2</td>\n",
       "      <td>2</td>\n",
       "      <td>0.0</td>\n",
       "      <td>0.0</td>\n",
       "      <td>1.0</td>\n",
       "      <td>NaN</td>\n",
       "      <td>1</td>\n",
       "      <td>3.0</td>\n",
       "      <td>d</td>\n",
       "      <td>...</td>\n",
       "      <td>d</td>\n",
       "      <td>l</td>\n",
       "      <td>m</td>\n",
       "      <td>1.0</td>\n",
       "      <td>68.0</td>\n",
       "      <td>76.0</td>\n",
       "      <td>84.0</td>\n",
       "      <td>NaN</td>\n",
       "      <td>NaN</td>\n",
       "      <td>NaN</td>\n",
       "    </tr>\n",
       "  </tbody>\n",
       "</table>\n",
       "<p>5 rows × 22 columns</p>\n",
       "</div>"
      ],
      "text/plain": [
       "   PhotoID  PhotographerID  EventID  Latitude  Longitude  Price  ErrorID  \\\n",
       "0        2               1        1       NaN        NaN   10.0      NaN   \n",
       "1        3               2        2       0.0        0.0    1.0      NaN   \n",
       "2        4               2        2       0.0        0.0    1.0      NaN   \n",
       "3        5               2        2       0.0        0.0    1.0      NaN   \n",
       "4        6               2        2       0.0        0.0    1.0      NaN   \n",
       "\n",
       "   Tagged  Riders Stage  ... Horizontal  Vertical Gender BuyRating    Red  \\\n",
       "0       1     0.0     e  ...          f         m      m       1.0   74.0   \n",
       "1       1     0.0     e  ...          d         m      m       1.0   99.0   \n",
       "2       1     2.0     e  ...          f         m      m       1.0   91.0   \n",
       "3       1     1.0     d  ...          f         m      m       1.0  107.0   \n",
       "4       1     3.0     d  ...          d         l      m       1.0   68.0   \n",
       "\n",
       "   Green   Blue  OldName  DateTime PriceID  \n",
       "0   63.0   58.0      NaN       NaN     NaN  \n",
       "1   93.0   83.0      NaN       NaN     NaN  \n",
       "2   86.0   84.0      NaN       NaN     NaN  \n",
       "3  104.0  106.0      NaN       NaN     NaN  \n",
       "4   76.0   84.0      NaN       NaN     NaN  \n",
       "\n",
       "[5 rows x 22 columns]"
      ]
     },
     "execution_count": 64,
     "metadata": {},
     "output_type": "execute_result"
    }
   ],
   "source": [
    "df = pd.read_csv('Photo_Sales.csv')\n",
    "df.head()"
   ]
  },
  {
   "cell_type": "code",
   "execution_count": 65,
   "id": "4eb758d5",
   "metadata": {},
   "outputs": [
    {
     "data": {
      "text/plain": [
       "Index(['PhotoID', 'PhotographerID', 'EventID', 'Latitude', 'Longitude',\n",
       "       'Price', 'ErrorID', 'Tagged', 'Riders', 'Stage', 'Obstacle', 'Blur',\n",
       "       'Horizontal', 'Vertical', 'Gender', 'BuyRating', 'Red', 'Green', 'Blue',\n",
       "       'OldName', 'DateTime', 'PriceID'],\n",
       "      dtype='object')"
      ]
     },
     "execution_count": 65,
     "metadata": {},
     "output_type": "execute_result"
    }
   ],
   "source": [
    "df.columns"
   ]
  },
  {
   "cell_type": "code",
   "execution_count": 66,
   "id": "c7559312",
   "metadata": {},
   "outputs": [],
   "source": [
    "df.drop(['Latitude','Longitude','ErrorID','Price','OldName','PhotoID','PhotographerID','EventID','PriceID','DateTime','Tagged'],axis=1, inplace=True)"
   ]
  },
  {
   "cell_type": "code",
   "execution_count": 83,
   "id": "9b9d96e6",
   "metadata": {
    "scrolled": false
   },
   "outputs": [
    {
     "name": "stdout",
     "output_type": "stream",
     "text": [
      "(452, 16) (452, 1)\n",
      "(97, 16) (97, 1)\n",
      "(97, 16) (97, 1)\n"
     ]
    }
   ],
   "source": [
    "df = df.dropna()\n",
    "X = df.drop(['BuyRating'],axis=1)\n",
    "X = pd.get_dummies(data=X, drop_first=True)\n",
    "X[['Riders','Blur','Red','Green','Blue']] = (X[['Riders','Blur','Red','Green','Blue']] - X[['Riders','Blur','Red','Green','Blue']].mean()) / X[['Riders','Blur','Red','Green','Blue']].std()\n",
    "y = df.BuyRating\n",
    "y = pd.DataFrame(data=y)\n",
    "\n",
    "X_train, X_test, y_train, y_test = train_test_split(X, y, test_size=0.3, random_state=50)\n",
    "\n",
    "X_val, X_test, y_val, y_test = train_test_split(X_test, y_test, test_size=0.5, random_state=50)\n",
    "\n",
    "\n",
    "print(X_train.shape, y_train.shape)\n",
    "print(X_test.shape, y_test.shape)\n",
    "print(X_val.shape, y_val.shape)"
   ]
  },
  {
   "cell_type": "code",
   "execution_count": 68,
   "id": "fdd77311",
   "metadata": {
    "scrolled": false
   },
   "outputs": [
    {
     "data": {
      "text/html": [
       "<div>\n",
       "<style scoped>\n",
       "    .dataframe tbody tr th:only-of-type {\n",
       "        vertical-align: middle;\n",
       "    }\n",
       "\n",
       "    .dataframe tbody tr th {\n",
       "        vertical-align: top;\n",
       "    }\n",
       "\n",
       "    .dataframe thead th {\n",
       "        text-align: right;\n",
       "    }\n",
       "</style>\n",
       "<table border=\"1\" class=\"dataframe\">\n",
       "  <thead>\n",
       "    <tr style=\"text-align: right;\">\n",
       "      <th></th>\n",
       "      <th>Riders</th>\n",
       "      <th>Blur</th>\n",
       "      <th>Red</th>\n",
       "      <th>Green</th>\n",
       "      <th>Blue</th>\n",
       "      <th>Stage_e</th>\n",
       "      <th>Stage_f</th>\n",
       "      <th>Stage_s</th>\n",
       "      <th>Stage_u</th>\n",
       "      <th>Obstacle_y</th>\n",
       "      <th>Horizontal_d</th>\n",
       "      <th>Horizontal_f</th>\n",
       "      <th>Horizontal_s</th>\n",
       "      <th>Vertical_l</th>\n",
       "      <th>Vertical_m</th>\n",
       "      <th>Gender_m</th>\n",
       "    </tr>\n",
       "  </thead>\n",
       "  <tbody>\n",
       "    <tr>\n",
       "      <th>0</th>\n",
       "      <td>0.0</td>\n",
       "      <td>552.0</td>\n",
       "      <td>74.0</td>\n",
       "      <td>63.0</td>\n",
       "      <td>58.0</td>\n",
       "      <td>1</td>\n",
       "      <td>0</td>\n",
       "      <td>0</td>\n",
       "      <td>0</td>\n",
       "      <td>0</td>\n",
       "      <td>0</td>\n",
       "      <td>1</td>\n",
       "      <td>0</td>\n",
       "      <td>0</td>\n",
       "      <td>1</td>\n",
       "      <td>1</td>\n",
       "    </tr>\n",
       "    <tr>\n",
       "      <th>1</th>\n",
       "      <td>0.0</td>\n",
       "      <td>1595.0</td>\n",
       "      <td>99.0</td>\n",
       "      <td>93.0</td>\n",
       "      <td>83.0</td>\n",
       "      <td>1</td>\n",
       "      <td>0</td>\n",
       "      <td>0</td>\n",
       "      <td>0</td>\n",
       "      <td>0</td>\n",
       "      <td>1</td>\n",
       "      <td>0</td>\n",
       "      <td>0</td>\n",
       "      <td>0</td>\n",
       "      <td>1</td>\n",
       "      <td>1</td>\n",
       "    </tr>\n",
       "    <tr>\n",
       "      <th>2</th>\n",
       "      <td>2.0</td>\n",
       "      <td>420.0</td>\n",
       "      <td>91.0</td>\n",
       "      <td>86.0</td>\n",
       "      <td>84.0</td>\n",
       "      <td>1</td>\n",
       "      <td>0</td>\n",
       "      <td>0</td>\n",
       "      <td>0</td>\n",
       "      <td>0</td>\n",
       "      <td>0</td>\n",
       "      <td>1</td>\n",
       "      <td>0</td>\n",
       "      <td>0</td>\n",
       "      <td>1</td>\n",
       "      <td>1</td>\n",
       "    </tr>\n",
       "    <tr>\n",
       "      <th>3</th>\n",
       "      <td>1.0</td>\n",
       "      <td>928.0</td>\n",
       "      <td>107.0</td>\n",
       "      <td>104.0</td>\n",
       "      <td>106.0</td>\n",
       "      <td>0</td>\n",
       "      <td>0</td>\n",
       "      <td>0</td>\n",
       "      <td>0</td>\n",
       "      <td>1</td>\n",
       "      <td>0</td>\n",
       "      <td>1</td>\n",
       "      <td>0</td>\n",
       "      <td>0</td>\n",
       "      <td>1</td>\n",
       "      <td>1</td>\n",
       "    </tr>\n",
       "    <tr>\n",
       "      <th>4</th>\n",
       "      <td>3.0</td>\n",
       "      <td>620.0</td>\n",
       "      <td>68.0</td>\n",
       "      <td>76.0</td>\n",
       "      <td>84.0</td>\n",
       "      <td>0</td>\n",
       "      <td>0</td>\n",
       "      <td>0</td>\n",
       "      <td>0</td>\n",
       "      <td>1</td>\n",
       "      <td>1</td>\n",
       "      <td>0</td>\n",
       "      <td>0</td>\n",
       "      <td>1</td>\n",
       "      <td>0</td>\n",
       "      <td>1</td>\n",
       "    </tr>\n",
       "    <tr>\n",
       "      <th>...</th>\n",
       "      <td>...</td>\n",
       "      <td>...</td>\n",
       "      <td>...</td>\n",
       "      <td>...</td>\n",
       "      <td>...</td>\n",
       "      <td>...</td>\n",
       "      <td>...</td>\n",
       "      <td>...</td>\n",
       "      <td>...</td>\n",
       "      <td>...</td>\n",
       "      <td>...</td>\n",
       "      <td>...</td>\n",
       "      <td>...</td>\n",
       "      <td>...</td>\n",
       "      <td>...</td>\n",
       "      <td>...</td>\n",
       "    </tr>\n",
       "    <tr>\n",
       "      <th>641</th>\n",
       "      <td>2.0</td>\n",
       "      <td>3359.0</td>\n",
       "      <td>106.0</td>\n",
       "      <td>97.0</td>\n",
       "      <td>74.0</td>\n",
       "      <td>0</td>\n",
       "      <td>0</td>\n",
       "      <td>0</td>\n",
       "      <td>0</td>\n",
       "      <td>0</td>\n",
       "      <td>0</td>\n",
       "      <td>1</td>\n",
       "      <td>0</td>\n",
       "      <td>0</td>\n",
       "      <td>1</td>\n",
       "      <td>1</td>\n",
       "    </tr>\n",
       "    <tr>\n",
       "      <th>642</th>\n",
       "      <td>1.0</td>\n",
       "      <td>1973.0</td>\n",
       "      <td>116.0</td>\n",
       "      <td>104.0</td>\n",
       "      <td>86.0</td>\n",
       "      <td>0</td>\n",
       "      <td>0</td>\n",
       "      <td>0</td>\n",
       "      <td>0</td>\n",
       "      <td>0</td>\n",
       "      <td>0</td>\n",
       "      <td>1</td>\n",
       "      <td>0</td>\n",
       "      <td>0</td>\n",
       "      <td>1</td>\n",
       "      <td>1</td>\n",
       "    </tr>\n",
       "    <tr>\n",
       "      <th>643</th>\n",
       "      <td>2.0</td>\n",
       "      <td>1607.0</td>\n",
       "      <td>122.0</td>\n",
       "      <td>115.0</td>\n",
       "      <td>95.0</td>\n",
       "      <td>1</td>\n",
       "      <td>0</td>\n",
       "      <td>0</td>\n",
       "      <td>0</td>\n",
       "      <td>0</td>\n",
       "      <td>0</td>\n",
       "      <td>1</td>\n",
       "      <td>0</td>\n",
       "      <td>0</td>\n",
       "      <td>1</td>\n",
       "      <td>1</td>\n",
       "    </tr>\n",
       "    <tr>\n",
       "      <th>644</th>\n",
       "      <td>1.0</td>\n",
       "      <td>2678.0</td>\n",
       "      <td>106.0</td>\n",
       "      <td>95.0</td>\n",
       "      <td>80.0</td>\n",
       "      <td>0</td>\n",
       "      <td>0</td>\n",
       "      <td>0</td>\n",
       "      <td>0</td>\n",
       "      <td>0</td>\n",
       "      <td>0</td>\n",
       "      <td>1</td>\n",
       "      <td>0</td>\n",
       "      <td>0</td>\n",
       "      <td>1</td>\n",
       "      <td>1</td>\n",
       "    </tr>\n",
       "    <tr>\n",
       "      <th>645</th>\n",
       "      <td>5.0</td>\n",
       "      <td>2145.0</td>\n",
       "      <td>88.0</td>\n",
       "      <td>80.0</td>\n",
       "      <td>69.0</td>\n",
       "      <td>0</td>\n",
       "      <td>0</td>\n",
       "      <td>0</td>\n",
       "      <td>0</td>\n",
       "      <td>0</td>\n",
       "      <td>0</td>\n",
       "      <td>1</td>\n",
       "      <td>0</td>\n",
       "      <td>0</td>\n",
       "      <td>1</td>\n",
       "      <td>1</td>\n",
       "    </tr>\n",
       "  </tbody>\n",
       "</table>\n",
       "<p>646 rows × 16 columns</p>\n",
       "</div>"
      ],
      "text/plain": [
       "     Riders    Blur    Red  Green   Blue  Stage_e  Stage_f  Stage_s  Stage_u  \\\n",
       "0       0.0   552.0   74.0   63.0   58.0        1        0        0        0   \n",
       "1       0.0  1595.0   99.0   93.0   83.0        1        0        0        0   \n",
       "2       2.0   420.0   91.0   86.0   84.0        1        0        0        0   \n",
       "3       1.0   928.0  107.0  104.0  106.0        0        0        0        0   \n",
       "4       3.0   620.0   68.0   76.0   84.0        0        0        0        0   \n",
       "..      ...     ...    ...    ...    ...      ...      ...      ...      ...   \n",
       "641     2.0  3359.0  106.0   97.0   74.0        0        0        0        0   \n",
       "642     1.0  1973.0  116.0  104.0   86.0        0        0        0        0   \n",
       "643     2.0  1607.0  122.0  115.0   95.0        1        0        0        0   \n",
       "644     1.0  2678.0  106.0   95.0   80.0        0        0        0        0   \n",
       "645     5.0  2145.0   88.0   80.0   69.0        0        0        0        0   \n",
       "\n",
       "     Obstacle_y  Horizontal_d  Horizontal_f  Horizontal_s  Vertical_l  \\\n",
       "0             0             0             1             0           0   \n",
       "1             0             1             0             0           0   \n",
       "2             0             0             1             0           0   \n",
       "3             1             0             1             0           0   \n",
       "4             1             1             0             0           1   \n",
       "..          ...           ...           ...           ...         ...   \n",
       "641           0             0             1             0           0   \n",
       "642           0             0             1             0           0   \n",
       "643           0             0             1             0           0   \n",
       "644           0             0             1             0           0   \n",
       "645           0             0             1             0           0   \n",
       "\n",
       "     Vertical_m  Gender_m  \n",
       "0             1         1  \n",
       "1             1         1  \n",
       "2             1         1  \n",
       "3             1         1  \n",
       "4             0         1  \n",
       "..          ...       ...  \n",
       "641           1         1  \n",
       "642           1         1  \n",
       "643           1         1  \n",
       "644           1         1  \n",
       "645           1         1  \n",
       "\n",
       "[646 rows x 16 columns]"
      ]
     },
     "execution_count": 68,
     "metadata": {},
     "output_type": "execute_result"
    }
   ],
   "source": [
    "X"
   ]
  },
  {
   "cell_type": "markdown",
   "id": "d1ad83db",
   "metadata": {},
   "source": [
    "## Set baseline accuracy"
   ]
  },
  {
   "cell_type": "code",
   "execution_count": 86,
   "id": "2e2781bd",
   "metadata": {},
   "outputs": [
    {
     "data": {
      "text/plain": [
       "0.37925696594427244"
      ]
     },
     "execution_count": 86,
     "metadata": {},
     "output_type": "execute_result"
    }
   ],
   "source": [
    "target_acc = y['BuyRating'].mean()\n",
    "target_acc"
   ]
  },
  {
   "cell_type": "code",
   "execution_count": 87,
   "id": "9271349a",
   "metadata": {},
   "outputs": [
    {
     "data": {
      "text/plain": [
       "0.6207430340557276"
      ]
     },
     "execution_count": 87,
     "metadata": {},
     "output_type": "execute_result"
    }
   ],
   "source": [
    "target_acc = 1 - target_acc\n",
    "target_acc"
   ]
  },
  {
   "cell_type": "markdown",
   "id": "ff5e6d55",
   "metadata": {},
   "source": [
    "We will use the Majority Class Classifier as the baseline accuracy to beat.\n",
    "\n",
    "# Logistic Regression\n",
    "\n",
    "Logistic Regression assumptions are that the output variable be binary, observations be independent of each other, little or no multicolinearity of predictors, and a large sample size.\n",
    "\n",
    "Display correlation matrix to check for multicolinearity."
   ]
  },
  {
   "cell_type": "code",
   "execution_count": 123,
   "id": "ce953ece",
   "metadata": {},
   "outputs": [
    {
     "data": {
      "text/html": [
       "<style  type=\"text/css\" >\n",
       "#T_b6bd6_row0_col0,#T_b6bd6_row1_col1,#T_b6bd6_row2_col2,#T_b6bd6_row3_col3,#T_b6bd6_row4_col4,#T_b6bd6_row5_col5,#T_b6bd6_row6_col6,#T_b6bd6_row7_col7,#T_b6bd6_row8_col8,#T_b6bd6_row9_col9,#T_b6bd6_row10_col10,#T_b6bd6_row11_col11,#T_b6bd6_row12_col12,#T_b6bd6_row13_col13,#T_b6bd6_row14_col14,#T_b6bd6_row15_col15,#T_b6bd6_row16_col16{\n",
       "            background-color:  #b40426;\n",
       "            color:  #f1f1f1;\n",
       "        }#T_b6bd6_row0_col1,#T_b6bd6_row1_col0,#T_b6bd6_row8_col14,#T_b6bd6_row14_col8{\n",
       "            background-color:  #d3dbe7;\n",
       "            color:  #000000;\n",
       "        }#T_b6bd6_row0_col2,#T_b6bd6_row0_col11,#T_b6bd6_row0_col15,#T_b6bd6_row1_col8,#T_b6bd6_row2_col0,#T_b6bd6_row2_col14,#T_b6bd6_row8_col1,#T_b6bd6_row11_col0,#T_b6bd6_row14_col2,#T_b6bd6_row14_col15,#T_b6bd6_row15_col0,#T_b6bd6_row15_col14{\n",
       "            background-color:  #e7d7ce;\n",
       "            color:  #000000;\n",
       "        }#T_b6bd6_row0_col3,#T_b6bd6_row3_col0,#T_b6bd6_row4_col15,#T_b6bd6_row7_col10,#T_b6bd6_row7_col14,#T_b6bd6_row10_col7,#T_b6bd6_row14_col7,#T_b6bd6_row15_col4{\n",
       "            background-color:  #ead5c9;\n",
       "            color:  #000000;\n",
       "        }#T_b6bd6_row0_col4,#T_b6bd6_row3_col15,#T_b6bd6_row4_col0,#T_b6bd6_row5_col12,#T_b6bd6_row5_col15,#T_b6bd6_row7_col15,#T_b6bd6_row12_col5,#T_b6bd6_row15_col3,#T_b6bd6_row15_col5,#T_b6bd6_row15_col7{\n",
       "            background-color:  #ebd3c6;\n",
       "            color:  #000000;\n",
       "        }#T_b6bd6_row0_col5,#T_b6bd6_row3_col16,#T_b6bd6_row4_col16,#T_b6bd6_row5_col0,#T_b6bd6_row5_col10,#T_b6bd6_row10_col5,#T_b6bd6_row16_col3,#T_b6bd6_row16_col4{\n",
       "            background-color:  #d6dce4;\n",
       "            color:  #000000;\n",
       "        }#T_b6bd6_row0_col6,#T_b6bd6_row2_col16,#T_b6bd6_row6_col0,#T_b6bd6_row16_col2{\n",
       "            background-color:  #d7dce3;\n",
       "            color:  #000000;\n",
       "        }#T_b6bd6_row0_col7,#T_b6bd6_row7_col0{\n",
       "            background-color:  #ee8669;\n",
       "            color:  #000000;\n",
       "        }#T_b6bd6_row0_col8,#T_b6bd6_row7_col9,#T_b6bd6_row8_col0,#T_b6bd6_row9_col7{\n",
       "            background-color:  #ccd9ed;\n",
       "            color:  #000000;\n",
       "        }#T_b6bd6_row0_col9,#T_b6bd6_row1_col7,#T_b6bd6_row2_col8,#T_b6bd6_row7_col1,#T_b6bd6_row8_col2,#T_b6bd6_row9_col0,#T_b6bd6_row12_col14,#T_b6bd6_row14_col12{\n",
       "            background-color:  #d5dbe5;\n",
       "            color:  #000000;\n",
       "        }#T_b6bd6_row0_col10,#T_b6bd6_row1_col14,#T_b6bd6_row6_col14,#T_b6bd6_row10_col0,#T_b6bd6_row14_col1,#T_b6bd6_row14_col6{\n",
       "            background-color:  #e3d9d3;\n",
       "            color:  #000000;\n",
       "        }#T_b6bd6_row0_col12,#T_b6bd6_row7_col12,#T_b6bd6_row9_col11,#T_b6bd6_row11_col9,#T_b6bd6_row12_col0,#T_b6bd6_row12_col7{\n",
       "            background-color:  #c7d7f0;\n",
       "            color:  #000000;\n",
       "        }#T_b6bd6_row0_col13,#T_b6bd6_row13_col0,#T_b6bd6_row13_col15,#T_b6bd6_row15_col13{\n",
       "            background-color:  #cdd9ec;\n",
       "            color:  #000000;\n",
       "        }#T_b6bd6_row0_col14,#T_b6bd6_row3_col9,#T_b6bd6_row9_col3,#T_b6bd6_row10_col14,#T_b6bd6_row14_col0,#T_b6bd6_row14_col10{\n",
       "            background-color:  #e6d7cf;\n",
       "            color:  #000000;\n",
       "        }#T_b6bd6_row0_col16,#T_b6bd6_row1_col10,#T_b6bd6_row2_col15,#T_b6bd6_row5_col9,#T_b6bd6_row9_col5,#T_b6bd6_row10_col1,#T_b6bd6_row15_col2,#T_b6bd6_row16_col0{\n",
       "            background-color:  #efcebd;\n",
       "            color:  #000000;\n",
       "        }#T_b6bd6_row1_col2,#T_b6bd6_row2_col1{\n",
       "            background-color:  #b3cdfb;\n",
       "            color:  #000000;\n",
       "        }#T_b6bd6_row1_col3,#T_b6bd6_row1_col15,#T_b6bd6_row3_col1,#T_b6bd6_row5_col8,#T_b6bd6_row8_col5,#T_b6bd6_row15_col1{\n",
       "            background-color:  #b5cdfa;\n",
       "            color:  #000000;\n",
       "        }#T_b6bd6_row1_col4,#T_b6bd6_row4_col1{\n",
       "            background-color:  #a9c6fd;\n",
       "            color:  #000000;\n",
       "        }#T_b6bd6_row1_col5,#T_b6bd6_row5_col1{\n",
       "            background-color:  #a6c4fe;\n",
       "            color:  #000000;\n",
       "        }#T_b6bd6_row1_col6,#T_b6bd6_row6_col1{\n",
       "            background-color:  #b6cefa;\n",
       "            color:  #000000;\n",
       "        }#T_b6bd6_row1_col9,#T_b6bd6_row1_col12,#T_b6bd6_row9_col1,#T_b6bd6_row12_col1{\n",
       "            background-color:  #c5d6f2;\n",
       "            color:  #000000;\n",
       "        }#T_b6bd6_row1_col11,#T_b6bd6_row2_col7,#T_b6bd6_row2_col12,#T_b6bd6_row3_col13,#T_b6bd6_row4_col10,#T_b6bd6_row7_col2,#T_b6bd6_row9_col16,#T_b6bd6_row10_col4,#T_b6bd6_row11_col1,#T_b6bd6_row12_col2,#T_b6bd6_row13_col3,#T_b6bd6_row16_col9{\n",
       "            background-color:  #dddcdc;\n",
       "            color:  #000000;\n",
       "        }#T_b6bd6_row1_col13,#T_b6bd6_row6_col12,#T_b6bd6_row12_col6,#T_b6bd6_row13_col1{\n",
       "            background-color:  #cbd8ee;\n",
       "            color:  #000000;\n",
       "        }#T_b6bd6_row1_col16,#T_b6bd6_row12_col13,#T_b6bd6_row13_col12,#T_b6bd6_row16_col1{\n",
       "            background-color:  #e5d8d1;\n",
       "            color:  #000000;\n",
       "        }#T_b6bd6_row2_col3,#T_b6bd6_row3_col2{\n",
       "            background-color:  #ba162b;\n",
       "            color:  #f1f1f1;\n",
       "        }#T_b6bd6_row2_col4,#T_b6bd6_row4_col2{\n",
       "            background-color:  #c53334;\n",
       "            color:  #f1f1f1;\n",
       "        }#T_b6bd6_row2_col5,#T_b6bd6_row5_col2{\n",
       "            background-color:  #f5c4ac;\n",
       "            color:  #000000;\n",
       "        }#T_b6bd6_row2_col6,#T_b6bd6_row6_col2,#T_b6bd6_row6_col7,#T_b6bd6_row7_col6,#T_b6bd6_row9_col14,#T_b6bd6_row14_col9{\n",
       "            background-color:  #c6d6f1;\n",
       "            color:  #000000;\n",
       "        }#T_b6bd6_row2_col9,#T_b6bd6_row9_col2,#T_b6bd6_row9_col15,#T_b6bd6_row15_col9{\n",
       "            background-color:  #edd2c3;\n",
       "            color:  #000000;\n",
       "        }#T_b6bd6_row2_col10,#T_b6bd6_row2_col13,#T_b6bd6_row4_col7,#T_b6bd6_row6_col13,#T_b6bd6_row7_col4,#T_b6bd6_row10_col2,#T_b6bd6_row13_col2,#T_b6bd6_row13_col6,#T_b6bd6_row15_col16,#T_b6bd6_row16_col15{\n",
       "            background-color:  #d8dce2;\n",
       "            color:  #000000;\n",
       "        }#T_b6bd6_row2_col11,#T_b6bd6_row4_col9,#T_b6bd6_row9_col4,#T_b6bd6_row11_col2{\n",
       "            background-color:  #e4d9d2;\n",
       "            color:  #000000;\n",
       "        }#T_b6bd6_row3_col4,#T_b6bd6_row4_col3{\n",
       "            background-color:  #b8122a;\n",
       "            color:  #f1f1f1;\n",
       "        }#T_b6bd6_row3_col5,#T_b6bd6_row5_col3{\n",
       "            background-color:  #f4c6af;\n",
       "            color:  #000000;\n",
       "        }#T_b6bd6_row3_col6,#T_b6bd6_row6_col3,#T_b6bd6_row7_col13,#T_b6bd6_row10_col15,#T_b6bd6_row13_col7,#T_b6bd6_row15_col10{\n",
       "            background-color:  #c9d7f0;\n",
       "            color:  #000000;\n",
       "        }#T_b6bd6_row3_col7,#T_b6bd6_row7_col3{\n",
       "            background-color:  #d9dce1;\n",
       "            color:  #000000;\n",
       "        }#T_b6bd6_row3_col8,#T_b6bd6_row3_col10,#T_b6bd6_row8_col3,#T_b6bd6_row10_col3,#T_b6bd6_row12_col15,#T_b6bd6_row15_col12{\n",
       "            background-color:  #dadce0;\n",
       "            color:  #000000;\n",
       "        }#T_b6bd6_row3_col11,#T_b6bd6_row4_col12,#T_b6bd6_row4_col13,#T_b6bd6_row7_col11,#T_b6bd6_row11_col3,#T_b6bd6_row11_col7,#T_b6bd6_row12_col4,#T_b6bd6_row13_col4{\n",
       "            background-color:  #e1dad6;\n",
       "            color:  #000000;\n",
       "        }#T_b6bd6_row3_col12,#T_b6bd6_row4_col8,#T_b6bd6_row8_col4,#T_b6bd6_row12_col3{\n",
       "            background-color:  #dedcdb;\n",
       "            color:  #000000;\n",
       "        }#T_b6bd6_row3_col14,#T_b6bd6_row14_col3{\n",
       "            background-color:  #e2dad5;\n",
       "            color:  #000000;\n",
       "        }#T_b6bd6_row4_col5,#T_b6bd6_row5_col4{\n",
       "            background-color:  #f3c7b1;\n",
       "            color:  #000000;\n",
       "        }#T_b6bd6_row4_col6,#T_b6bd6_row5_col16,#T_b6bd6_row6_col4,#T_b6bd6_row16_col5{\n",
       "            background-color:  #d2dbe8;\n",
       "            color:  #000000;\n",
       "        }#T_b6bd6_row4_col11,#T_b6bd6_row6_col16,#T_b6bd6_row11_col4,#T_b6bd6_row16_col6{\n",
       "            background-color:  #dcdddd;\n",
       "            color:  #000000;\n",
       "        }#T_b6bd6_row4_col14,#T_b6bd6_row10_col16,#T_b6bd6_row11_col14,#T_b6bd6_row14_col4,#T_b6bd6_row14_col11,#T_b6bd6_row16_col10{\n",
       "            background-color:  #dfdbd9;\n",
       "            color:  #000000;\n",
       "        }#T_b6bd6_row5_col6,#T_b6bd6_row6_col5{\n",
       "            background-color:  #bbd1f8;\n",
       "            color:  #000000;\n",
       "        }#T_b6bd6_row5_col7,#T_b6bd6_row7_col5{\n",
       "            background-color:  #c0d4f5;\n",
       "            color:  #000000;\n",
       "        }#T_b6bd6_row5_col11,#T_b6bd6_row9_col10,#T_b6bd6_row10_col9,#T_b6bd6_row11_col5{\n",
       "            background-color:  #cfdaea;\n",
       "            color:  #000000;\n",
       "        }#T_b6bd6_row5_col13,#T_b6bd6_row13_col5{\n",
       "            background-color:  #e8d6cc;\n",
       "            color:  #000000;\n",
       "        }#T_b6bd6_row5_col14,#T_b6bd6_row6_col10,#T_b6bd6_row10_col6,#T_b6bd6_row14_col5{\n",
       "            background-color:  #d1dae9;\n",
       "            color:  #000000;\n",
       "        }#T_b6bd6_row6_col8,#T_b6bd6_row8_col6,#T_b6bd6_row12_col16,#T_b6bd6_row16_col12{\n",
       "            background-color:  #bed2f6;\n",
       "            color:  #000000;\n",
       "        }#T_b6bd6_row6_col9,#T_b6bd6_row9_col6{\n",
       "            background-color:  #cad8ef;\n",
       "            color:  #000000;\n",
       "        }#T_b6bd6_row6_col11,#T_b6bd6_row9_col13,#T_b6bd6_row11_col6,#T_b6bd6_row13_col9{\n",
       "            background-color:  #f1ccb8;\n",
       "            color:  #000000;\n",
       "        }#T_b6bd6_row6_col15,#T_b6bd6_row15_col6{\n",
       "            background-color:  #ecd3c5;\n",
       "            color:  #000000;\n",
       "        }#T_b6bd6_row7_col8,#T_b6bd6_row8_col7{\n",
       "            background-color:  #c1d4f4;\n",
       "            color:  #000000;\n",
       "        }#T_b6bd6_row7_col16,#T_b6bd6_row8_col10,#T_b6bd6_row10_col8,#T_b6bd6_row16_col7{\n",
       "            background-color:  #ead4c8;\n",
       "            color:  #000000;\n",
       "        }#T_b6bd6_row8_col9,#T_b6bd6_row9_col8{\n",
       "            background-color:  #f2cab5;\n",
       "            color:  #000000;\n",
       "        }#T_b6bd6_row8_col11,#T_b6bd6_row11_col8{\n",
       "            background-color:  #aac7fd;\n",
       "            color:  #000000;\n",
       "        }#T_b6bd6_row8_col12,#T_b6bd6_row12_col8{\n",
       "            background-color:  #f6bda2;\n",
       "            color:  #000000;\n",
       "        }#T_b6bd6_row8_col13,#T_b6bd6_row13_col8{\n",
       "            background-color:  #edd1c2;\n",
       "            color:  #000000;\n",
       "        }#T_b6bd6_row8_col15,#T_b6bd6_row15_col8{\n",
       "            background-color:  #b7cff9;\n",
       "            color:  #000000;\n",
       "        }#T_b6bd6_row8_col16,#T_b6bd6_row10_col13,#T_b6bd6_row13_col10,#T_b6bd6_row16_col8{\n",
       "            background-color:  #d4dbe6;\n",
       "            color:  #000000;\n",
       "        }#T_b6bd6_row9_col12,#T_b6bd6_row12_col9{\n",
       "            background-color:  #f7ba9f;\n",
       "            color:  #000000;\n",
       "        }#T_b6bd6_row10_col11,#T_b6bd6_row11_col10{\n",
       "            background-color:  #6b8df0;\n",
       "            color:  #000000;\n",
       "        }#T_b6bd6_row10_col12,#T_b6bd6_row12_col10{\n",
       "            background-color:  #b1cbfc;\n",
       "            color:  #000000;\n",
       "        }#T_b6bd6_row11_col12,#T_b6bd6_row12_col11{\n",
       "            background-color:  #9dbdff;\n",
       "            color:  #000000;\n",
       "        }#T_b6bd6_row11_col13,#T_b6bd6_row13_col11,#T_b6bd6_row13_col16,#T_b6bd6_row16_col13{\n",
       "            background-color:  #dbdcde;\n",
       "            color:  #000000;\n",
       "        }#T_b6bd6_row11_col15,#T_b6bd6_row15_col11{\n",
       "            background-color:  #eed0c0;\n",
       "            color:  #000000;\n",
       "        }#T_b6bd6_row11_col16,#T_b6bd6_row16_col11{\n",
       "            background-color:  #efcfbf;\n",
       "            color:  #000000;\n",
       "        }#T_b6bd6_row13_col14,#T_b6bd6_row14_col13{\n",
       "            background-color:  #4f69d9;\n",
       "            color:  #000000;\n",
       "        }#T_b6bd6_row14_col16,#T_b6bd6_row16_col14{\n",
       "            background-color:  #e0dbd8;\n",
       "            color:  #000000;\n",
       "        }</style><table id=\"T_b6bd6_\" ><thead>    <tr>        <th class=\"blank level0\" ></th>        <th class=\"col_heading level0 col0\" >Riders</th>        <th class=\"col_heading level0 col1\" >Blur</th>        <th class=\"col_heading level0 col2\" >Red</th>        <th class=\"col_heading level0 col3\" >Green</th>        <th class=\"col_heading level0 col4\" >Blue</th>        <th class=\"col_heading level0 col5\" >Stage_e</th>        <th class=\"col_heading level0 col6\" >Stage_f</th>        <th class=\"col_heading level0 col7\" >Stage_s</th>        <th class=\"col_heading level0 col8\" >Stage_u</th>        <th class=\"col_heading level0 col9\" >Obstacle_y</th>        <th class=\"col_heading level0 col10\" >Horizontal_d</th>        <th class=\"col_heading level0 col11\" >Horizontal_f</th>        <th class=\"col_heading level0 col12\" >Horizontal_s</th>        <th class=\"col_heading level0 col13\" >Vertical_l</th>        <th class=\"col_heading level0 col14\" >Vertical_m</th>        <th class=\"col_heading level0 col15\" >Gender_m</th>        <th class=\"col_heading level0 col16\" >BuyRating</th>    </tr></thead><tbody>\n",
       "                <tr>\n",
       "                        <th id=\"T_b6bd6_level0_row0\" class=\"row_heading level0 row0\" >Riders</th>\n",
       "                        <td id=\"T_b6bd6_row0_col0\" class=\"data row0 col0\" >1.000000</td>\n",
       "                        <td id=\"T_b6bd6_row0_col1\" class=\"data row0 col1\" >-0.076952</td>\n",
       "                        <td id=\"T_b6bd6_row0_col2\" class=\"data row0 col2\" >0.080008</td>\n",
       "                        <td id=\"T_b6bd6_row0_col3\" class=\"data row0 col3\" >0.102634</td>\n",
       "                        <td id=\"T_b6bd6_row0_col4\" class=\"data row0 col4\" >0.120420</td>\n",
       "                        <td id=\"T_b6bd6_row0_col5\" class=\"data row0 col5\" >-0.051969</td>\n",
       "                        <td id=\"T_b6bd6_row0_col6\" class=\"data row0 col6\" >-0.046712</td>\n",
       "                        <td id=\"T_b6bd6_row0_col7\" class=\"data row0 col7\" >0.590417</td>\n",
       "                        <td id=\"T_b6bd6_row0_col8\" class=\"data row0 col8\" >-0.118251</td>\n",
       "                        <td id=\"T_b6bd6_row0_col9\" class=\"data row0 col9\" >-0.055936</td>\n",
       "                        <td id=\"T_b6bd6_row0_col10\" class=\"data row0 col10\" >0.052407</td>\n",
       "                        <td id=\"T_b6bd6_row0_col11\" class=\"data row0 col11\" >0.080858</td>\n",
       "                        <td id=\"T_b6bd6_row0_col12\" class=\"data row0 col12\" >-0.153111</td>\n",
       "                        <td id=\"T_b6bd6_row0_col13\" class=\"data row0 col13\" >-0.114759</td>\n",
       "                        <td id=\"T_b6bd6_row0_col14\" class=\"data row0 col14\" >0.076288</td>\n",
       "                        <td id=\"T_b6bd6_row0_col15\" class=\"data row0 col15\" >0.083471</td>\n",
       "                        <td id=\"T_b6bd6_row0_col16\" class=\"data row0 col16\" >0.168296</td>\n",
       "            </tr>\n",
       "            <tr>\n",
       "                        <th id=\"T_b6bd6_level0_row1\" class=\"row_heading level0 row1\" >Blur</th>\n",
       "                        <td id=\"T_b6bd6_row1_col0\" class=\"data row1 col0\" >-0.076952</td>\n",
       "                        <td id=\"T_b6bd6_row1_col1\" class=\"data row1 col1\" >1.000000</td>\n",
       "                        <td id=\"T_b6bd6_row1_col2\" class=\"data row1 col2\" >-0.280269</td>\n",
       "                        <td id=\"T_b6bd6_row1_col3\" class=\"data row1 col3\" >-0.271304</td>\n",
       "                        <td id=\"T_b6bd6_row1_col4\" class=\"data row1 col4\" >-0.336423</td>\n",
       "                        <td id=\"T_b6bd6_row1_col5\" class=\"data row1 col5\" >-0.351761</td>\n",
       "                        <td id=\"T_b6bd6_row1_col6\" class=\"data row1 col6\" >-0.258045</td>\n",
       "                        <td id=\"T_b6bd6_row1_col7\" class=\"data row1 col7\" >-0.057462</td>\n",
       "                        <td id=\"T_b6bd6_row1_col8\" class=\"data row1 col8\" >0.082241</td>\n",
       "                        <td id=\"T_b6bd6_row1_col9\" class=\"data row1 col9\" >-0.171535</td>\n",
       "                        <td id=\"T_b6bd6_row1_col10\" class=\"data row1 col10\" >0.165755</td>\n",
       "                        <td id=\"T_b6bd6_row1_col11\" class=\"data row1 col11\" >0.001991</td>\n",
       "                        <td id=\"T_b6bd6_row1_col12\" class=\"data row1 col12\" >-0.169029</td>\n",
       "                        <td id=\"T_b6bd6_row1_col13\" class=\"data row1 col13\" >-0.127475</td>\n",
       "                        <td id=\"T_b6bd6_row1_col14\" class=\"data row1 col14\" >0.049135</td>\n",
       "                        <td id=\"T_b6bd6_row1_col15\" class=\"data row1 col15\" >-0.268660</td>\n",
       "                        <td id=\"T_b6bd6_row1_col16\" class=\"data row1 col16\" >0.069420</td>\n",
       "            </tr>\n",
       "            <tr>\n",
       "                        <th id=\"T_b6bd6_level0_row2\" class=\"row_heading level0 row2\" >Red</th>\n",
       "                        <td id=\"T_b6bd6_row2_col0\" class=\"data row2 col0\" >0.080008</td>\n",
       "                        <td id=\"T_b6bd6_row2_col1\" class=\"data row2 col1\" >-0.280269</td>\n",
       "                        <td id=\"T_b6bd6_row2_col2\" class=\"data row2 col2\" >1.000000</td>\n",
       "                        <td id=\"T_b6bd6_row2_col3\" class=\"data row2 col3\" >0.968297</td>\n",
       "                        <td id=\"T_b6bd6_row2_col4\" class=\"data row2 col4\" >0.899386</td>\n",
       "                        <td id=\"T_b6bd6_row2_col5\" class=\"data row2 col5\" >0.251006</td>\n",
       "                        <td id=\"T_b6bd6_row2_col6\" class=\"data row2 col6\" >-0.156867</td>\n",
       "                        <td id=\"T_b6bd6_row2_col7\" class=\"data row2 col7\" >0.003002</td>\n",
       "                        <td id=\"T_b6bd6_row2_col8\" class=\"data row2 col8\" >-0.057557</td>\n",
       "                        <td id=\"T_b6bd6_row2_col9\" class=\"data row2 col9\" >0.134995</td>\n",
       "                        <td id=\"T_b6bd6_row2_col10\" class=\"data row2 col10\" >-0.033722</td>\n",
       "                        <td id=\"T_b6bd6_row2_col11\" class=\"data row2 col11\" >0.057269</td>\n",
       "                        <td id=\"T_b6bd6_row2_col12\" class=\"data row2 col12\" >0.000625</td>\n",
       "                        <td id=\"T_b6bd6_row2_col13\" class=\"data row2 col13\" >-0.034685</td>\n",
       "                        <td id=\"T_b6bd6_row2_col14\" class=\"data row2 col14\" >0.080512</td>\n",
       "                        <td id=\"T_b6bd6_row2_col15\" class=\"data row2 col15\" >0.165643</td>\n",
       "                        <td id=\"T_b6bd6_row2_col16\" class=\"data row2 col16\" >-0.046713</td>\n",
       "            </tr>\n",
       "            <tr>\n",
       "                        <th id=\"T_b6bd6_level0_row3\" class=\"row_heading level0 row3\" >Green</th>\n",
       "                        <td id=\"T_b6bd6_row3_col0\" class=\"data row3 col0\" >0.102634</td>\n",
       "                        <td id=\"T_b6bd6_row3_col1\" class=\"data row3 col1\" >-0.271304</td>\n",
       "                        <td id=\"T_b6bd6_row3_col2\" class=\"data row3 col2\" >0.968297</td>\n",
       "                        <td id=\"T_b6bd6_row3_col3\" class=\"data row3 col3\" >1.000000</td>\n",
       "                        <td id=\"T_b6bd6_row3_col4\" class=\"data row3 col4\" >0.969196</td>\n",
       "                        <td id=\"T_b6bd6_row3_col5\" class=\"data row3 col5\" >0.238472</td>\n",
       "                        <td id=\"T_b6bd6_row3_col6\" class=\"data row3 col6\" >-0.147497</td>\n",
       "                        <td id=\"T_b6bd6_row3_col7\" class=\"data row3 col7\" >-0.029975</td>\n",
       "                        <td id=\"T_b6bd6_row3_col8\" class=\"data row3 col8\" >-0.023051</td>\n",
       "                        <td id=\"T_b6bd6_row3_col9\" class=\"data row3 col9\" >0.073749</td>\n",
       "                        <td id=\"T_b6bd6_row3_col10\" class=\"data row3 col10\" >-0.016385</td>\n",
       "                        <td id=\"T_b6bd6_row3_col11\" class=\"data row3 col11\" >0.033932</td>\n",
       "                        <td id=\"T_b6bd6_row3_col12\" class=\"data row3 col12\" >0.013069</td>\n",
       "                        <td id=\"T_b6bd6_row3_col13\" class=\"data row3 col13\" >0.005769</td>\n",
       "                        <td id=\"T_b6bd6_row3_col14\" class=\"data row3 col14\" >0.044204</td>\n",
       "                        <td id=\"T_b6bd6_row3_col15\" class=\"data row3 col15\" >0.122118</td>\n",
       "                        <td id=\"T_b6bd6_row3_col16\" class=\"data row3 col16\" >-0.046977</td>\n",
       "            </tr>\n",
       "            <tr>\n",
       "                        <th id=\"T_b6bd6_level0_row4\" class=\"row_heading level0 row4\" >Blue</th>\n",
       "                        <td id=\"T_b6bd6_row4_col0\" class=\"data row4 col0\" >0.120420</td>\n",
       "                        <td id=\"T_b6bd6_row4_col1\" class=\"data row4 col1\" >-0.336423</td>\n",
       "                        <td id=\"T_b6bd6_row4_col2\" class=\"data row4 col2\" >0.899386</td>\n",
       "                        <td id=\"T_b6bd6_row4_col3\" class=\"data row4 col3\" >0.969196</td>\n",
       "                        <td id=\"T_b6bd6_row4_col4\" class=\"data row4 col4\" >1.000000</td>\n",
       "                        <td id=\"T_b6bd6_row4_col5\" class=\"data row4 col5\" >0.230714</td>\n",
       "                        <td id=\"T_b6bd6_row4_col6\" class=\"data row4 col6\" >-0.082505</td>\n",
       "                        <td id=\"T_b6bd6_row4_col7\" class=\"data row4 col7\" >-0.033930</td>\n",
       "                        <td id=\"T_b6bd6_row4_col8\" class=\"data row4 col8\" >0.008478</td>\n",
       "                        <td id=\"T_b6bd6_row4_col9\" class=\"data row4 col9\" >0.058309</td>\n",
       "                        <td id=\"T_b6bd6_row4_col10\" class=\"data row4 col10\" >0.001012</td>\n",
       "                        <td id=\"T_b6bd6_row4_col11\" class=\"data row4 col11\" >-0.005601</td>\n",
       "                        <td id=\"T_b6bd6_row4_col12\" class=\"data row4 col12\" >0.034942</td>\n",
       "                        <td id=\"T_b6bd6_row4_col13\" class=\"data row4 col13\" >0.035101</td>\n",
       "                        <td id=\"T_b6bd6_row4_col14\" class=\"data row4 col14\" >0.018091</td>\n",
       "                        <td id=\"T_b6bd6_row4_col15\" class=\"data row4 col15\" >0.108048</td>\n",
       "                        <td id=\"T_b6bd6_row4_col16\" class=\"data row4 col16\" >-0.052986</td>\n",
       "            </tr>\n",
       "            <tr>\n",
       "                        <th id=\"T_b6bd6_level0_row5\" class=\"row_heading level0 row5\" >Stage_e</th>\n",
       "                        <td id=\"T_b6bd6_row5_col0\" class=\"data row5 col0\" >-0.051969</td>\n",
       "                        <td id=\"T_b6bd6_row5_col1\" class=\"data row5 col1\" >-0.351761</td>\n",
       "                        <td id=\"T_b6bd6_row5_col2\" class=\"data row5 col2\" >0.251006</td>\n",
       "                        <td id=\"T_b6bd6_row5_col3\" class=\"data row5 col3\" >0.238472</td>\n",
       "                        <td id=\"T_b6bd6_row5_col4\" class=\"data row5 col4\" >0.230714</td>\n",
       "                        <td id=\"T_b6bd6_row5_col5\" class=\"data row5 col5\" >1.000000</td>\n",
       "                        <td id=\"T_b6bd6_row5_col6\" class=\"data row5 col6\" >-0.229628</td>\n",
       "                        <td id=\"T_b6bd6_row5_col7\" class=\"data row5 col7\" >-0.201722</td>\n",
       "                        <td id=\"T_b6bd6_row5_col8\" class=\"data row5 col8\" >-0.271175</td>\n",
       "                        <td id=\"T_b6bd6_row5_col9\" class=\"data row5 col9\" >0.170007</td>\n",
       "                        <td id=\"T_b6bd6_row5_col10\" class=\"data row5 col10\" >-0.048517</td>\n",
       "                        <td id=\"T_b6bd6_row5_col11\" class=\"data row5 col11\" >-0.093799</td>\n",
       "                        <td id=\"T_b6bd6_row5_col12\" class=\"data row5 col12\" >0.124116</td>\n",
       "                        <td id=\"T_b6bd6_row5_col13\" class=\"data row5 col13\" >0.089546</td>\n",
       "                        <td id=\"T_b6bd6_row5_col14\" class=\"data row5 col14\" >-0.088290</td>\n",
       "                        <td id=\"T_b6bd6_row5_col15\" class=\"data row5 col15\" >0.119147</td>\n",
       "                        <td id=\"T_b6bd6_row5_col16\" class=\"data row5 col16\" >-0.082162</td>\n",
       "            </tr>\n",
       "            <tr>\n",
       "                        <th id=\"T_b6bd6_level0_row6\" class=\"row_heading level0 row6\" >Stage_f</th>\n",
       "                        <td id=\"T_b6bd6_row6_col0\" class=\"data row6 col0\" >-0.046712</td>\n",
       "                        <td id=\"T_b6bd6_row6_col1\" class=\"data row6 col1\" >-0.258045</td>\n",
       "                        <td id=\"T_b6bd6_row6_col2\" class=\"data row6 col2\" >-0.156867</td>\n",
       "                        <td id=\"T_b6bd6_row6_col3\" class=\"data row6 col3\" >-0.147497</td>\n",
       "                        <td id=\"T_b6bd6_row6_col4\" class=\"data row6 col4\" >-0.082505</td>\n",
       "                        <td id=\"T_b6bd6_row6_col5\" class=\"data row6 col5\" >-0.229628</td>\n",
       "                        <td id=\"T_b6bd6_row6_col6\" class=\"data row6 col6\" >1.000000</td>\n",
       "                        <td id=\"T_b6bd6_row6_col7\" class=\"data row6 col7\" >-0.160977</td>\n",
       "                        <td id=\"T_b6bd6_row6_col8\" class=\"data row6 col8\" >-0.216401</td>\n",
       "                        <td id=\"T_b6bd6_row6_col9\" class=\"data row6 col9\" >-0.138800</td>\n",
       "                        <td id=\"T_b6bd6_row6_col10\" class=\"data row6 col10\" >-0.092041</td>\n",
       "                        <td id=\"T_b6bd6_row6_col11\" class=\"data row6 col11\" >0.189159</td>\n",
       "                        <td id=\"T_b6bd6_row6_col12\" class=\"data row6 col12\" >-0.125056</td>\n",
       "                        <td id=\"T_b6bd6_row6_col13\" class=\"data row6 col13\" >-0.033538</td>\n",
       "                        <td id=\"T_b6bd6_row6_col14\" class=\"data row6 col14\" >0.047169</td>\n",
       "                        <td id=\"T_b6bd6_row6_col15\" class=\"data row6 col15\" >0.126945</td>\n",
       "                        <td id=\"T_b6bd6_row6_col16\" class=\"data row6 col16\" >-0.005156</td>\n",
       "            </tr>\n",
       "            <tr>\n",
       "                        <th id=\"T_b6bd6_level0_row7\" class=\"row_heading level0 row7\" >Stage_s</th>\n",
       "                        <td id=\"T_b6bd6_row7_col0\" class=\"data row7 col0\" >0.590417</td>\n",
       "                        <td id=\"T_b6bd6_row7_col1\" class=\"data row7 col1\" >-0.057462</td>\n",
       "                        <td id=\"T_b6bd6_row7_col2\" class=\"data row7 col2\" >0.003002</td>\n",
       "                        <td id=\"T_b6bd6_row7_col3\" class=\"data row7 col3\" >-0.029975</td>\n",
       "                        <td id=\"T_b6bd6_row7_col4\" class=\"data row7 col4\" >-0.033930</td>\n",
       "                        <td id=\"T_b6bd6_row7_col5\" class=\"data row7 col5\" >-0.201722</td>\n",
       "                        <td id=\"T_b6bd6_row7_col6\" class=\"data row7 col6\" >-0.160977</td>\n",
       "                        <td id=\"T_b6bd6_row7_col7\" class=\"data row7 col7\" >1.000000</td>\n",
       "                        <td id=\"T_b6bd6_row7_col8\" class=\"data row7 col8\" >-0.190103</td>\n",
       "                        <td id=\"T_b6bd6_row7_col9\" class=\"data row7 col9\" >-0.121932</td>\n",
       "                        <td id=\"T_b6bd6_row7_col10\" class=\"data row7 col10\" >0.107707</td>\n",
       "                        <td id=\"T_b6bd6_row7_col11\" class=\"data row7 col11\" >0.031855</td>\n",
       "                        <td id=\"T_b6bd6_row7_col12\" class=\"data row7 col12\" >-0.155498</td>\n",
       "                        <td id=\"T_b6bd6_row7_col13\" class=\"data row7 col13\" >-0.143881</td>\n",
       "                        <td id=\"T_b6bd6_row7_col14\" class=\"data row7 col14\" >0.105073</td>\n",
       "                        <td id=\"T_b6bd6_row7_col15\" class=\"data row7 col15\" >0.119078</td>\n",
       "                        <td id=\"T_b6bd6_row7_col16\" class=\"data row7 col16\" >0.111035</td>\n",
       "            </tr>\n",
       "            <tr>\n",
       "                        <th id=\"T_b6bd6_level0_row8\" class=\"row_heading level0 row8\" >Stage_u</th>\n",
       "                        <td id=\"T_b6bd6_row8_col0\" class=\"data row8 col0\" >-0.118251</td>\n",
       "                        <td id=\"T_b6bd6_row8_col1\" class=\"data row8 col1\" >0.082241</td>\n",
       "                        <td id=\"T_b6bd6_row8_col2\" class=\"data row8 col2\" >-0.057557</td>\n",
       "                        <td id=\"T_b6bd6_row8_col3\" class=\"data row8 col3\" >-0.023051</td>\n",
       "                        <td id=\"T_b6bd6_row8_col4\" class=\"data row8 col4\" >0.008478</td>\n",
       "                        <td id=\"T_b6bd6_row8_col5\" class=\"data row8 col5\" >-0.271175</td>\n",
       "                        <td id=\"T_b6bd6_row8_col6\" class=\"data row8 col6\" >-0.216401</td>\n",
       "                        <td id=\"T_b6bd6_row8_col7\" class=\"data row8 col7\" >-0.190103</td>\n",
       "                        <td id=\"T_b6bd6_row8_col8\" class=\"data row8 col8\" >1.000000</td>\n",
       "                        <td id=\"T_b6bd6_row8_col9\" class=\"data row8 col9\" >0.210651</td>\n",
       "                        <td id=\"T_b6bd6_row8_col10\" class=\"data row8 col10\" >0.113063</td>\n",
       "                        <td id=\"T_b6bd6_row8_col11\" class=\"data row8 col11\" >-0.333999</td>\n",
       "                        <td id=\"T_b6bd6_row8_col12\" class=\"data row8 col12\" >0.304465</td>\n",
       "                        <td id=\"T_b6bd6_row8_col13\" class=\"data row8 col13\" >0.144193</td>\n",
       "                        <td id=\"T_b6bd6_row8_col14\" class=\"data row8 col14\" >-0.075064</td>\n",
       "                        <td id=\"T_b6bd6_row8_col15\" class=\"data row8 col15\" >-0.253037</td>\n",
       "                        <td id=\"T_b6bd6_row8_col16\" class=\"data row8 col16\" >-0.067844</td>\n",
       "            </tr>\n",
       "            <tr>\n",
       "                        <th id=\"T_b6bd6_level0_row9\" class=\"row_heading level0 row9\" >Obstacle_y</th>\n",
       "                        <td id=\"T_b6bd6_row9_col0\" class=\"data row9 col0\" >-0.055936</td>\n",
       "                        <td id=\"T_b6bd6_row9_col1\" class=\"data row9 col1\" >-0.171535</td>\n",
       "                        <td id=\"T_b6bd6_row9_col2\" class=\"data row9 col2\" >0.134995</td>\n",
       "                        <td id=\"T_b6bd6_row9_col3\" class=\"data row9 col3\" >0.073749</td>\n",
       "                        <td id=\"T_b6bd6_row9_col4\" class=\"data row9 col4\" >0.058309</td>\n",
       "                        <td id=\"T_b6bd6_row9_col5\" class=\"data row9 col5\" >0.170007</td>\n",
       "                        <td id=\"T_b6bd6_row9_col6\" class=\"data row9 col6\" >-0.138800</td>\n",
       "                        <td id=\"T_b6bd6_row9_col7\" class=\"data row9 col7\" >-0.121932</td>\n",
       "                        <td id=\"T_b6bd6_row9_col8\" class=\"data row9 col8\" >0.210651</td>\n",
       "                        <td id=\"T_b6bd6_row9_col9\" class=\"data row9 col9\" >1.000000</td>\n",
       "                        <td id=\"T_b6bd6_row9_col10\" class=\"data row9 col10\" >-0.099049</td>\n",
       "                        <td id=\"T_b6bd6_row9_col11\" class=\"data row9 col11\" >-0.154061</td>\n",
       "                        <td id=\"T_b6bd6_row9_col12\" class=\"data row9 col12\" >0.314356</td>\n",
       "                        <td id=\"T_b6bd6_row9_col13\" class=\"data row9 col13\" >0.191595</td>\n",
       "                        <td id=\"T_b6bd6_row9_col14\" class=\"data row9 col14\" >-0.156887</td>\n",
       "                        <td id=\"T_b6bd6_row9_col15\" class=\"data row9 col15\" >0.135263</td>\n",
       "                        <td id=\"T_b6bd6_row9_col16\" class=\"data row9 col16\" >0.002495</td>\n",
       "            </tr>\n",
       "            <tr>\n",
       "                        <th id=\"T_b6bd6_level0_row10\" class=\"row_heading level0 row10\" >Horizontal_d</th>\n",
       "                        <td id=\"T_b6bd6_row10_col0\" class=\"data row10 col0\" >0.052407</td>\n",
       "                        <td id=\"T_b6bd6_row10_col1\" class=\"data row10 col1\" >0.165755</td>\n",
       "                        <td id=\"T_b6bd6_row10_col2\" class=\"data row10 col2\" >-0.033722</td>\n",
       "                        <td id=\"T_b6bd6_row10_col3\" class=\"data row10 col3\" >-0.016385</td>\n",
       "                        <td id=\"T_b6bd6_row10_col4\" class=\"data row10 col4\" >0.001012</td>\n",
       "                        <td id=\"T_b6bd6_row10_col5\" class=\"data row10 col5\" >-0.048517</td>\n",
       "                        <td id=\"T_b6bd6_row10_col6\" class=\"data row10 col6\" >-0.092041</td>\n",
       "                        <td id=\"T_b6bd6_row10_col7\" class=\"data row10 col7\" >0.107707</td>\n",
       "                        <td id=\"T_b6bd6_row10_col8\" class=\"data row10 col8\" >0.113063</td>\n",
       "                        <td id=\"T_b6bd6_row10_col9\" class=\"data row10 col9\" >-0.099049</td>\n",
       "                        <td id=\"T_b6bd6_row10_col10\" class=\"data row10 col10\" >1.000000</td>\n",
       "                        <td id=\"T_b6bd6_row10_col11\" class=\"data row10 col11\" >-0.692001</td>\n",
       "                        <td id=\"T_b6bd6_row10_col12\" class=\"data row10 col12\" >-0.289968</td>\n",
       "                        <td id=\"T_b6bd6_row10_col13\" class=\"data row10 col13\" >-0.069906</td>\n",
       "                        <td id=\"T_b6bd6_row10_col14\" class=\"data row10 col14\" >0.070395</td>\n",
       "                        <td id=\"T_b6bd6_row10_col15\" class=\"data row10 col15\" >-0.144554</td>\n",
       "                        <td id=\"T_b6bd6_row10_col16\" class=\"data row10 col16\" >0.015935</td>\n",
       "            </tr>\n",
       "            <tr>\n",
       "                        <th id=\"T_b6bd6_level0_row11\" class=\"row_heading level0 row11\" >Horizontal_f</th>\n",
       "                        <td id=\"T_b6bd6_row11_col0\" class=\"data row11 col0\" >0.080858</td>\n",
       "                        <td id=\"T_b6bd6_row11_col1\" class=\"data row11 col1\" >0.001991</td>\n",
       "                        <td id=\"T_b6bd6_row11_col2\" class=\"data row11 col2\" >0.057269</td>\n",
       "                        <td id=\"T_b6bd6_row11_col3\" class=\"data row11 col3\" >0.033932</td>\n",
       "                        <td id=\"T_b6bd6_row11_col4\" class=\"data row11 col4\" >-0.005601</td>\n",
       "                        <td id=\"T_b6bd6_row11_col5\" class=\"data row11 col5\" >-0.093799</td>\n",
       "                        <td id=\"T_b6bd6_row11_col6\" class=\"data row11 col6\" >0.189159</td>\n",
       "                        <td id=\"T_b6bd6_row11_col7\" class=\"data row11 col7\" >0.031855</td>\n",
       "                        <td id=\"T_b6bd6_row11_col8\" class=\"data row11 col8\" >-0.333999</td>\n",
       "                        <td id=\"T_b6bd6_row11_col9\" class=\"data row11 col9\" >-0.154061</td>\n",
       "                        <td id=\"T_b6bd6_row11_col10\" class=\"data row11 col10\" >-0.692001</td>\n",
       "                        <td id=\"T_b6bd6_row11_col11\" class=\"data row11 col11\" >1.000000</td>\n",
       "                        <td id=\"T_b6bd6_row11_col12\" class=\"data row11 col12\" >-0.408050</td>\n",
       "                        <td id=\"T_b6bd6_row11_col13\" class=\"data row11 col13\" >-0.012511</td>\n",
       "                        <td id=\"T_b6bd6_row11_col14\" class=\"data row11 col14\" >0.020924</td>\n",
       "                        <td id=\"T_b6bd6_row11_col15\" class=\"data row11 col15\" >0.150134</td>\n",
       "                        <td id=\"T_b6bd6_row11_col16\" class=\"data row11 col16\" >0.160239</td>\n",
       "            </tr>\n",
       "            <tr>\n",
       "                        <th id=\"T_b6bd6_level0_row12\" class=\"row_heading level0 row12\" >Horizontal_s</th>\n",
       "                        <td id=\"T_b6bd6_row12_col0\" class=\"data row12 col0\" >-0.153111</td>\n",
       "                        <td id=\"T_b6bd6_row12_col1\" class=\"data row12 col1\" >-0.169029</td>\n",
       "                        <td id=\"T_b6bd6_row12_col2\" class=\"data row12 col2\" >0.000625</td>\n",
       "                        <td id=\"T_b6bd6_row12_col3\" class=\"data row12 col3\" >0.013069</td>\n",
       "                        <td id=\"T_b6bd6_row12_col4\" class=\"data row12 col4\" >0.034942</td>\n",
       "                        <td id=\"T_b6bd6_row12_col5\" class=\"data row12 col5\" >0.124116</td>\n",
       "                        <td id=\"T_b6bd6_row12_col6\" class=\"data row12 col6\" >-0.125056</td>\n",
       "                        <td id=\"T_b6bd6_row12_col7\" class=\"data row12 col7\" >-0.155498</td>\n",
       "                        <td id=\"T_b6bd6_row12_col8\" class=\"data row12 col8\" >0.304465</td>\n",
       "                        <td id=\"T_b6bd6_row12_col9\" class=\"data row12 col9\" >0.314356</td>\n",
       "                        <td id=\"T_b6bd6_row12_col10\" class=\"data row12 col10\" >-0.289968</td>\n",
       "                        <td id=\"T_b6bd6_row12_col11\" class=\"data row12 col11\" >-0.408050</td>\n",
       "                        <td id=\"T_b6bd6_row12_col12\" class=\"data row12 col12\" >1.000000</td>\n",
       "                        <td id=\"T_b6bd6_row12_col13\" class=\"data row12 col13\" >0.062548</td>\n",
       "                        <td id=\"T_b6bd6_row12_col14\" class=\"data row12 col14\" >-0.058003</td>\n",
       "                        <td id=\"T_b6bd6_row12_col15\" class=\"data row12 col15\" >-0.021455</td>\n",
       "                        <td id=\"T_b6bd6_row12_col16\" class=\"data row12 col16\" >-0.216219</td>\n",
       "            </tr>\n",
       "            <tr>\n",
       "                        <th id=\"T_b6bd6_level0_row13\" class=\"row_heading level0 row13\" >Vertical_l</th>\n",
       "                        <td id=\"T_b6bd6_row13_col0\" class=\"data row13 col0\" >-0.114759</td>\n",
       "                        <td id=\"T_b6bd6_row13_col1\" class=\"data row13 col1\" >-0.127475</td>\n",
       "                        <td id=\"T_b6bd6_row13_col2\" class=\"data row13 col2\" >-0.034685</td>\n",
       "                        <td id=\"T_b6bd6_row13_col3\" class=\"data row13 col3\" >0.005769</td>\n",
       "                        <td id=\"T_b6bd6_row13_col4\" class=\"data row13 col4\" >0.035101</td>\n",
       "                        <td id=\"T_b6bd6_row13_col5\" class=\"data row13 col5\" >0.089546</td>\n",
       "                        <td id=\"T_b6bd6_row13_col6\" class=\"data row13 col6\" >-0.033538</td>\n",
       "                        <td id=\"T_b6bd6_row13_col7\" class=\"data row13 col7\" >-0.143881</td>\n",
       "                        <td id=\"T_b6bd6_row13_col8\" class=\"data row13 col8\" >0.144193</td>\n",
       "                        <td id=\"T_b6bd6_row13_col9\" class=\"data row13 col9\" >0.191595</td>\n",
       "                        <td id=\"T_b6bd6_row13_col10\" class=\"data row13 col10\" >-0.069906</td>\n",
       "                        <td id=\"T_b6bd6_row13_col11\" class=\"data row13 col11\" >-0.012511</td>\n",
       "                        <td id=\"T_b6bd6_row13_col12\" class=\"data row13 col12\" >0.062548</td>\n",
       "                        <td id=\"T_b6bd6_row13_col13\" class=\"data row13 col13\" >1.000000</td>\n",
       "                        <td id=\"T_b6bd6_row13_col14\" class=\"data row13 col14\" >-0.859804</td>\n",
       "                        <td id=\"T_b6bd6_row13_col15\" class=\"data row13 col15\" >-0.110806</td>\n",
       "                        <td id=\"T_b6bd6_row13_col16\" class=\"data row13 col16\" >-0.010004</td>\n",
       "            </tr>\n",
       "            <tr>\n",
       "                        <th id=\"T_b6bd6_level0_row14\" class=\"row_heading level0 row14\" >Vertical_m</th>\n",
       "                        <td id=\"T_b6bd6_row14_col0\" class=\"data row14 col0\" >0.076288</td>\n",
       "                        <td id=\"T_b6bd6_row14_col1\" class=\"data row14 col1\" >0.049135</td>\n",
       "                        <td id=\"T_b6bd6_row14_col2\" class=\"data row14 col2\" >0.080512</td>\n",
       "                        <td id=\"T_b6bd6_row14_col3\" class=\"data row14 col3\" >0.044204</td>\n",
       "                        <td id=\"T_b6bd6_row14_col4\" class=\"data row14 col4\" >0.018091</td>\n",
       "                        <td id=\"T_b6bd6_row14_col5\" class=\"data row14 col5\" >-0.088290</td>\n",
       "                        <td id=\"T_b6bd6_row14_col6\" class=\"data row14 col6\" >0.047169</td>\n",
       "                        <td id=\"T_b6bd6_row14_col7\" class=\"data row14 col7\" >0.105073</td>\n",
       "                        <td id=\"T_b6bd6_row14_col8\" class=\"data row14 col8\" >-0.075064</td>\n",
       "                        <td id=\"T_b6bd6_row14_col9\" class=\"data row14 col9\" >-0.156887</td>\n",
       "                        <td id=\"T_b6bd6_row14_col10\" class=\"data row14 col10\" >0.070395</td>\n",
       "                        <td id=\"T_b6bd6_row14_col11\" class=\"data row14 col11\" >0.020924</td>\n",
       "                        <td id=\"T_b6bd6_row14_col12\" class=\"data row14 col12\" >-0.058003</td>\n",
       "                        <td id=\"T_b6bd6_row14_col13\" class=\"data row14 col13\" >-0.859804</td>\n",
       "                        <td id=\"T_b6bd6_row14_col14\" class=\"data row14 col14\" >1.000000</td>\n",
       "                        <td id=\"T_b6bd6_row14_col15\" class=\"data row14 col15\" >0.085572</td>\n",
       "                        <td id=\"T_b6bd6_row14_col16\" class=\"data row14 col16\" >0.029784</td>\n",
       "            </tr>\n",
       "            <tr>\n",
       "                        <th id=\"T_b6bd6_level0_row15\" class=\"row_heading level0 row15\" >Gender_m</th>\n",
       "                        <td id=\"T_b6bd6_row15_col0\" class=\"data row15 col0\" >0.083471</td>\n",
       "                        <td id=\"T_b6bd6_row15_col1\" class=\"data row15 col1\" >-0.268660</td>\n",
       "                        <td id=\"T_b6bd6_row15_col2\" class=\"data row15 col2\" >0.165643</td>\n",
       "                        <td id=\"T_b6bd6_row15_col3\" class=\"data row15 col3\" >0.122118</td>\n",
       "                        <td id=\"T_b6bd6_row15_col4\" class=\"data row15 col4\" >0.108048</td>\n",
       "                        <td id=\"T_b6bd6_row15_col5\" class=\"data row15 col5\" >0.119147</td>\n",
       "                        <td id=\"T_b6bd6_row15_col6\" class=\"data row15 col6\" >0.126945</td>\n",
       "                        <td id=\"T_b6bd6_row15_col7\" class=\"data row15 col7\" >0.119078</td>\n",
       "                        <td id=\"T_b6bd6_row15_col8\" class=\"data row15 col8\" >-0.253037</td>\n",
       "                        <td id=\"T_b6bd6_row15_col9\" class=\"data row15 col9\" >0.135263</td>\n",
       "                        <td id=\"T_b6bd6_row15_col10\" class=\"data row15 col10\" >-0.144554</td>\n",
       "                        <td id=\"T_b6bd6_row15_col11\" class=\"data row15 col11\" >0.150134</td>\n",
       "                        <td id=\"T_b6bd6_row15_col12\" class=\"data row15 col12\" >-0.021455</td>\n",
       "                        <td id=\"T_b6bd6_row15_col13\" class=\"data row15 col13\" >-0.110806</td>\n",
       "                        <td id=\"T_b6bd6_row15_col14\" class=\"data row15 col14\" >0.085572</td>\n",
       "                        <td id=\"T_b6bd6_row15_col15\" class=\"data row15 col15\" >1.000000</td>\n",
       "                        <td id=\"T_b6bd6_row15_col16\" class=\"data row15 col16\" >-0.035249</td>\n",
       "            </tr>\n",
       "            <tr>\n",
       "                        <th id=\"T_b6bd6_level0_row16\" class=\"row_heading level0 row16\" >BuyRating</th>\n",
       "                        <td id=\"T_b6bd6_row16_col0\" class=\"data row16 col0\" >0.168296</td>\n",
       "                        <td id=\"T_b6bd6_row16_col1\" class=\"data row16 col1\" >0.069420</td>\n",
       "                        <td id=\"T_b6bd6_row16_col2\" class=\"data row16 col2\" >-0.046713</td>\n",
       "                        <td id=\"T_b6bd6_row16_col3\" class=\"data row16 col3\" >-0.046977</td>\n",
       "                        <td id=\"T_b6bd6_row16_col4\" class=\"data row16 col4\" >-0.052986</td>\n",
       "                        <td id=\"T_b6bd6_row16_col5\" class=\"data row16 col5\" >-0.082162</td>\n",
       "                        <td id=\"T_b6bd6_row16_col6\" class=\"data row16 col6\" >-0.005156</td>\n",
       "                        <td id=\"T_b6bd6_row16_col7\" class=\"data row16 col7\" >0.111035</td>\n",
       "                        <td id=\"T_b6bd6_row16_col8\" class=\"data row16 col8\" >-0.067844</td>\n",
       "                        <td id=\"T_b6bd6_row16_col9\" class=\"data row16 col9\" >0.002495</td>\n",
       "                        <td id=\"T_b6bd6_row16_col10\" class=\"data row16 col10\" >0.015935</td>\n",
       "                        <td id=\"T_b6bd6_row16_col11\" class=\"data row16 col11\" >0.160239</td>\n",
       "                        <td id=\"T_b6bd6_row16_col12\" class=\"data row16 col12\" >-0.216219</td>\n",
       "                        <td id=\"T_b6bd6_row16_col13\" class=\"data row16 col13\" >-0.010004</td>\n",
       "                        <td id=\"T_b6bd6_row16_col14\" class=\"data row16 col14\" >0.029784</td>\n",
       "                        <td id=\"T_b6bd6_row16_col15\" class=\"data row16 col15\" >-0.035249</td>\n",
       "                        <td id=\"T_b6bd6_row16_col16\" class=\"data row16 col16\" >1.000000</td>\n",
       "            </tr>\n",
       "    </tbody></table>"
      ],
      "text/plain": [
       "<pandas.io.formats.style.Styler at 0x1bc739e75b0>"
      ]
     },
     "execution_count": 123,
     "metadata": {},
     "output_type": "execute_result"
    }
   ],
   "source": [
    "cor_matrix = cv_df.corr()\n",
    "cor_matrix.style.background_gradient(cmap='coolwarm', axis=None, vmin=-1, vmax=1)"
   ]
  },
  {
   "cell_type": "code",
   "execution_count": 89,
   "id": "93d0cf26",
   "metadata": {},
   "outputs": [
    {
     "name": "stdout",
     "output_type": "stream",
     "text": [
      "Optimization terminated successfully.\n",
      "         Current function value: 0.678583\n",
      "         Iterations 5\n",
      "Optimization terminated successfully.\n",
      "         Current function value: 0.690898\n",
      "         Iterations 4\n",
      "Optimization terminated successfully.\n",
      "         Current function value: 0.692121\n",
      "         Iterations 3\n",
      "Optimization terminated successfully.\n",
      "         Current function value: 0.692088\n",
      "         Iterations 3\n",
      "Optimization terminated successfully.\n",
      "         Current function value: 0.691804\n",
      "         Iterations 3\n",
      "Optimization terminated successfully.\n",
      "         Current function value: 0.677799\n",
      "         Iterations 4\n",
      "Optimization terminated successfully.\n",
      "         Current function value: 0.689066\n",
      "         Iterations 4\n",
      "Optimization terminated successfully.\n",
      "         Current function value: 0.692831\n",
      "         Iterations 3\n",
      "Optimization terminated successfully.\n",
      "         Current function value: 0.680574\n",
      "         Iterations 4\n",
      "Optimization terminated successfully.\n",
      "         Current function value: 0.691048\n",
      "         Iterations 4\n",
      "Optimization terminated successfully.\n",
      "         Current function value: 0.686863\n",
      "         Iterations 4\n",
      "Optimization terminated successfully.\n",
      "         Current function value: 0.692308\n",
      "         Iterations 3\n",
      "Optimization terminated successfully.\n",
      "         Current function value: 0.650095\n",
      "         Iterations 6\n",
      "Optimization terminated successfully.\n",
      "         Current function value: 0.688600\n",
      "         Iterations 4\n",
      "Optimization terminated successfully.\n",
      "         Current function value: 0.676705\n",
      "         Iterations 4\n",
      "Optimization terminated successfully.\n",
      "         Current function value: 0.670181\n",
      "         Iterations 4\n",
      "Processed  16 models on 1 predictors\n",
      "Optimization terminated successfully.\n",
      "         Current function value: 0.675338\n",
      "         Iterations 5\n",
      "Optimization terminated successfully.\n",
      "         Current function value: 0.676839\n",
      "         Iterations 5\n",
      "Optimization terminated successfully.\n",
      "         Current function value: 0.676557\n",
      "         Iterations 5\n",
      "Optimization terminated successfully.\n",
      "         Current function value: 0.675917\n",
      "         Iterations 5\n",
      "Optimization terminated successfully.\n",
      "         Current function value: 0.664582\n",
      "         Iterations 5\n",
      "Optimization terminated successfully.\n",
      "         Current function value: 0.675218\n",
      "         Iterations 5\n",
      "Optimization terminated successfully.\n",
      "         Current function value: 0.675431\n",
      "         Iterations 5\n",
      "Optimization terminated successfully.\n",
      "         Current function value: 0.668737\n",
      "         Iterations 5\n",
      "Optimization terminated successfully.\n",
      "         Current function value: 0.677084\n",
      "         Iterations 5\n",
      "Optimization terminated successfully.\n",
      "         Current function value: 0.671612\n",
      "         Iterations 5\n",
      "Optimization terminated successfully.\n",
      "         Current function value: 0.677471\n",
      "         Iterations 5\n",
      "Optimization terminated successfully.\n",
      "         Current function value: 0.641196\n",
      "         Iterations 6\n",
      "Optimization terminated successfully.\n",
      "         Current function value: 0.675702\n",
      "         Iterations 5\n",
      "Optimization terminated successfully.\n",
      "         Current function value: 0.661487\n",
      "         Iterations 5\n",
      "Optimization terminated successfully.\n",
      "         Current function value: 0.654907\n",
      "         Iterations 4\n",
      "Processed  15 models on 2 predictors\n",
      "Optimization terminated successfully.\n",
      "         Current function value: 0.664613\n",
      "         Iterations 5\n",
      "Optimization terminated successfully.\n",
      "         Current function value: 0.666575\n",
      "         Iterations 5\n",
      "Optimization terminated successfully.\n",
      "         Current function value: 0.666595\n",
      "         Iterations 5\n",
      "Optimization terminated successfully.\n",
      "         Current function value: 0.666252\n",
      "         Iterations 5\n",
      "Optimization terminated successfully.\n",
      "         Current function value: 0.654616\n",
      "         Iterations 5\n",
      "Optimization terminated successfully.\n",
      "         Current function value: 0.665302\n",
      "         Iterations 5\n",
      "Optimization terminated successfully.\n",
      "         Current function value: 0.666288\n",
      "         Iterations 5\n",
      "Optimization terminated successfully.\n",
      "         Current function value: 0.668659\n",
      "         Iterations 5\n",
      "Optimization terminated successfully.\n",
      "         Current function value: 0.665970\n",
      "         Iterations 5\n",
      "Optimization terminated successfully.\n",
      "         Current function value: 0.668216\n",
      "         Iterations 5\n",
      "Optimization terminated successfully.\n",
      "         Current function value: 0.640430\n",
      "         Iterations 6\n",
      "Optimization terminated successfully.\n",
      "         Current function value: 0.668010\n",
      "         Iterations 5\n",
      "Optimization terminated successfully.\n",
      "         Current function value: 0.658503\n",
      "         Iterations 5\n",
      "Optimization terminated successfully.\n",
      "         Current function value: 0.652186\n",
      "         Iterations 5\n",
      "Processed  14 models on 3 predictors\n",
      "Optimization terminated successfully.\n",
      "         Current function value: 0.649753\n",
      "         Iterations 5\n",
      "Optimization terminated successfully.\n",
      "         Current function value: 0.650819\n",
      "         Iterations 5\n",
      "Optimization terminated successfully.\n",
      "         Current function value: 0.650556\n",
      "         Iterations 5\n",
      "Optimization terminated successfully.\n",
      "         Current function value: 0.650065\n",
      "         Iterations 5\n",
      "Optimization terminated successfully.\n",
      "         Current function value: 0.648284\n",
      "         Iterations 5\n",
      "Optimization terminated successfully.\n",
      "         Current function value: 0.652179\n",
      "         Iterations 5\n",
      "Optimization terminated successfully.\n",
      "         Current function value: 0.652152\n",
      "         Iterations 5\n",
      "Optimization terminated successfully.\n",
      "         Current function value: 0.651512\n",
      "         Iterations 5\n",
      "Optimization terminated successfully.\n",
      "         Current function value: 0.652182\n",
      "         Iterations 5\n",
      "Optimization terminated successfully.\n",
      "         Current function value: 0.643105\n",
      "         Iterations 5\n",
      "Optimization terminated successfully.\n",
      "         Current function value: 0.631905\n",
      "         Iterations 6\n",
      "Optimization terminated successfully.\n",
      "         Current function value: 0.652135\n",
      "         Iterations 5\n",
      "Optimization terminated successfully.\n",
      "         Current function value: 0.652125\n",
      "         Iterations 5\n",
      "Processed  13 models on 4 predictors\n",
      "Optimization terminated successfully.\n",
      "         Current function value: 0.649145\n",
      "         Iterations 5\n",
      "Optimization terminated successfully.\n",
      "         Current function value: 0.650476\n",
      "         Iterations 5\n",
      "Optimization terminated successfully.\n",
      "         Current function value: 0.649947\n",
      "         Iterations 5\n",
      "Optimization terminated successfully.\n",
      "         Current function value: 0.647699\n",
      "         Iterations 5\n",
      "Optimization terminated successfully.\n",
      "         Current function value: 0.650715\n",
      "         Iterations 5\n",
      "Optimization terminated successfully.\n",
      "         Current function value: 0.650812\n",
      "         Iterations 5\n",
      "Optimization terminated successfully.\n",
      "         Current function value: 0.649820\n",
      "         Iterations 5\n",
      "Optimization terminated successfully.\n",
      "         Current function value: 0.650818\n",
      "         Iterations 5\n",
      "Optimization terminated successfully.\n",
      "         Current function value: 0.641858\n",
      "         Iterations 5\n",
      "Optimization terminated successfully.\n",
      "         Current function value: 0.630643\n",
      "         Iterations 6\n",
      "Optimization terminated successfully.\n",
      "         Current function value: 0.650785\n",
      "         Iterations 5\n",
      "Optimization terminated successfully.\n",
      "         Current function value: 0.650773\n",
      "         Iterations 5\n",
      "Processed  12 models on 5 predictors\n",
      "Optimization terminated successfully.\n",
      "         Current function value: 0.649143\n",
      "         Iterations 5\n",
      "Optimization terminated successfully.\n",
      "         Current function value: 0.650400\n",
      "         Iterations 5\n",
      "Optimization terminated successfully.\n",
      "         Current function value: 0.649927\n",
      "         Iterations 5\n",
      "Optimization terminated successfully.\n",
      "         Current function value: 0.647068\n",
      "         Iterations 5\n",
      "Optimization terminated successfully.\n",
      "         Current function value: 0.650715\n",
      "         Iterations 5\n",
      "Optimization terminated successfully.\n",
      "         Current function value: 0.649774\n",
      "         Iterations 5\n",
      "Optimization terminated successfully.\n",
      "         Current function value: 0.650715\n",
      "         Iterations 5\n",
      "Optimization terminated successfully.\n",
      "         Current function value: 0.641225\n",
      "         Iterations 5\n",
      "Optimization terminated successfully.\n",
      "         Current function value: 0.630275\n",
      "         Iterations 6\n",
      "Optimization terminated successfully.\n",
      "         Current function value: 0.650680\n",
      "         Iterations 5\n",
      "Optimization terminated successfully.\n",
      "         Current function value: 0.650655\n",
      "         Iterations 5\n",
      "Processed  11 models on 6 predictors\n",
      "Optimization terminated successfully.\n",
      "         Current function value: 0.649139\n",
      "         Iterations 5\n",
      "Optimization terminated successfully.\n",
      "         Current function value: 0.650390\n",
      "         Iterations 5\n"
     ]
    },
    {
     "name": "stdout",
     "output_type": "stream",
     "text": [
      "Optimization terminated successfully.\n",
      "         Current function value: 0.649917\n",
      "         Iterations 5\n",
      "Optimization terminated successfully.\n",
      "         Current function value: 0.646721\n",
      "         Iterations 5\n",
      "Optimization terminated successfully.\n",
      "         Current function value: 0.649755\n",
      "         Iterations 5\n",
      "Optimization terminated successfully.\n",
      "         Current function value: 0.650715\n",
      "         Iterations 5\n",
      "Optimization terminated successfully.\n",
      "         Current function value: 0.641224\n",
      "         Iterations 5\n",
      "Optimization terminated successfully.\n",
      "         Current function value: 0.630185\n",
      "         Iterations 6\n",
      "Optimization terminated successfully.\n",
      "         Current function value: 0.650679\n",
      "         Iterations 5\n",
      "Optimization terminated successfully.\n",
      "         Current function value: 0.650654\n",
      "         Iterations 5\n",
      "Processed  10 models on 7 predictors\n",
      "Optimization terminated successfully.\n",
      "         Current function value: 0.649136\n",
      "         Iterations 5\n",
      "Optimization terminated successfully.\n",
      "         Current function value: 0.650338\n",
      "         Iterations 5\n",
      "Optimization terminated successfully.\n",
      "         Current function value: 0.649887\n",
      "         Iterations 5\n",
      "Optimization terminated successfully.\n",
      "         Current function value: 0.646535\n",
      "         Iterations 5\n",
      "Optimization terminated successfully.\n",
      "         Current function value: 0.649585\n",
      "         Iterations 5\n",
      "Optimization terminated successfully.\n",
      "         Current function value: 0.650648\n",
      "         Iterations 5\n",
      "Optimization terminated successfully.\n",
      "         Current function value: 0.641135\n",
      "         Iterations 5\n",
      "Optimization terminated successfully.\n",
      "         Current function value: 0.630089\n",
      "         Iterations 6\n",
      "Optimization terminated successfully.\n",
      "         Current function value: 0.650483\n",
      "         Iterations 5\n",
      "Processed  9 models on 8 predictors\n",
      "Optimization terminated successfully.\n",
      "         Current function value: 0.647590\n",
      "         Iterations 5\n",
      "Optimization terminated successfully.\n",
      "         Current function value: 0.649504\n",
      "         Iterations 5\n",
      "Optimization terminated successfully.\n",
      "         Current function value: 0.649102\n",
      "         Iterations 5\n",
      "Optimization terminated successfully.\n",
      "         Current function value: 0.644623\n",
      "         Iterations 5\n",
      "Optimization terminated successfully.\n",
      "         Current function value: 0.649584\n",
      "         Iterations 5\n",
      "Optimization terminated successfully.\n",
      "         Current function value: 0.639347\n",
      "         Iterations 5\n",
      "Optimization terminated successfully.\n",
      "         Current function value: 0.624937\n",
      "         Iterations 6\n",
      "Optimization terminated successfully.\n",
      "         Current function value: 0.649476\n",
      "         Iterations 5\n",
      "Processed  8 models on 9 predictors\n",
      "Optimization terminated successfully.\n",
      "         Current function value: 0.624663\n",
      "         Iterations 6\n",
      "Optimization terminated successfully.\n",
      "         Current function value: 0.624881\n",
      "         Iterations 6\n",
      "Optimization terminated successfully.\n",
      "         Current function value: 0.624917\n",
      "         Iterations 6\n",
      "Optimization terminated successfully.\n",
      "         Current function value: 0.622203\n",
      "         Iterations 6\n",
      "Optimization terminated successfully.\n",
      "         Current function value: 0.622644\n",
      "         Iterations 6\n",
      "Optimization terminated successfully.\n",
      "         Current function value: 0.621309\n",
      "         Iterations 6\n",
      "Optimization terminated successfully.\n",
      "         Current function value: 0.624842\n",
      "         Iterations 6\n",
      "Processed  7 models on 10 predictors\n",
      "Optimization terminated successfully.\n",
      "         Current function value: 0.624661\n",
      "         Iterations 6\n",
      "Optimization terminated successfully.\n",
      "         Current function value: 0.624268\n",
      "         Iterations 6\n",
      "Optimization terminated successfully.\n",
      "         Current function value: 0.622201\n",
      "         Iterations 6\n",
      "Optimization terminated successfully.\n",
      "         Current function value: 0.622641\n",
      "         Iterations 6\n",
      "Optimization terminated successfully.\n",
      "         Current function value: 0.621309\n",
      "         Iterations 6\n",
      "Optimization terminated successfully.\n",
      "         Current function value: 0.624809\n",
      "         Iterations 6\n",
      "Processed  6 models on 11 predictors\n",
      "Optimization terminated successfully.\n",
      "         Current function value: 0.622185\n",
      "         Iterations 6\n",
      "Optimization terminated successfully.\n",
      "         Current function value: 0.621854\n",
      "         Iterations 6\n",
      "Optimization terminated successfully.\n",
      "         Current function value: 0.620583\n",
      "         Iterations 6\n",
      "Optimization terminated successfully.\n",
      "         Current function value: 0.618771\n",
      "         Iterations 6\n",
      "Optimization terminated successfully.\n",
      "         Current function value: 0.621509\n",
      "         Iterations 6\n",
      "Processed  5 models on 12 predictors\n",
      "Optimization terminated successfully.\n",
      "         Current function value: 0.621739\n",
      "         Iterations 6\n",
      "Optimization terminated successfully.\n",
      "         Current function value: 0.620564\n",
      "         Iterations 6\n",
      "Optimization terminated successfully.\n",
      "         Current function value: 0.618737\n",
      "         Iterations 6\n",
      "Optimization terminated successfully.\n",
      "         Current function value: 0.621449\n",
      "         Iterations 6\n",
      "Processed  4 models on 13 predictors\n",
      "Optimization terminated successfully.\n",
      "         Current function value: 0.621202\n",
      "         Iterations 6\n",
      "Optimization terminated successfully.\n",
      "         Current function value: 0.619609\n",
      "         Iterations 6\n",
      "Optimization terminated successfully.\n",
      "         Current function value: 0.618662\n",
      "         Iterations 6\n",
      "Processed  3 models on 14 predictors\n",
      "Optimization terminated successfully.\n",
      "         Current function value: 0.619409\n",
      "         Iterations 6\n",
      "Optimization terminated successfully.\n",
      "         Current function value: 0.618530\n",
      "         Iterations 6\n",
      "Processed  2 models on 15 predictors\n",
      "Optimization terminated successfully.\n",
      "         Current function value: 0.618497\n",
      "         Iterations 6\n",
      "Processed  1 models on 16 predictors\n"
     ]
    }
   ],
   "source": [
    "models_fwd = pd.DataFrame(columns=[\"model\", \"AIC\", \"BIC\", \"acc\"])\n",
    "\n",
    "predictors = []\n",
    "acc = []\n",
    "\n",
    "for i in range(1,len(X_train.columns)+1):   \n",
    "    models_fwd.loc[i], models_fwd.loc[i, 'acc'] = forward(X_train, y_train, predictors, 'BuyRating')\n",
    "    predictors = models_fwd.loc[i][\"model\"].model.exog_names\n",
    "    models_fwd.loc[i, 'AIC'] = models_fwd.loc[i, 'model'].aic\n",
    "    models_fwd.loc[i, 'BIC'] = models_fwd.loc[i, 'model'].bic"
   ]
  },
  {
   "cell_type": "code",
   "execution_count": 90,
   "id": "b9a3d392",
   "metadata": {},
   "outputs": [
    {
     "name": "stdout",
     "output_type": "stream",
     "text": [
      "9\n"
     ]
    },
    {
     "data": {
      "text/plain": [
       "[<matplotlib.lines.Line2D at 0x1bc73818760>]"
      ]
     },
     "execution_count": 90,
     "metadata": {},
     "output_type": "execute_result"
    },
    {
     "data": {
      "image/png": "[encoded data removed]",
      "text/plain": [
       "<Figure size 432x288 with 1 Axes>"
      ]
     },
     "metadata": {
      "needs_background": "light"
     },
     "output_type": "display_data"
    }
   ],
   "source": [
    "print(np.argmin(models_fwd['AIC']) + 1)\n",
    "plt.plot(np.arange(len(models_fwd)) + 1,models_fwd['AIC'])"
   ]
  },
  {
   "cell_type": "code",
   "execution_count": 91,
   "id": "3a713a1d",
   "metadata": {},
   "outputs": [
    {
     "name": "stdout",
     "output_type": "stream",
     "text": [
      "3\n"
     ]
    },
    {
     "data": {
      "text/plain": [
       "[<matplotlib.lines.Line2D at 0x1bc73867e20>]"
      ]
     },
     "execution_count": 91,
     "metadata": {},
     "output_type": "execute_result"
    },
    {
     "data": {
      "image/png": "[encoded data removed]",
      "text/plain": [
       "<Figure size 432x288 with 1 Axes>"
      ]
     },
     "metadata": {
      "needs_background": "light"
     },
     "output_type": "display_data"
    }
   ],
   "source": [
    "print(np.argmin(models_fwd['BIC']) + 1)\n",
    "plt.plot(np.arange(len(models_fwd)) + 1,models_fwd['BIC'])"
   ]
  },
  {
   "cell_type": "code",
   "execution_count": 92,
   "id": "3cba1b46",
   "metadata": {},
   "outputs": [
    {
     "name": "stdout",
     "output_type": "stream",
     "text": [
      "12\n"
     ]
    },
    {
     "data": {
      "text/plain": [
       "[<matplotlib.lines.Line2D at 0x1bc73841130>]"
      ]
     },
     "execution_count": 92,
     "metadata": {},
     "output_type": "execute_result"
    },
    {
     "data": {
      "image/png": "[encoded data removed]",
      "text/plain": [
       "<Figure size 432x288 with 1 Axes>"
      ]
     },
     "metadata": {
      "needs_background": "light"
     },
     "output_type": "display_data"
    }
   ],
   "source": [
    "print(np.argmax(models_fwd['acc']) + 1)\n",
    "plt.plot(np.arange(len(models_fwd)) + 1,models_fwd['acc'])"
   ]
  },
  {
   "cell_type": "markdown",
   "id": "35d4a6bf",
   "metadata": {},
   "source": [
    "Train a model with the optimal predictors based on AIC. BIC will return a model with too much error and it will not describe with enough variables. Making a model from the maximum accuracy will cause the model to be too complex, and will lead to an excessive number of non-statistically sigificant predictors."
   ]
  },
  {
   "cell_type": "code",
   "execution_count": 101,
   "id": "25bc5838",
   "metadata": {
    "scrolled": false
   },
   "outputs": [
    {
     "data": {
      "text/html": [
       "<table class=\"simpletable\">\n",
       "<caption>Logit Regression Results</caption>\n",
       "<tr>\n",
       "  <th>Dep. Variable:</th>       <td>BuyRating</td>    <th>  No. Observations:  </th>  <td>   452</td>  \n",
       "</tr>\n",
       "<tr>\n",
       "  <th>Model:</th>                 <td>Logit</td>      <th>  Df Residuals:      </th>  <td>   443</td>  \n",
       "</tr>\n",
       "<tr>\n",
       "  <th>Method:</th>                 <td>MLE</td>       <th>  Df Model:          </th>  <td>     8</td>  \n",
       "</tr>\n",
       "<tr>\n",
       "  <th>Date:</th>            <td>Sat, 06 Aug 2022</td> <th>  Pseudo R-squ.:     </th>  <td>0.06650</td> \n",
       "</tr>\n",
       "<tr>\n",
       "  <th>Time:</th>                <td>19:06:12</td>     <th>  Log-Likelihood:    </th> <td> -282.47</td> \n",
       "</tr>\n",
       "<tr>\n",
       "  <th>converged:</th>             <td>True</td>       <th>  LL-Null:           </th> <td> -302.59</td> \n",
       "</tr>\n",
       "<tr>\n",
       "  <th>Covariance Type:</th>     <td>nonrobust</td>    <th>  LLR p-value:       </th> <td>2.884e-06</td>\n",
       "</tr>\n",
       "</table>\n",
       "<table class=\"simpletable\">\n",
       "<tr>\n",
       "        <td></td>          <th>coef</th>     <th>std err</th>      <th>z</th>      <th>P>|z|</th>  <th>[0.025</th>    <th>0.975]</th>  \n",
       "</tr>\n",
       "<tr>\n",
       "  <th>Riders</th>       <td>    0.3212</td> <td>    0.127</td> <td>    2.533</td> <td> 0.011</td> <td>    0.073</td> <td>    0.570</td>\n",
       "</tr>\n",
       "<tr>\n",
       "  <th>Stage_u</th>      <td>   -0.1663</td> <td>    0.273</td> <td>   -0.610</td> <td> 0.542</td> <td>   -0.700</td> <td>    0.368</td>\n",
       "</tr>\n",
       "<tr>\n",
       "  <th>Gender_m</th>     <td>   -0.4439</td> <td>    0.223</td> <td>   -1.989</td> <td> 0.047</td> <td>   -0.881</td> <td>   -0.006</td>\n",
       "</tr>\n",
       "<tr>\n",
       "  <th>Red</th>          <td>   -0.1537</td> <td>    0.107</td> <td>   -1.431</td> <td> 0.153</td> <td>   -0.364</td> <td>    0.057</td>\n",
       "</tr>\n",
       "<tr>\n",
       "  <th>Stage_f</th>      <td>   -0.1276</td> <td>    0.296</td> <td>   -0.431</td> <td> 0.667</td> <td>   -0.708</td> <td>    0.453</td>\n",
       "</tr>\n",
       "<tr>\n",
       "  <th>Stage_s</th>      <td>   -0.0455</td> <td>    0.383</td> <td>   -0.119</td> <td> 0.905</td> <td>   -0.797</td> <td>    0.706</td>\n",
       "</tr>\n",
       "<tr>\n",
       "  <th>Vertical_m</th>   <td>    0.1416</td> <td>    0.217</td> <td>    0.653</td> <td> 0.514</td> <td>   -0.284</td> <td>    0.567</td>\n",
       "</tr>\n",
       "<tr>\n",
       "  <th>Obstacle_y</th>   <td>    0.8714</td> <td>    0.406</td> <td>    2.147</td> <td> 0.032</td> <td>    0.076</td> <td>    1.667</td>\n",
       "</tr>\n",
       "<tr>\n",
       "  <th>Horizontal_s</th> <td>   -1.7206</td> <td>    0.416</td> <td>   -4.135</td> <td> 0.000</td> <td>   -2.536</td> <td>   -0.905</td>\n",
       "</tr>\n",
       "</table>"
      ],
      "text/plain": [
       "<class 'statsmodels.iolib.summary.Summary'>\n",
       "\"\"\"\n",
       "                           Logit Regression Results                           \n",
       "==============================================================================\n",
       "Dep. Variable:              BuyRating   No. Observations:                  452\n",
       "Model:                          Logit   Df Residuals:                      443\n",
       "Method:                           MLE   Df Model:                            8\n",
       "Date:                Sat, 06 Aug 2022   Pseudo R-squ.:                 0.06650\n",
       "Time:                        19:06:12   Log-Likelihood:                -282.47\n",
       "converged:                       True   LL-Null:                       -302.59\n",
       "Covariance Type:            nonrobust   LLR p-value:                 2.884e-06\n",
       "================================================================================\n",
       "                   coef    std err          z      P>|z|      [0.025      0.975]\n",
       "--------------------------------------------------------------------------------\n",
       "Riders           0.3212      0.127      2.533      0.011       0.073       0.570\n",
       "Stage_u         -0.1663      0.273     -0.610      0.542      -0.700       0.368\n",
       "Gender_m        -0.4439      0.223     -1.989      0.047      -0.881      -0.006\n",
       "Red             -0.1537      0.107     -1.431      0.153      -0.364       0.057\n",
       "Stage_f         -0.1276      0.296     -0.431      0.667      -0.708       0.453\n",
       "Stage_s         -0.0455      0.383     -0.119      0.905      -0.797       0.706\n",
       "Vertical_m       0.1416      0.217      0.653      0.514      -0.284       0.567\n",
       "Obstacle_y       0.8714      0.406      2.147      0.032       0.076       1.667\n",
       "Horizontal_s    -1.7206      0.416     -4.135      0.000      -2.536      -0.905\n",
       "================================================================================\n",
       "\"\"\""
      ]
     },
     "execution_count": 101,
     "metadata": {},
     "output_type": "execute_result"
    }
   ],
   "source": [
    "log_reg = models_fwd.loc[np.argmin(models_fwd['AIC']) + 1, 'model']\n",
    "log_reg.summary()"
   ]
  },
  {
   "cell_type": "markdown",
   "id": "18323eaf",
   "metadata": {},
   "source": [
    "Each assumption of logistic regression is met. While there is multicolinearity in the dataset, there is no significant multicolinearity within this model.\n",
    "\n",
    "##### Interpretation of Coefficients:\n",
    "\n",
    "STAGE\n",
    "\n",
    "The stage of the race is not statistically significant, however, the log-odds of the photo being downloaded may decrease by between .04 and .16 when the stage is anything but downhill.\n",
    "\n",
    "GENDER\n",
    "\n",
    "Male riders are .4439 log odds less likely to download a photo.\n",
    "\n",
    "RED\n",
    "\n",
    "The amount of red is not statistically significant, but as the amount of red increases by one standard deviation, it may be that the chance of the photo being downloaded decreases by .1537 log odds. Each color has a similar effect, as 'Red', 'Green', and 'Blue' all share high colinearity. Less stark colors in a photo leads to greater likely of that photo being downloaded.\n",
    "\n",
    "RIDERS\n",
    "\n",
    "The number of Riders is statistically significant. For each standard deviation that the number of riders increases, the log odds of a photo being sold increases by .3212.\n",
    "\n",
    "VERTICAL\n",
    "\n",
    "Vertical is not statistically significant, but the vertical angle being mid-height may lead to a .1416 increase in the log odds of the photo being downloaded.\n",
    "\n",
    "OBSTACLE\n",
    "\n",
    "It is statistically significant that the log odds of a photo being downloaded will increase by .8714 when the rider is going over an obstacle.\n",
    "\n",
    "HORIZONTAL\n",
    "\n",
    "It is statistically sicnificant that when a photo is taken from a side angle to the rider, the log odds of the photo being downloaded will decrease by 1.7206"
   ]
  },
  {
   "cell_type": "markdown",
   "id": "7fe538db",
   "metadata": {},
   "source": [
    "Use 10-fold cross validation to find the optimal threshold value for logistic regression model."
   ]
  },
  {
   "cell_type": "code",
   "execution_count": 17,
   "id": "a5b3ac3d",
   "metadata": {},
   "outputs": [
    {
     "name": "stdout",
     "output_type": "stream",
     "text": [
      "Optimization terminated successfully.\n",
      "         Current function value: 0.618974\n",
      "         Iterations 6\n",
      "Optimization terminated successfully.\n",
      "         Current function value: 0.617187\n",
      "         Iterations 6\n",
      "Optimization terminated successfully.\n",
      "         Current function value: 0.620961\n",
      "         Iterations 6\n",
      "Optimization terminated successfully.\n",
      "         Current function value: 0.617005\n",
      "         Iterations 6\n",
      "Optimization terminated successfully.\n",
      "         Current function value: 0.618998\n",
      "         Iterations 6\n",
      "Optimization terminated successfully.\n",
      "         Current function value: 0.608294\n",
      "         Iterations 6\n",
      "Optimization terminated successfully.\n",
      "         Current function value: 0.611588\n",
      "         Iterations 6\n",
      "Optimization terminated successfully.\n",
      "         Current function value: 0.600061\n",
      "         Iterations 6\n",
      "Optimization terminated successfully.\n",
      "         Current function value: 0.605198\n",
      "         Iterations 6\n",
      "Optimization terminated successfully.\n",
      "         Current function value: 0.611901\n",
      "         Iterations 6\n",
      "Optimization terminated successfully.\n",
      "         Current function value: 0.618974\n",
      "         Iterations 6\n",
      "Optimization terminated successfully.\n",
      "         Current function value: 0.617187\n",
      "         Iterations 6\n",
      "Optimization terminated successfully.\n",
      "         Current function value: 0.620961\n",
      "         Iterations 6\n",
      "Optimization terminated successfully.\n",
      "         Current function value: 0.617005\n",
      "         Iterations 6\n",
      "Optimization terminated successfully.\n",
      "         Current function value: 0.618998\n",
      "         Iterations 6\n",
      "Optimization terminated successfully.\n",
      "         Current function value: 0.608294\n",
      "         Iterations 6\n",
      "Optimization terminated successfully.\n",
      "         Current function value: 0.611588\n",
      "         Iterations 6\n",
      "Optimization terminated successfully.\n",
      "         Current function value: 0.600061\n",
      "         Iterations 6\n",
      "Optimization terminated successfully.\n",
      "         Current function value: 0.605198\n",
      "         Iterations 6\n",
      "Optimization terminated successfully.\n",
      "         Current function value: 0.611901\n",
      "         Iterations 6\n",
      "Optimization terminated successfully.\n",
      "         Current function value: 0.618974\n",
      "         Iterations 6\n",
      "Optimization terminated successfully.\n",
      "         Current function value: 0.617187\n",
      "         Iterations 6\n",
      "Optimization terminated successfully.\n",
      "         Current function value: 0.620961\n",
      "         Iterations 6\n",
      "Optimization terminated successfully.\n",
      "         Current function value: 0.617005\n",
      "         Iterations 6\n",
      "Optimization terminated successfully.\n",
      "         Current function value: 0.618998\n",
      "         Iterations 6\n",
      "Optimization terminated successfully.\n",
      "         Current function value: 0.608294\n",
      "         Iterations 6\n",
      "Optimization terminated successfully.\n",
      "         Current function value: 0.611588\n",
      "         Iterations 6\n",
      "Optimization terminated successfully.\n",
      "         Current function value: 0.600061\n",
      "         Iterations 6\n",
      "Optimization terminated successfully.\n",
      "         Current function value: 0.605198\n",
      "         Iterations 6\n",
      "Optimization terminated successfully.\n",
      "         Current function value: 0.611901\n",
      "         Iterations 6\n",
      "Optimization terminated successfully.\n",
      "         Current function value: 0.618974\n",
      "         Iterations 6\n",
      "Optimization terminated successfully.\n",
      "         Current function value: 0.617187\n",
      "         Iterations 6\n",
      "Optimization terminated successfully.\n",
      "         Current function value: 0.620961\n",
      "         Iterations 6\n",
      "Optimization terminated successfully.\n",
      "         Current function value: 0.617005\n",
      "         Iterations 6\n",
      "Optimization terminated successfully.\n",
      "         Current function value: 0.618998\n",
      "         Iterations 6\n",
      "Optimization terminated successfully.\n",
      "         Current function value: 0.608294\n",
      "         Iterations 6\n",
      "Optimization terminated successfully.\n",
      "         Current function value: 0.611588\n",
      "         Iterations 6\n",
      "Optimization terminated successfully.\n",
      "         Current function value: 0.600061\n",
      "         Iterations 6\n",
      "Optimization terminated successfully.\n",
      "         Current function value: 0.605198\n",
      "         Iterations 6\n",
      "Optimization terminated successfully.\n",
      "         Current function value: 0.611901\n",
      "         Iterations 6\n",
      "Optimization terminated successfully.\n",
      "         Current function value: 0.618974\n",
      "         Iterations 6\n",
      "Optimization terminated successfully.\n",
      "         Current function value: 0.617187\n",
      "         Iterations 6\n",
      "Optimization terminated successfully.\n",
      "         Current function value: 0.620961\n",
      "         Iterations 6\n",
      "Optimization terminated successfully.\n",
      "         Current function value: 0.617005\n",
      "         Iterations 6\n",
      "Optimization terminated successfully.\n",
      "         Current function value: 0.618998\n",
      "         Iterations 6\n",
      "Optimization terminated successfully.\n",
      "         Current function value: 0.608294\n",
      "         Iterations 6\n",
      "Optimization terminated successfully.\n",
      "         Current function value: 0.611588\n",
      "         Iterations 6\n",
      "Optimization terminated successfully.\n",
      "         Current function value: 0.600061\n",
      "         Iterations 6\n",
      "Optimization terminated successfully.\n",
      "         Current function value: 0.605198\n",
      "         Iterations 6\n",
      "Optimization terminated successfully.\n",
      "         Current function value: 0.611901\n",
      "         Iterations 6\n",
      "Optimization terminated successfully.\n",
      "         Current function value: 0.618974\n",
      "         Iterations 6\n",
      "Optimization terminated successfully.\n",
      "         Current function value: 0.617187\n",
      "         Iterations 6\n",
      "Optimization terminated successfully.\n",
      "         Current function value: 0.620961\n",
      "         Iterations 6\n",
      "Optimization terminated successfully.\n",
      "         Current function value: 0.617005\n",
      "         Iterations 6\n",
      "Optimization terminated successfully.\n",
      "         Current function value: 0.618998\n",
      "         Iterations 6\n",
      "Optimization terminated successfully.\n",
      "         Current function value: 0.608294\n",
      "         Iterations 6\n",
      "Optimization terminated successfully.\n",
      "         Current function value: 0.611588\n",
      "         Iterations 6\n",
      "Optimization terminated successfully.\n",
      "         Current function value: 0.600061\n",
      "         Iterations 6\n",
      "Optimization terminated successfully.\n",
      "         Current function value: 0.605198\n",
      "         Iterations 6\n",
      "Optimization terminated successfully.\n",
      "         Current function value: 0.611901\n",
      "         Iterations 6\n",
      "Optimization terminated successfully.\n",
      "         Current function value: 0.618974\n",
      "         Iterations 6\n",
      "Optimization terminated successfully.\n",
      "         Current function value: 0.617187\n",
      "         Iterations 6\n",
      "Optimization terminated successfully.\n",
      "         Current function value: 0.620961\n",
      "         Iterations 6\n",
      "Optimization terminated successfully.\n",
      "         Current function value: 0.617005\n",
      "         Iterations 6\n",
      "Optimization terminated successfully.\n",
      "         Current function value: 0.618998\n",
      "         Iterations 6\n",
      "Optimization terminated successfully.\n",
      "         Current function value: 0.608294\n",
      "         Iterations 6\n",
      "Optimization terminated successfully.\n",
      "         Current function value: 0.611588\n",
      "         Iterations 6\n",
      "Optimization terminated successfully.\n",
      "         Current function value: 0.600061\n",
      "         Iterations 6\n",
      "Optimization terminated successfully.\n",
      "         Current function value: 0.605198\n",
      "         Iterations 6\n",
      "Optimization terminated successfully.\n",
      "         Current function value: 0.611901\n",
      "         Iterations 6\n",
      "Optimization terminated successfully.\n",
      "         Current function value: 0.618974\n",
      "         Iterations 6\n",
      "Optimization terminated successfully.\n",
      "         Current function value: 0.617187\n",
      "         Iterations 6\n",
      "Optimization terminated successfully.\n",
      "         Current function value: 0.620961\n",
      "         Iterations 6\n",
      "Optimization terminated successfully.\n",
      "         Current function value: 0.617005\n",
      "         Iterations 6\n",
      "Optimization terminated successfully.\n",
      "         Current function value: 0.618998\n",
      "         Iterations 6\n",
      "Optimization terminated successfully.\n",
      "         Current function value: 0.608294\n",
      "         Iterations 6\n",
      "Optimization terminated successfully.\n",
      "         Current function value: 0.611588\n",
      "         Iterations 6\n",
      "Optimization terminated successfully.\n",
      "         Current function value: 0.600061\n",
      "         Iterations 6\n",
      "Optimization terminated successfully.\n",
      "         Current function value: 0.605198\n",
      "         Iterations 6\n",
      "Optimization terminated successfully.\n",
      "         Current function value: 0.611901\n",
      "         Iterations 6\n",
      "Optimization terminated successfully.\n",
      "         Current function value: 0.618974\n",
      "         Iterations 6\n",
      "Optimization terminated successfully.\n",
      "         Current function value: 0.617187\n",
      "         Iterations 6\n",
      "Optimization terminated successfully.\n",
      "         Current function value: 0.620961\n",
      "         Iterations 6\n",
      "Optimization terminated successfully.\n",
      "         Current function value: 0.617005\n",
      "         Iterations 6\n",
      "Optimization terminated successfully.\n",
      "         Current function value: 0.618998\n",
      "         Iterations 6\n",
      "Optimization terminated successfully.\n",
      "         Current function value: 0.608294\n",
      "         Iterations 6\n",
      "Optimization terminated successfully.\n",
      "         Current function value: 0.611588\n",
      "         Iterations 6\n",
      "Optimization terminated successfully.\n",
      "         Current function value: 0.600061\n",
      "         Iterations 6\n",
      "Optimization terminated successfully.\n",
      "         Current function value: 0.605198\n",
      "         Iterations 6\n",
      "Optimization terminated successfully.\n",
      "         Current function value: 0.611901\n",
      "         Iterations 6\n",
      "Optimization terminated successfully.\n",
      "         Current function value: 0.618974\n",
      "         Iterations 6\n",
      "Optimization terminated successfully.\n",
      "         Current function value: 0.617187\n",
      "         Iterations 6\n"
     ]
    },
    {
     "name": "stdout",
     "output_type": "stream",
     "text": [
      "Optimization terminated successfully.\n",
      "         Current function value: 0.620961\n",
      "         Iterations 6\n",
      "Optimization terminated successfully.\n",
      "         Current function value: 0.617005\n",
      "         Iterations 6\n",
      "Optimization terminated successfully.\n",
      "         Current function value: 0.618998\n",
      "         Iterations 6\n",
      "Optimization terminated successfully.\n",
      "         Current function value: 0.608294\n",
      "         Iterations 6\n",
      "Optimization terminated successfully.\n",
      "         Current function value: 0.611588\n",
      "         Iterations 6\n",
      "Optimization terminated successfully.\n",
      "         Current function value: 0.600061\n",
      "         Iterations 6\n",
      "Optimization terminated successfully.\n",
      "         Current function value: 0.605198\n",
      "         Iterations 6\n",
      "Optimization terminated successfully.\n",
      "         Current function value: 0.611901\n",
      "         Iterations 6\n"
     ]
    }
   ],
   "source": [
    "cv_df = pd.concat([X_train,y_train],axis=1)\n",
    "cv_df.reset_index(inplace=True,drop=True)\n",
    "\n",
    "thresholds = np.linspace(0,1,10)\n",
    "acc_list = []\n",
    "\n",
    "folds = np.random.choice(a = 10, size = cv_df.shape[0])\n",
    "\n",
    "for thresh in thresholds:\n",
    "    bin_pred_list = []\n",
    "    yval_list = []\n",
    "    for i in range(10):\n",
    "        val = cv_df.iloc[np.where(folds == i)[0],:]\n",
    "        train = cv_df.iloc[np.where(folds != i)[0],:]\n",
    "\n",
    "        Xtrain = train.drop(['BuyRating'],axis=1)\n",
    "        ytrain = train[['BuyRating']]\n",
    "        Xtrain = sm.add_constant(Xtrain, has_constant='add')\n",
    "        logreg = sm.Logit(ytrain, Xtrain).fit()\n",
    "\n",
    "        Xval = val.drop(['BuyRating'],axis=1)\n",
    "        yval = val[['BuyRating']]\n",
    "        Xval = sm.add_constant(Xval, has_constant='add')\n",
    "        val_preds = logreg.predict(Xval.apply(pd.to_numeric))\n",
    "    \n",
    "        binary_preds = np.where(val_preds >= thresh, 1, 0)\n",
    "        bin_pred_list.extend(binary_preds)\n",
    "        yval_list.extend(yval['BuyRating'].tolist())\n",
    "    acc_list.append(accuracy_score(yval_list, bin_pred_list))"
   ]
  },
  {
   "cell_type": "code",
   "execution_count": 18,
   "id": "043acce5",
   "metadata": {},
   "outputs": [
    {
     "data": {
      "text/plain": [
       "[<matplotlib.lines.Line2D at 0x1bc495bde50>]"
      ]
     },
     "execution_count": 18,
     "metadata": {},
     "output_type": "execute_result"
    },
    {
     "data": {
      "image/png": "[encoded data removed]",
      "text/plain": [
       "<Figure size 432x288 with 1 Axes>"
      ]
     },
     "metadata": {
      "needs_background": "light"
     },
     "output_type": "display_data"
    }
   ],
   "source": [
    "plt.plot(thresholds, acc_list)"
   ]
  },
  {
   "cell_type": "markdown",
   "id": "b9d22a4c",
   "metadata": {},
   "source": [
    "Find validation accuracy for logistic regression model"
   ]
  },
  {
   "cell_type": "code",
   "execution_count": 19,
   "id": "9ce54e87",
   "metadata": {},
   "outputs": [],
   "source": [
    "predictors = models_fwd.loc[np.argmax(models_fwd['acc']) + 1, 'model'].model.exog_names\n",
    "preds = log_reg.predict(X_val[predictors])"
   ]
  },
  {
   "cell_type": "code",
   "execution_count": 20,
   "id": "b6b3fa9e",
   "metadata": {},
   "outputs": [
    {
     "data": {
      "text/plain": [
       "637    0.394004\n",
       "168    0.461411\n",
       "11     0.491434\n",
       "430    0.199414\n",
       "544    0.487199\n",
       "         ...   \n",
       "67     0.454671\n",
       "145    0.486950\n",
       "574    0.501264\n",
       "463    0.299785\n",
       "587    0.504648\n",
       "Length: 97, dtype: float64"
      ]
     },
     "execution_count": 20,
     "metadata": {},
     "output_type": "execute_result"
    }
   ],
   "source": [
    "preds"
   ]
  },
  {
   "cell_type": "code",
   "execution_count": 21,
   "id": "1454b1cf",
   "metadata": {},
   "outputs": [
    {
     "name": "stdout",
     "output_type": "stream",
     "text": [
      "Optimal Threshold:  0.5555555555555556\n"
     ]
    },
    {
     "data": {
      "text/plain": [
       "0.6701030927835051"
      ]
     },
     "execution_count": 21,
     "metadata": {},
     "output_type": "execute_result"
    }
   ],
   "source": [
    "print(\"Optimal Threshold: \", thresholds[np.argmax(acc_list)])\n",
    "binary_preds = np.where(preds >= thresholds[np.argmax(acc_list)], 1, 0)\n",
    "\n",
    "accuracy_score(y_val, binary_preds)"
   ]
  },
  {
   "cell_type": "markdown",
   "id": "858b4bf5",
   "metadata": {},
   "source": [
    "# Decision Tree\n",
    "\n",
    "Train a decion tree to full depth."
   ]
  },
  {
   "cell_type": "code",
   "execution_count": 22,
   "id": "b4a7c46f-bc6a-4943-a0d1-b7ba2b3dc98c",
   "metadata": {},
   "outputs": [
    {
     "name": "stdout",
     "output_type": "stream",
     "text": [
      "Training Accuracy: 1.0\n",
      "Val Accuracy: 0.5979381443298969\n"
     ]
    }
   ],
   "source": [
    "clf = DecisionTreeClassifier().fit(X_train, y_train)\n",
    "train_acc = clf.score(X_train,y_train)\n",
    "val_acc = clf.score(X_val, y_val)\n",
    "\n",
    "print(f'Training Accuracy: {train_acc}')\n",
    "print(f'Val Accuracy: {val_acc}')"
   ]
  },
  {
   "cell_type": "code",
   "execution_count": 23,
   "id": "05dda286",
   "metadata": {
    "scrolled": false
   },
   "outputs": [
    {
     "data": {
      "image/png": "[encoded data removed]",
      "text/plain": [
       "<Figure size 720x720 with 1 Axes>"
      ]
     },
     "metadata": {
      "needs_background": "light"
     },
     "output_type": "display_data"
    }
   ],
   "source": [
    "plt.figure(figsize=(10, 10))\n",
    "plot_tree(clf, feature_names=X.columns)\n",
    "plt.show()"
   ]
  },
  {
   "cell_type": "markdown",
   "id": "b6af0ccf",
   "metadata": {},
   "source": [
    "Perform Cost Complexity Pruning."
   ]
  },
  {
   "cell_type": "code",
   "execution_count": 24,
   "id": "fd7442bd",
   "metadata": {},
   "outputs": [
    {
     "data": {
      "text/plain": [
       "Text(0, 0.5, 'total impurity of leaves')"
      ]
     },
     "execution_count": 24,
     "metadata": {},
     "output_type": "execute_result"
    },
    {
     "data": {
      "image/png": "[encoded data removed]",
      "text/plain": [
       "<Figure size 432x288 with 1 Axes>"
      ]
     },
     "metadata": {
      "needs_background": "light"
     },
     "output_type": "display_data"
    }
   ],
   "source": [
    "path = clf.cost_complexity_pruning_path(X_train, y_train)\n",
    "ccp_alphas, impurities = path.ccp_alphas, path.impurities\n",
    "\n",
    "plt.plot(ccp_alphas, impurities)\n",
    "plt.xlabel(\"alpha\")\n",
    "plt.ylabel(\"total impurity of leaves\")"
   ]
  },
  {
   "cell_type": "code",
   "execution_count": 25,
   "id": "fdd6476a",
   "metadata": {},
   "outputs": [
    {
     "name": "stdout",
     "output_type": "stream",
     "text": [
      "DecisionTreeClassifier(ccp_alpha=0.006131108400591698, random_state=50)\n"
     ]
    }
   ],
   "source": [
    "clfs = []\n",
    "dt_acc_list = []\n",
    "folds = np.random.choice(a = 10, size = cv_df.shape[0])\n",
    "\n",
    "for ccp_alpha in ccp_alphas[:-1]:\n",
    "    fold_accuracies = []\n",
    "    for i in range(10):\n",
    "        val = cv_df.iloc[np.where(folds == i)[0],:]\n",
    "        train = cv_df.iloc[np.where(folds != i)[0],:]\n",
    "\n",
    "        Xtrain = train.drop(['BuyRating'],axis=1)\n",
    "        ytrain = train[['BuyRating']]\n",
    "        clf = DecisionTreeClassifier(random_state=50, ccp_alpha=ccp_alpha)\n",
    "        clf.fit(Xtrain, ytrain)\n",
    "\n",
    "        Xval = val.drop(['BuyRating'],axis=1)\n",
    "        yval = val[['BuyRating']]\n",
    "\n",
    "        fold_accuracies.append(clf.score(Xval, yval))\n",
    "    dt_acc_list.append(np.mean(fold_accuracies))\n",
    "    clfs.append(clf)\n",
    "\n",
    "print(clfs[np.argmax(dt_acc_list)])"
   ]
  },
  {
   "cell_type": "code",
   "execution_count": 26,
   "id": "06a6e4b5",
   "metadata": {},
   "outputs": [
    {
     "data": {
      "text/plain": [
       "Text(0, 0.5, 'Accuracy scores')"
      ]
     },
     "execution_count": 26,
     "metadata": {},
     "output_type": "execute_result"
    },
    {
     "data": {
      "image/png": "[encoded data removed]",
      "text/plain": [
       "<Figure size 432x288 with 1 Axes>"
      ]
     },
     "metadata": {
      "needs_background": "light"
     },
     "output_type": "display_data"
    }
   ],
   "source": [
    "acc_scores = [clf.score(X_val, y_val) for clf in clfs]\n",
    "\n",
    "plt.grid()\n",
    "plt.plot(ccp_alphas[:-1], acc_scores)\n",
    "plt.xlabel(\"alpha\")\n",
    "plt.ylabel(\"Accuracy scores\")"
   ]
  },
  {
   "cell_type": "code",
   "execution_count": 27,
   "id": "50232686",
   "metadata": {},
   "outputs": [
    {
     "data": {
      "text/plain": [
       "Text(0, 0.5, 'total depth')"
      ]
     },
     "execution_count": 27,
     "metadata": {},
     "output_type": "execute_result"
    },
    {
     "data": {
      "image/png": "[encoded data removed]",
      "text/plain": [
       "<Figure size 720x432 with 1 Axes>"
      ]
     },
     "metadata": {
      "needs_background": "light"
     },
     "output_type": "display_data"
    }
   ],
   "source": [
    "tree_depths = [clf.tree_.max_depth for clf in clfs]\n",
    "plt.figure(figsize=(10,  6))\n",
    "plt.plot(ccp_alphas[:-1], tree_depths)\n",
    "plt.xlabel(\"effective alpha\")\n",
    "plt.ylabel(\"total depth\")"
   ]
  },
  {
   "cell_type": "code",
   "execution_count": 28,
   "id": "b59c406f",
   "metadata": {},
   "outputs": [
    {
     "name": "stdout",
     "output_type": "stream",
     "text": [
      "Training Accuracy: 0.7300884955752213\n",
      "Val Accuracy: 0.6597938144329897\n"
     ]
    }
   ],
   "source": [
    "optimal_clf = clfs[np.argmax(dt_acc_list)]\n",
    "\n",
    "train_acc = optimal_clf.score(X_train,y_train)\n",
    "val_acc = optimal_clf.score(X_val, y_val)\n",
    "\n",
    "print(f'Training Accuracy: {train_acc}')\n",
    "print(f'Val Accuracy: {val_acc}')"
   ]
  },
  {
   "cell_type": "code",
   "execution_count": 29,
   "id": "0b8b444c",
   "metadata": {
    "scrolled": false
   },
   "outputs": [
    {
     "data": {
      "image/png": "[encoded data removed]",
      "text/plain": [
       "<Figure size 720x720 with 1 Axes>"
      ]
     },
     "metadata": {
      "needs_background": "light"
     },
     "output_type": "display_data"
    }
   ],
   "source": [
    "plt.figure(figsize=(10, 10))\n",
    "plot_tree(optimal_clf, feature_names=X.columns)\n",
    "plt.show()"
   ]
  },
  {
   "cell_type": "markdown",
   "id": "57a1ea7c",
   "metadata": {},
   "source": [
    "# Random Forest\n",
    "We will use a validation set to limit computational intensity. This increases the risk of overfitting the model, but this will be mitigated by checking the stability of the hyperperameters. Adjustments will be made in the case that the model was fit on hyperparameter values that performed better on the validation set likely due to chance.\n",
    "\n",
    "First, set n_estimators to 1500 to fit and validate various max_depth values."
   ]
  },
  {
   "cell_type": "code",
   "execution_count": 30,
   "id": "d24923be",
   "metadata": {},
   "outputs": [
    {
     "name": "stderr",
     "output_type": "stream",
     "text": [
      "<ipython-input-30-8a96e84c2361>:8: DataConversionWarning: A column-vector y was passed when a 1d array was expected. Please change the shape of y to (n_samples,), for example using ravel().\n",
      "  rf.fit(X_train,y_train)\n",
      "<ipython-input-30-8a96e84c2361>:8: DataConversionWarning: A column-vector y was passed when a 1d array was expected. Please change the shape of y to (n_samples,), for example using ravel().\n",
      "  rf.fit(X_train,y_train)\n",
      "<ipython-input-30-8a96e84c2361>:8: DataConversionWarning: A column-vector y was passed when a 1d array was expected. Please change the shape of y to (n_samples,), for example using ravel().\n",
      "  rf.fit(X_train,y_train)\n",
      "<ipython-input-30-8a96e84c2361>:8: DataConversionWarning: A column-vector y was passed when a 1d array was expected. Please change the shape of y to (n_samples,), for example using ravel().\n",
      "  rf.fit(X_train,y_train)\n",
      "<ipython-input-30-8a96e84c2361>:8: DataConversionWarning: A column-vector y was passed when a 1d array was expected. Please change the shape of y to (n_samples,), for example using ravel().\n",
      "  rf.fit(X_train,y_train)\n",
      "<ipython-input-30-8a96e84c2361>:8: DataConversionWarning: A column-vector y was passed when a 1d array was expected. Please change the shape of y to (n_samples,), for example using ravel().\n",
      "  rf.fit(X_train,y_train)\n",
      "<ipython-input-30-8a96e84c2361>:8: DataConversionWarning: A column-vector y was passed when a 1d array was expected. Please change the shape of y to (n_samples,), for example using ravel().\n",
      "  rf.fit(X_train,y_train)\n",
      "<ipython-input-30-8a96e84c2361>:8: DataConversionWarning: A column-vector y was passed when a 1d array was expected. Please change the shape of y to (n_samples,), for example using ravel().\n",
      "  rf.fit(X_train,y_train)\n",
      "<ipython-input-30-8a96e84c2361>:8: DataConversionWarning: A column-vector y was passed when a 1d array was expected. Please change the shape of y to (n_samples,), for example using ravel().\n",
      "  rf.fit(X_train,y_train)\n",
      "<ipython-input-30-8a96e84c2361>:8: DataConversionWarning: A column-vector y was passed when a 1d array was expected. Please change the shape of y to (n_samples,), for example using ravel().\n",
      "  rf.fit(X_train,y_train)\n",
      "<ipython-input-30-8a96e84c2361>:8: DataConversionWarning: A column-vector y was passed when a 1d array was expected. Please change the shape of y to (n_samples,), for example using ravel().\n",
      "  rf.fit(X_train,y_train)\n",
      "<ipython-input-30-8a96e84c2361>:8: DataConversionWarning: A column-vector y was passed when a 1d array was expected. Please change the shape of y to (n_samples,), for example using ravel().\n",
      "  rf.fit(X_train,y_train)\n",
      "<ipython-input-30-8a96e84c2361>:8: DataConversionWarning: A column-vector y was passed when a 1d array was expected. Please change the shape of y to (n_samples,), for example using ravel().\n",
      "  rf.fit(X_train,y_train)\n",
      "<ipython-input-30-8a96e84c2361>:8: DataConversionWarning: A column-vector y was passed when a 1d array was expected. Please change the shape of y to (n_samples,), for example using ravel().\n",
      "  rf.fit(X_train,y_train)\n",
      "<ipython-input-30-8a96e84c2361>:8: DataConversionWarning: A column-vector y was passed when a 1d array was expected. Please change the shape of y to (n_samples,), for example using ravel().\n",
      "  rf.fit(X_train,y_train)\n",
      "<ipython-input-30-8a96e84c2361>:8: DataConversionWarning: A column-vector y was passed when a 1d array was expected. Please change the shape of y to (n_samples,), for example using ravel().\n",
      "  rf.fit(X_train,y_train)\n",
      "<ipython-input-30-8a96e84c2361>:8: DataConversionWarning: A column-vector y was passed when a 1d array was expected. Please change the shape of y to (n_samples,), for example using ravel().\n",
      "  rf.fit(X_train,y_train)\n",
      "<ipython-input-30-8a96e84c2361>:8: DataConversionWarning: A column-vector y was passed when a 1d array was expected. Please change the shape of y to (n_samples,), for example using ravel().\n",
      "  rf.fit(X_train,y_train)\n",
      "<ipython-input-30-8a96e84c2361>:8: DataConversionWarning: A column-vector y was passed when a 1d array was expected. Please change the shape of y to (n_samples,), for example using ravel().\n",
      "  rf.fit(X_train,y_train)\n",
      "<ipython-input-30-8a96e84c2361>:8: DataConversionWarning: A column-vector y was passed when a 1d array was expected. Please change the shape of y to (n_samples,), for example using ravel().\n",
      "  rf.fit(X_train,y_train)\n",
      "<ipython-input-30-8a96e84c2361>:8: DataConversionWarning: A column-vector y was passed when a 1d array was expected. Please change the shape of y to (n_samples,), for example using ravel().\n",
      "  rf.fit(X_train,y_train)\n",
      "<ipython-input-30-8a96e84c2361>:8: DataConversionWarning: A column-vector y was passed when a 1d array was expected. Please change the shape of y to (n_samples,), for example using ravel().\n",
      "  rf.fit(X_train,y_train)\n"
     ]
    }
   ],
   "source": [
    "rfs_md = []\n",
    "rfs_md_acc = []\n",
    "for i in range(1,23):\n",
    "    rf = RandomForestClassifier(n_estimators=1500,\n",
    "                            max_depth=i,\n",
    "                            oob_score=True,\n",
    "                            random_state=50)\n",
    "    rf.fit(X_train,y_train)\n",
    "    rfs_md.append(rf)\n",
    "    rfs_md_acc.append(rf.score(X_val, y_val))"
   ]
  },
  {
   "cell_type": "code",
   "execution_count": 31,
   "id": "2781babd",
   "metadata": {},
   "outputs": [
    {
     "data": {
      "text/plain": [
       "15"
      ]
     },
     "execution_count": 31,
     "metadata": {},
     "output_type": "execute_result"
    }
   ],
   "source": [
    "opt_md = rfs_md[np.argmax(rfs_md_acc)].max_depth\n",
    "opt_md"
   ]
  },
  {
   "cell_type": "markdown",
   "id": "0fa063a1",
   "metadata": {},
   "source": [
    "Fit fodel with the optimal max_depth, and display validation accuracy."
   ]
  },
  {
   "cell_type": "code",
   "execution_count": 32,
   "id": "ecb7d0a6",
   "metadata": {},
   "outputs": [
    {
     "name": "stderr",
     "output_type": "stream",
     "text": [
      "<ipython-input-32-0077d6d7201c>:5: DataConversionWarning: A column-vector y was passed when a 1d array was expected. Please change the shape of y to (n_samples,), for example using ravel().\n",
      "  opt_rf = rf.fit(X_train,y_train)\n"
     ]
    }
   ],
   "source": [
    "rf = RandomForestClassifier(n_estimators=1500,\n",
    "                        max_depth=opt_md,\n",
    "                        oob_score=True,\n",
    "                        random_state=50)\n",
    "opt_rf = rf.fit(X_train,y_train)"
   ]
  },
  {
   "cell_type": "code",
   "execution_count": 33,
   "id": "05a08188",
   "metadata": {},
   "outputs": [
    {
     "name": "stdout",
     "output_type": "stream",
     "text": [
      "Validation accuracy for Random Forest: 0.6907216494845361\n"
     ]
    }
   ],
   "source": [
    "print(\"Validation accuracy for Random Forest:\", opt_rf.score(X_val, y_val))"
   ]
  },
  {
   "cell_type": "markdown",
   "id": "16145f5e",
   "metadata": {},
   "source": [
    "Using the optimal max_depth value, iterate through various n_estimator values, selecting the optimal."
   ]
  },
  {
   "cell_type": "code",
   "execution_count": 34,
   "id": "3ebf7f58",
   "metadata": {},
   "outputs": [
    {
     "name": "stderr",
     "output_type": "stream",
     "text": [
      "<ipython-input-34-afef6634152f>:8: DataConversionWarning: A column-vector y was passed when a 1d array was expected. Please change the shape of y to (n_samples,), for example using ravel().\n",
      "  rf.fit(X_train,y_train)\n",
      "<ipython-input-34-afef6634152f>:8: DataConversionWarning: A column-vector y was passed when a 1d array was expected. Please change the shape of y to (n_samples,), for example using ravel().\n",
      "  rf.fit(X_train,y_train)\n",
      "<ipython-input-34-afef6634152f>:8: DataConversionWarning: A column-vector y was passed when a 1d array was expected. Please change the shape of y to (n_samples,), for example using ravel().\n",
      "  rf.fit(X_train,y_train)\n",
      "<ipython-input-34-afef6634152f>:8: DataConversionWarning: A column-vector y was passed when a 1d array was expected. Please change the shape of y to (n_samples,), for example using ravel().\n",
      "  rf.fit(X_train,y_train)\n",
      "<ipython-input-34-afef6634152f>:8: DataConversionWarning: A column-vector y was passed when a 1d array was expected. Please change the shape of y to (n_samples,), for example using ravel().\n",
      "  rf.fit(X_train,y_train)\n",
      "<ipython-input-34-afef6634152f>:8: DataConversionWarning: A column-vector y was passed when a 1d array was expected. Please change the shape of y to (n_samples,), for example using ravel().\n",
      "  rf.fit(X_train,y_train)\n",
      "<ipython-input-34-afef6634152f>:8: DataConversionWarning: A column-vector y was passed when a 1d array was expected. Please change the shape of y to (n_samples,), for example using ravel().\n",
      "  rf.fit(X_train,y_train)\n",
      "<ipython-input-34-afef6634152f>:8: DataConversionWarning: A column-vector y was passed when a 1d array was expected. Please change the shape of y to (n_samples,), for example using ravel().\n",
      "  rf.fit(X_train,y_train)\n",
      "<ipython-input-34-afef6634152f>:8: DataConversionWarning: A column-vector y was passed when a 1d array was expected. Please change the shape of y to (n_samples,), for example using ravel().\n",
      "  rf.fit(X_train,y_train)\n",
      "<ipython-input-34-afef6634152f>:8: DataConversionWarning: A column-vector y was passed when a 1d array was expected. Please change the shape of y to (n_samples,), for example using ravel().\n",
      "  rf.fit(X_train,y_train)\n"
     ]
    }
   ],
   "source": [
    "rfs = []\n",
    "rfs_n_est_acc = []\n",
    "for i in range(1000,2000,100):\n",
    "    rf = RandomForestClassifier(n_estimators=i,\n",
    "                            max_depth=12,\n",
    "                            oob_score=True,\n",
    "                            random_state=50)\n",
    "    rf.fit(X_train,y_train)\n",
    "    rfs.append(rf)\n",
    "    rfs_n_est_acc.append(rf.score(X_val, y_val))"
   ]
  },
  {
   "cell_type": "markdown",
   "id": "1ee94973",
   "metadata": {},
   "source": [
    "Fit fodel with the optimal max_depth and n_estimators, and display validation accuracy."
   ]
  },
  {
   "cell_type": "code",
   "execution_count": 35,
   "id": "e224b0ee",
   "metadata": {},
   "outputs": [
    {
     "data": {
      "text/plain": [
       "1100"
      ]
     },
     "execution_count": 35,
     "metadata": {},
     "output_type": "execute_result"
    }
   ],
   "source": [
    "opt_n_estimators = rfs[np.argmax(rfs_n_est_acc)].n_estimators\n",
    "opt_n_estimators"
   ]
  },
  {
   "cell_type": "code",
   "execution_count": 36,
   "id": "bdda19ef",
   "metadata": {
    "scrolled": true
   },
   "outputs": [
    {
     "name": "stdout",
     "output_type": "stream",
     "text": [
      "Validation accuracy for Random Forest: 0.6907216494845361\n"
     ]
    }
   ],
   "source": [
    "print(\"Validation accuracy for Random Forest:\", opt_rf.score(X_val, y_val))"
   ]
  },
  {
   "cell_type": "code",
   "execution_count": 37,
   "id": "0c1c5aca",
   "metadata": {},
   "outputs": [
    {
     "name": "stderr",
     "output_type": "stream",
     "text": [
      "<ipython-input-37-87284c1ae7b9>:5: DataConversionWarning: A column-vector y was passed when a 1d array was expected. Please change the shape of y to (n_samples,), for example using ravel().\n",
      "  opt_rf = rf.fit(X_train,y_train)\n"
     ]
    }
   ],
   "source": [
    "rf = RandomForestClassifier(n_estimators=opt_n_estimators,\n",
    "                        max_depth=opt_md,\n",
    "                        oob_score=True,\n",
    "                        random_state=50)\n",
    "opt_rf = rf.fit(X_train,y_train)"
   ]
  },
  {
   "cell_type": "markdown",
   "id": "d6513697",
   "metadata": {},
   "source": [
    "Check the stability of the random forest's hyperparameters to make sure the model is not overfit, and will generalize well to new data. This will be important because I did not do the more comprehensive cross-validation process."
   ]
  },
  {
   "cell_type": "code",
   "execution_count": 38,
   "id": "fdac1e8e",
   "metadata": {},
   "outputs": [
    {
     "data": {
      "text/plain": [
       "Text(0.5, 0, 'N_Estimators')"
      ]
     },
     "execution_count": 38,
     "metadata": {},
     "output_type": "execute_result"
    },
    {
     "data": {
      "image/png": "[encoded data removed]",
      "text/plain": [
       "<Figure size 432x288 with 1 Axes>"
      ]
     },
     "metadata": {
      "needs_background": "light"
     },
     "output_type": "display_data"
    }
   ],
   "source": [
    "rf_n_est = []\n",
    "rf_scores = []\n",
    "\n",
    "for rf in rfs:\n",
    "    rf_n_est.append(rf.n_estimators)\n",
    "    rf_scores.append(rf.score(X_val, y_val))\n",
    "\n",
    "plt.plot(np.arange(min(rf_n_est), max(rf_n_est) + 1, 100), rf_scores)\n",
    "plt.ylabel(\"Accuracy\")\n",
    "plt.xlabel(\"N_Estimators\")"
   ]
  },
  {
   "cell_type": "code",
   "execution_count": 39,
   "id": "9f2eb8fb",
   "metadata": {},
   "outputs": [
    {
     "data": {
      "text/plain": [
       "Text(0.5, 0, 'Max Depth')"
      ]
     },
     "execution_count": 39,
     "metadata": {},
     "output_type": "execute_result"
    },
    {
     "data": {
      "image/png": "[encoded data removed]",
      "text/plain": [
       "<Figure size 432x288 with 1 Axes>"
      ]
     },
     "metadata": {
      "needs_background": "light"
     },
     "output_type": "display_data"
    }
   ],
   "source": [
    "max_depths = []\n",
    "\n",
    "for rf in rfs_md:\n",
    "    max_depths.append(rf.max_depth)\n",
    "\n",
    "plt.plot(np.arange(min(max_depths), max(max_depths) + 1, 1), rfs_md_acc)\n",
    "plt.ylabel(\"Accuracy\")\n",
    "plt.xlabel(\"Max Depth\")"
   ]
  },
  {
   "cell_type": "markdown",
   "id": "da8e29a7",
   "metadata": {},
   "source": [
    "The hyperparameters are clearly set at peaks, which means the model will be more likely to be overfit to the data.\n",
    "\n",
    "n_estimators = 1600 and max_depth = 5 appears to be more stable. I will use these values."
   ]
  },
  {
   "cell_type": "code",
   "execution_count": 61,
   "id": "df208644",
   "metadata": {},
   "outputs": [
    {
     "name": "stderr",
     "output_type": "stream",
     "text": [
      "<ipython-input-61-71c7d20b3c87>:5: DataConversionWarning: A column-vector y was passed when a 1d array was expected. Please change the shape of y to (n_samples,), for example using ravel().\n",
      "  opt_rf = rf.fit(X_train,y_train)\n"
     ]
    }
   ],
   "source": [
    "rf = RandomForestClassifier(n_estimators=1600,\n",
    "                        max_depth=5,\n",
    "                        oob_score=True,\n",
    "                        random_state=50)\n",
    "opt_rf = rf.fit(X_train,y_train)"
   ]
  },
  {
   "cell_type": "code",
   "execution_count": 41,
   "id": "bbbf2dd0",
   "metadata": {},
   "outputs": [
    {
     "name": "stdout",
     "output_type": "stream",
     "text": [
      "Validation accuracy for Random Forest: 0.6701030927835051\n"
     ]
    }
   ],
   "source": [
    "print(\"Validation accuracy for Random Forest:\", opt_rf.score(X_val, y_val))"
   ]
  },
  {
   "cell_type": "markdown",
   "id": "80e433a8",
   "metadata": {},
   "source": [
    "They still performed well on the validation set when paired together. We will keep this as the final random forest model."
   ]
  },
  {
   "cell_type": "code",
   "execution_count": 104,
   "id": "ee11ce3c",
   "metadata": {},
   "outputs": [],
   "source": [
    "params_grid = [{'kernel': ['linear'], 'C': [1, 10]}]"
   ]
  },
  {
   "cell_type": "code",
   "execution_count": 105,
   "id": "58660b42",
   "metadata": {},
   "outputs": [
    {
     "name": "stdout",
     "output_type": "stream",
     "text": [
      "Fitting 5 folds for each of 2 candidates, totalling 10 fits\n"
     ]
    },
    {
     "name": "stderr",
     "output_type": "stream",
     "text": [
      "C:\\Users\\light\\anaconda3\\lib\\site-packages\\sklearn\\utils\\validation.py:1111: DataConversionWarning: A column-vector y was passed when a 1d array was expected. Please change the shape of y to (n_samples, ), for example using ravel().\n",
      "  y = column_or_1d(y, warn=True)\n"
     ]
    },
    {
     "data": {
      "text/html": [
       "<style>#sk-container-id-1 {color: black;background-color: white;}#sk-container-id-1 pre{padding: 0;}#sk-container-id-1 div.sk-toggleable {background-color: white;}#sk-container-id-1 label.sk-toggleable__label {cursor: pointer;display: block;width: 100%;margin-bottom: 0;padding: 0.3em;box-sizing: border-box;text-align: center;}#sk-container-id-1 label.sk-toggleable__label-arrow:before {content: \"▸\";float: left;margin-right: 0.25em;color: #696969;}#sk-container-id-1 label.sk-toggleable__label-arrow:hover:before {color: black;}#sk-container-id-1 div.sk-estimator:hover label.sk-toggleable__label-arrow:before {color: black;}#sk-container-id-1 div.sk-toggleable__content {max-height: 0;max-width: 0;overflow: hidden;text-align: left;background-color: #f0f8ff;}#sk-container-id-1 div.sk-toggleable__content pre {margin: 0.2em;color: black;border-radius: 0.25em;background-color: #f0f8ff;}#sk-container-id-1 input.sk-toggleable__control:checked~div.sk-toggleable__content {max-height: 200px;max-width: 100%;overflow: auto;}#sk-container-id-1 input.sk-toggleable__control:checked~label.sk-toggleable__label-arrow:before {content: \"▾\";}#sk-container-id-1 div.sk-estimator input.sk-toggleable__control:checked~label.sk-toggleable__label {background-color: #d4ebff;}#sk-container-id-1 div.sk-label input.sk-toggleable__control:checked~label.sk-toggleable__label {background-color: #d4ebff;}#sk-container-id-1 input.sk-hidden--visually {border: 0;clip: rect(1px 1px 1px 1px);clip: rect(1px, 1px, 1px, 1px);height: 1px;margin: -1px;overflow: hidden;padding: 0;position: absolute;width: 1px;}#sk-container-id-1 div.sk-estimator {font-family: monospace;background-color: #f0f8ff;border: 1px dotted black;border-radius: 0.25em;box-sizing: border-box;margin-bottom: 0.5em;}#sk-container-id-1 div.sk-estimator:hover {background-color: #d4ebff;}#sk-container-id-1 div.sk-parallel-item::after {content: \"\";width: 100%;border-bottom: 1px solid gray;flex-grow: 1;}#sk-container-id-1 div.sk-label:hover label.sk-toggleable__label {background-color: #d4ebff;}#sk-container-id-1 div.sk-serial::before {content: \"\";position: absolute;border-left: 1px solid gray;box-sizing: border-box;top: 0;bottom: 0;left: 50%;z-index: 0;}#sk-container-id-1 div.sk-serial {display: flex;flex-direction: column;align-items: center;background-color: white;padding-right: 0.2em;padding-left: 0.2em;position: relative;}#sk-container-id-1 div.sk-item {position: relative;z-index: 1;}#sk-container-id-1 div.sk-parallel {display: flex;align-items: stretch;justify-content: center;background-color: white;position: relative;}#sk-container-id-1 div.sk-item::before, #sk-container-id-1 div.sk-parallel-item::before {content: \"\";position: absolute;border-left: 1px solid gray;box-sizing: border-box;top: 0;bottom: 0;left: 50%;z-index: -1;}#sk-container-id-1 div.sk-parallel-item {display: flex;flex-direction: column;z-index: 1;position: relative;background-color: white;}#sk-container-id-1 div.sk-parallel-item:first-child::after {align-self: flex-end;width: 50%;}#sk-container-id-1 div.sk-parallel-item:last-child::after {align-self: flex-start;width: 50%;}#sk-container-id-1 div.sk-parallel-item:only-child::after {width: 0;}#sk-container-id-1 div.sk-dashed-wrapped {border: 1px dashed gray;margin: 0 0.4em 0.5em 0.4em;box-sizing: border-box;padding-bottom: 0.4em;background-color: white;}#sk-container-id-1 div.sk-label label {font-family: monospace;font-weight: bold;display: inline-block;line-height: 1.2em;}#sk-container-id-1 div.sk-label-container {text-align: center;}#sk-container-id-1 div.sk-container {/* jupyter's `normalize.less` sets `[hidden] { display: none; }` but bootstrap.min.css set `[hidden] { display: none !important; }` so we also need the `!important` here to be able to override the default hidden behavior on the sphinx rendered scikit-learn.org. See: https://github.com/scikit-learn/scikit-learn/issues/21755 */display: inline-block !important;position: relative;}#sk-container-id-1 div.sk-text-repr-fallback {display: none;}</style><div id=\"sk-container-id-1\" class=\"sk-top-container\"><div class=\"sk-text-repr-fallback\"><pre>GridSearchCV(cv=5, estimator=SVC(), n_jobs=-1,\n",
       "             param_grid=[{&#x27;C&#x27;: [1, 10], &#x27;kernel&#x27;: [&#x27;linear&#x27;]}], verbose=4)</pre><b>In a Jupyter environment, please rerun this cell to show the HTML representation or trust the notebook. <br />On GitHub, the HTML representation is unable to render, please try loading this page with nbviewer.org.</b></div><div class=\"sk-container\" hidden><div class=\"sk-item sk-dashed-wrapped\"><div class=\"sk-label-container\"><div class=\"sk-label sk-toggleable\"><input class=\"sk-toggleable__control sk-hidden--visually\" id=\"sk-estimator-id-1\" type=\"checkbox\" ><label for=\"sk-estimator-id-1\" class=\"sk-toggleable__label sk-toggleable__label-arrow\">GridSearchCV</label><div class=\"sk-toggleable__content\"><pre>GridSearchCV(cv=5, estimator=SVC(), n_jobs=-1,\n",
       "             param_grid=[{&#x27;C&#x27;: [1, 10], &#x27;kernel&#x27;: [&#x27;linear&#x27;]}], verbose=4)</pre></div></div></div><div class=\"sk-parallel\"><div class=\"sk-parallel-item\"><div class=\"sk-item\"><div class=\"sk-label-container\"><div class=\"sk-label sk-toggleable\"><input class=\"sk-toggleable__control sk-hidden--visually\" id=\"sk-estimator-id-2\" type=\"checkbox\" ><label for=\"sk-estimator-id-2\" class=\"sk-toggleable__label sk-toggleable__label-arrow\">estimator: SVC</label><div class=\"sk-toggleable__content\"><pre>SVC()</pre></div></div></div><div class=\"sk-serial\"><div class=\"sk-item\"><div class=\"sk-estimator sk-toggleable\"><input class=\"sk-toggleable__control sk-hidden--visually\" id=\"sk-estimator-id-3\" type=\"checkbox\" ><label for=\"sk-estimator-id-3\" class=\"sk-toggleable__label sk-toggleable__label-arrow\">SVC</label><div class=\"sk-toggleable__content\"><pre>SVC()</pre></div></div></div></div></div></div></div></div></div></div>"
      ],
      "text/plain": [
       "GridSearchCV(cv=5, estimator=SVC(), n_jobs=-1,\n",
       "             param_grid=[{'C': [1, 10], 'kernel': ['linear']}], verbose=4)"
      ]
     },
     "execution_count": 105,
     "metadata": {},
     "output_type": "execute_result"
    }
   ],
   "source": [
    "lin_svm_model = GridSearchCV(SVC(), params_grid, cv=5, n_jobs=-1, verbose=4)\n",
    "lin_svm_model.fit(X_train, y_train)"
   ]
  },
  {
   "cell_type": "code",
   "execution_count": 106,
   "id": "839a91af",
   "metadata": {},
   "outputs": [
    {
     "data": {
      "text/plain": [
       "{'mean_fit_time': array([0.02669754, 0.04543467]),\n",
       " 'std_fit_time': array([0.00410974, 0.02145689]),\n",
       " 'mean_score_time': array([0.0085217 , 0.00377498]),\n",
       " 'std_score_time': array([0.00360758, 0.00571453]),\n",
       " 'param_C': masked_array(data=[1, 10],\n",
       "              mask=[False, False],\n",
       "        fill_value='?',\n",
       "             dtype=object),\n",
       " 'param_kernel': masked_array(data=['linear', 'linear'],\n",
       "              mask=[False, False],\n",
       "        fill_value='?',\n",
       "             dtype=object),\n",
       " 'params': [{'C': 1, 'kernel': 'linear'}, {'C': 10, 'kernel': 'linear'}],\n",
       " 'split0_test_score': array([0.6043956 , 0.61538462]),\n",
       " 'split1_test_score': array([0.56043956, 0.54945055]),\n",
       " 'split2_test_score': array([0.64444444, 0.63333333]),\n",
       " 'split3_test_score': array([0.61111111, 0.63333333]),\n",
       " 'split4_test_score': array([0.58888889, 0.6       ]),\n",
       " 'mean_test_score': array([0.60185592, 0.60630037]),\n",
       " 'std_test_score': array([0.02752944, 0.03103444]),\n",
       " 'rank_test_score': array([2, 1])}"
      ]
     },
     "execution_count": 106,
     "metadata": {},
     "output_type": "execute_result"
    }
   ],
   "source": [
    "lin_svm_model.cv_results_"
   ]
  },
  {
   "cell_type": "code",
   "execution_count": 107,
   "id": "8fd023e5",
   "metadata": {},
   "outputs": [
    {
     "name": "stdout",
     "output_type": "stream",
     "text": [
      "Best score for training data: 0.6063003663003663\n"
     ]
    }
   ],
   "source": [
    "print('Best score for training data:', lin_svm_model.best_score_)"
   ]
  },
  {
   "cell_type": "markdown",
   "id": "1eb3dceb",
   "metadata": {},
   "source": [
    "Try an RBF SVM. Ran these separately to monitor run time."
   ]
  },
  {
   "cell_type": "code",
   "execution_count": 117,
   "id": "43d58611",
   "metadata": {},
   "outputs": [],
   "source": [
    "params_grid = [{'kernel': ['rbf'], 'C': [0, .5, 1, 5]}]"
   ]
  },
  {
   "cell_type": "code",
   "execution_count": 118,
   "id": "650623cf",
   "metadata": {},
   "outputs": [
    {
     "name": "stdout",
     "output_type": "stream",
     "text": [
      "Fitting 5 folds for each of 4 candidates, totalling 20 fits\n"
     ]
    },
    {
     "name": "stderr",
     "output_type": "stream",
     "text": [
      "C:\\Users\\light\\anaconda3\\lib\\site-packages\\sklearn\\model_selection\\_validation.py:378: FitFailedWarning: \n",
      "5 fits failed out of a total of 20.\n",
      "The score on these train-test partitions for these parameters will be set to nan.\n",
      "If these failures are not expected, you can try to debug them by setting error_score='raise'.\n",
      "\n",
      "Below are more details about the failures:\n",
      "--------------------------------------------------------------------------------\n",
      "5 fits failed with the following error:\n",
      "Traceback (most recent call last):\n",
      "  File \"C:\\Users\\light\\anaconda3\\lib\\site-packages\\sklearn\\model_selection\\_validation.py\", line 686, in _fit_and_score\n",
      "    estimator.fit(X_train, y_train, **fit_params)\n",
      "  File \"C:\\Users\\light\\anaconda3\\lib\\site-packages\\sklearn\\svm\\_base.py\", line 251, in fit\n",
      "    fit(X, y, sample_weight, solver_type, kernel, random_seed=seed)\n",
      "  File \"C:\\Users\\light\\anaconda3\\lib\\site-packages\\sklearn\\svm\\_base.py\", line 333, in _dense_fit\n",
      "    ) = libsvm.fit(\n",
      "  File \"sklearn\\svm\\_libsvm.pyx\", line 192, in sklearn.svm._libsvm.fit\n",
      "ValueError: C <= 0\n",
      "\n",
      "  warnings.warn(some_fits_failed_message, FitFailedWarning)\n",
      "C:\\Users\\light\\anaconda3\\lib\\site-packages\\sklearn\\model_selection\\_search.py:953: UserWarning: One or more of the test scores are non-finite: [       nan 0.59516484 0.5952381  0.57086691]\n",
      "  warnings.warn(\n",
      "C:\\Users\\light\\anaconda3\\lib\\site-packages\\sklearn\\utils\\validation.py:1111: DataConversionWarning: A column-vector y was passed when a 1d array was expected. Please change the shape of y to (n_samples, ), for example using ravel().\n",
      "  y = column_or_1d(y, warn=True)\n"
     ]
    },
    {
     "data": {
      "text/html": [
       "<style>#sk-container-id-6 {color: black;background-color: white;}#sk-container-id-6 pre{padding: 0;}#sk-container-id-6 div.sk-toggleable {background-color: white;}#sk-container-id-6 label.sk-toggleable__label {cursor: pointer;display: block;width: 100%;margin-bottom: 0;padding: 0.3em;box-sizing: border-box;text-align: center;}#sk-container-id-6 label.sk-toggleable__label-arrow:before {content: \"▸\";float: left;margin-right: 0.25em;color: #696969;}#sk-container-id-6 label.sk-toggleable__label-arrow:hover:before {color: black;}#sk-container-id-6 div.sk-estimator:hover label.sk-toggleable__label-arrow:before {color: black;}#sk-container-id-6 div.sk-toggleable__content {max-height: 0;max-width: 0;overflow: hidden;text-align: left;background-color: #f0f8ff;}#sk-container-id-6 div.sk-toggleable__content pre {margin: 0.2em;color: black;border-radius: 0.25em;background-color: #f0f8ff;}#sk-container-id-6 input.sk-toggleable__control:checked~div.sk-toggleable__content {max-height: 200px;max-width: 100%;overflow: auto;}#sk-container-id-6 input.sk-toggleable__control:checked~label.sk-toggleable__label-arrow:before {content: \"▾\";}#sk-container-id-6 div.sk-estimator input.sk-toggleable__control:checked~label.sk-toggleable__label {background-color: #d4ebff;}#sk-container-id-6 div.sk-label input.sk-toggleable__control:checked~label.sk-toggleable__label {background-color: #d4ebff;}#sk-container-id-6 input.sk-hidden--visually {border: 0;clip: rect(1px 1px 1px 1px);clip: rect(1px, 1px, 1px, 1px);height: 1px;margin: -1px;overflow: hidden;padding: 0;position: absolute;width: 1px;}#sk-container-id-6 div.sk-estimator {font-family: monospace;background-color: #f0f8ff;border: 1px dotted black;border-radius: 0.25em;box-sizing: border-box;margin-bottom: 0.5em;}#sk-container-id-6 div.sk-estimator:hover {background-color: #d4ebff;}#sk-container-id-6 div.sk-parallel-item::after {content: \"\";width: 100%;border-bottom: 1px solid gray;flex-grow: 1;}#sk-container-id-6 div.sk-label:hover label.sk-toggleable__label {background-color: #d4ebff;}#sk-container-id-6 div.sk-serial::before {content: \"\";position: absolute;border-left: 1px solid gray;box-sizing: border-box;top: 0;bottom: 0;left: 50%;z-index: 0;}#sk-container-id-6 div.sk-serial {display: flex;flex-direction: column;align-items: center;background-color: white;padding-right: 0.2em;padding-left: 0.2em;position: relative;}#sk-container-id-6 div.sk-item {position: relative;z-index: 1;}#sk-container-id-6 div.sk-parallel {display: flex;align-items: stretch;justify-content: center;background-color: white;position: relative;}#sk-container-id-6 div.sk-item::before, #sk-container-id-6 div.sk-parallel-item::before {content: \"\";position: absolute;border-left: 1px solid gray;box-sizing: border-box;top: 0;bottom: 0;left: 50%;z-index: -1;}#sk-container-id-6 div.sk-parallel-item {display: flex;flex-direction: column;z-index: 1;position: relative;background-color: white;}#sk-container-id-6 div.sk-parallel-item:first-child::after {align-self: flex-end;width: 50%;}#sk-container-id-6 div.sk-parallel-item:last-child::after {align-self: flex-start;width: 50%;}#sk-container-id-6 div.sk-parallel-item:only-child::after {width: 0;}#sk-container-id-6 div.sk-dashed-wrapped {border: 1px dashed gray;margin: 0 0.4em 0.5em 0.4em;box-sizing: border-box;padding-bottom: 0.4em;background-color: white;}#sk-container-id-6 div.sk-label label {font-family: monospace;font-weight: bold;display: inline-block;line-height: 1.2em;}#sk-container-id-6 div.sk-label-container {text-align: center;}#sk-container-id-6 div.sk-container {/* jupyter's `normalize.less` sets `[hidden] { display: none; }` but bootstrap.min.css set `[hidden] { display: none !important; }` so we also need the `!important` here to be able to override the default hidden behavior on the sphinx rendered scikit-learn.org. See: https://github.com/scikit-learn/scikit-learn/issues/21755 */display: inline-block !important;position: relative;}#sk-container-id-6 div.sk-text-repr-fallback {display: none;}</style><div id=\"sk-container-id-6\" class=\"sk-top-container\"><div class=\"sk-text-repr-fallback\"><pre>GridSearchCV(cv=5, estimator=SVC(), n_jobs=-1,\n",
       "             param_grid=[{&#x27;C&#x27;: [0, 0.5, 1, 5], &#x27;kernel&#x27;: [&#x27;rbf&#x27;]}], verbose=4)</pre><b>In a Jupyter environment, please rerun this cell to show the HTML representation or trust the notebook. <br />On GitHub, the HTML representation is unable to render, please try loading this page with nbviewer.org.</b></div><div class=\"sk-container\" hidden><div class=\"sk-item sk-dashed-wrapped\"><div class=\"sk-label-container\"><div class=\"sk-label sk-toggleable\"><input class=\"sk-toggleable__control sk-hidden--visually\" id=\"sk-estimator-id-16\" type=\"checkbox\" ><label for=\"sk-estimator-id-16\" class=\"sk-toggleable__label sk-toggleable__label-arrow\">GridSearchCV</label><div class=\"sk-toggleable__content\"><pre>GridSearchCV(cv=5, estimator=SVC(), n_jobs=-1,\n",
       "             param_grid=[{&#x27;C&#x27;: [0, 0.5, 1, 5], &#x27;kernel&#x27;: [&#x27;rbf&#x27;]}], verbose=4)</pre></div></div></div><div class=\"sk-parallel\"><div class=\"sk-parallel-item\"><div class=\"sk-item\"><div class=\"sk-label-container\"><div class=\"sk-label sk-toggleable\"><input class=\"sk-toggleable__control sk-hidden--visually\" id=\"sk-estimator-id-17\" type=\"checkbox\" ><label for=\"sk-estimator-id-17\" class=\"sk-toggleable__label sk-toggleable__label-arrow\">estimator: SVC</label><div class=\"sk-toggleable__content\"><pre>SVC()</pre></div></div></div><div class=\"sk-serial\"><div class=\"sk-item\"><div class=\"sk-estimator sk-toggleable\"><input class=\"sk-toggleable__control sk-hidden--visually\" id=\"sk-estimator-id-18\" type=\"checkbox\" ><label for=\"sk-estimator-id-18\" class=\"sk-toggleable__label sk-toggleable__label-arrow\">SVC</label><div class=\"sk-toggleable__content\"><pre>SVC()</pre></div></div></div></div></div></div></div></div></div></div>"
      ],
      "text/plain": [
       "GridSearchCV(cv=5, estimator=SVC(), n_jobs=-1,\n",
       "             param_grid=[{'C': [0, 0.5, 1, 5], 'kernel': ['rbf']}], verbose=4)"
      ]
     },
     "execution_count": 118,
     "metadata": {},
     "output_type": "execute_result"
    }
   ],
   "source": [
    "rbf_svm_model = GridSearchCV(SVC(), params_grid, cv=5, n_jobs=-1, verbose=4)\n",
    "rbf_svm_model.fit(X_train, y_train)"
   ]
  },
  {
   "cell_type": "code",
   "execution_count": 119,
   "id": "22e4bceb",
   "metadata": {},
   "outputs": [
    {
     "data": {
      "text/plain": [
       "{'mean_fit_time': array([0.0097014 , 0.02414069, 0.02373595, 0.01784544]),\n",
       " 'std_fit_time': array([0.00231541, 0.00266821, 0.0007845 , 0.00347559]),\n",
       " 'mean_score_time': array([0.        , 0.01091261, 0.01176863, 0.00743999]),\n",
       " 'std_score_time': array([0.        , 0.00196624, 0.00543385, 0.0049256 ]),\n",
       " 'param_C': masked_array(data=[0, 0.5, 1, 5],\n",
       "              mask=[False, False, False, False],\n",
       "        fill_value='?',\n",
       "             dtype=object),\n",
       " 'param_kernel': masked_array(data=['rbf', 'rbf', 'rbf', 'rbf'],\n",
       "              mask=[False, False, False, False],\n",
       "        fill_value='?',\n",
       "             dtype=object),\n",
       " 'params': [{'C': 0, 'kernel': 'rbf'},\n",
       "  {'C': 0.5, 'kernel': 'rbf'},\n",
       "  {'C': 1, 'kernel': 'rbf'},\n",
       "  {'C': 5, 'kernel': 'rbf'}],\n",
       " 'split0_test_score': array([       nan, 0.59340659, 0.54945055, 0.53846154]),\n",
       " 'split1_test_score': array([       nan, 0.58241758, 0.59340659, 0.57142857]),\n",
       " 'split2_test_score': array([       nan, 0.6       , 0.65555556, 0.6       ]),\n",
       " 'split3_test_score': array([       nan, 0.61111111, 0.62222222, 0.63333333]),\n",
       " 'split4_test_score': array([       nan, 0.58888889, 0.55555556, 0.51111111]),\n",
       " 'mean_test_score': array([       nan, 0.59516484, 0.5952381 , 0.57086691]),\n",
       " 'std_test_score': array([       nan, 0.0098248 , 0.04010211, 0.04329427]),\n",
       " 'rank_test_score': array([4, 2, 1, 3])}"
      ]
     },
     "execution_count": 119,
     "metadata": {},
     "output_type": "execute_result"
    }
   ],
   "source": [
    "rbf_svm_model.cv_results_"
   ]
  },
  {
   "cell_type": "code",
   "execution_count": 120,
   "id": "94b08733",
   "metadata": {
    "scrolled": true
   },
   "outputs": [
    {
     "name": "stdout",
     "output_type": "stream",
     "text": [
      "Best score for training data: 0.5952380952380952\n"
     ]
    }
   ],
   "source": [
    "print('Best score for training data:', rbf_svm_model.best_score_)"
   ]
  },
  {
   "cell_type": "markdown",
   "id": "6947f733",
   "metadata": {},
   "source": [
    "The Radial Basis Function Support Vector Machine did slightly worse than the linear kearnel did and both models did not surpass the Majority Class Classifier on their training set. It is not worth running these models on the validation or test sets.\n",
    "\n",
    "Here we will display the validation accuracies for each final model."
   ]
  },
  {
   "cell_type": "code",
   "execution_count": 62,
   "id": "d8638ac1",
   "metadata": {},
   "outputs": [
    {
     "name": "stdout",
     "output_type": "stream",
     "text": [
      "Validation Set Accuracies\n",
      "Logistic Regression: 0.6701030927835051\n",
      "Decision Tree: 0.6597938144329897\n",
      "Random Forest: 0.6804123711340206\n"
     ]
    }
   ],
   "source": [
    "predictors = models_fwd.loc[np.argmax(models_fwd['acc']) + 1, 'model'].model.exog_names\n",
    "preds = log_reg.predict(X_val[predictors])\n",
    "\n",
    "binary_preds = np.where(preds >= thresholds[np.argmax(acc_list)], 1, 0)\n",
    "\n",
    "print(\"Validation Set Accuracies\")\n",
    "print(\"Logistic Regression:\", accuracy_score(y_val, binary_preds))\n",
    "print(\"Decision Tree:\", optimal_clf.score(X_val, y_val))\n",
    "print(\"Random Forest:\", opt_rf.score(X_val, y_val))"
   ]
  },
  {
   "cell_type": "markdown",
   "id": "cbd887a2",
   "metadata": {},
   "source": [
    "The Random Forest and Logistic regression performed highly on the validation set. I would chose the Random Forest to predict the BuyRating on future photos because of its ability to generalize well to new data. The Logistic Regression clearly shows what is better in a photo, which can be implemented into the training of new photographers. The decision tree and the SVM's can be completely scrapped in this instance."
   ]
  },
  {
   "cell_type": "code",
   "execution_count": 122,
   "id": "52768035",
   "metadata": {},
   "outputs": [
    {
     "name": "stdout",
     "output_type": "stream",
     "text": [
      "Random Forest predictive accuracy on test set:  0.6804123711340206\n"
     ]
    }
   ],
   "source": [
    "print(\"Random Forest predictive accuracy on test set: \", opt_rf.score(X_test, y_test))"
   ]
  },
  {
   "cell_type": "markdown",
   "id": "1a9a4944",
   "metadata": {},
   "source": [
    "While there are less downloads than non-downloads, the imbalance is not significant. There is no difference between the consequence of false negatives and false positives. For these reasons, I have chosen to use accuracy as the measurement of model quality."
   ]
  }
 ],
 "metadata": {
  "kernelspec": {
   "display_name": "Python 3",
   "language": "python",
   "name": "python3"
  },
  "language_info": {
   "codemirror_mode": {
    "name": "ipython",
    "version": 3
   },
   "file_extension": ".py",
   "mimetype": "text/x-python",
   "name": "python",
   "nbconvert_exporter": "python",
   "pygments_lexer": "ipython3",
   "version": "3.8.8"
  }
 },
 "nbformat": 4,
 "nbformat_minor": 5
}
